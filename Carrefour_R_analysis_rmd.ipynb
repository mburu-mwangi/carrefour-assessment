{
  "nbformat": 4,
  "nbformat_minor": 0,
  "metadata": {
    "colab": {
      "name": "Carrefour_R_analysis.rmd",
      "provenance": [],
      "collapsed_sections": [],
      "toc_visible": true,
      "authorship_tag": "ABX9TyPqBPCX4jbgznSfgLH3lCdJ",
      "include_colab_link": true
    },
    "kernelspec": {
      "name": "ir",
      "display_name": "R"
    },
    "language_info": {
      "name": "R"
    }
  },
  "cells": [
    {
      "cell_type": "markdown",
      "metadata": {
        "id": "view-in-github",
        "colab_type": "text"
      },
      "source": [
        "<a href=\"https://colab.research.google.com/github/mburu-mwangi/carrefour-assessment/blob/main/Carrefour_R_analysis_rmd.ipynb\" target=\"_parent\"><img src=\"https://colab.research.google.com/assets/colab-badge.svg\" alt=\"Open In Colab\"/></a>"
      ]
    },
    {
      "cell_type": "markdown",
      "metadata": {
        "id": "kLG2VTrnTvYL"
      },
      "source": [
        "## 1. Defining the Question"
      ]
    },
    {
      "cell_type": "markdown",
      "metadata": {
        "id": "doXWr6-0kv-z"
      },
      "source": [
        "You are a Data analyst at Carrefour Kenya and are currently undertaking a project that will inform the marketing department on the most relevant marketing strategies that will result in the highest no. of sales (total price including tax). Your project has been divided into four parts where you'll explore a recent marketing dataset by performing various unsupervised learning techniques and later providing recommendations based on your insights"
      ]
    },
    {
      "cell_type": "markdown",
      "metadata": {
        "id": "KA7aewlZlRZG"
      },
      "source": [
        "### a) Specifying the Data Analytic Question\n",
        "\n"
      ]
    },
    {
      "cell_type": "markdown",
      "metadata": {
        "id": "bZ8uZTDOlz8e"
      },
      "source": [
        "### b) Defining the Metric for Success"
      ]
    },
    {
      "cell_type": "markdown",
      "metadata": {
        "id": "kBpY9icwl4jZ"
      },
      "source": [
        "### c) Understanding the context "
      ]
    },
    {
      "cell_type": "markdown",
      "metadata": {
        "id": "iUNbvIvnT7ep"
      },
      "source": [
        "## 2. Reading the Data"
      ]
    },
    {
      "cell_type": "markdown",
      "metadata": {
        "id": "7cgZw3mL8ffs"
      },
      "source": [
        "### Importing the various libraries"
      ]
    },
    {
      "cell_type": "code",
      "metadata": {
        "id": "HltoLxwR8qNl",
        "colab": {
          "base_uri": "https://localhost:8080/"
        },
        "outputId": "96f485a9-3ad5-4462-ad2b-9470cf282e00"
      },
      "source": [
        "# install.packages(tidyverse)\n",
        "library(tidyverse)\n",
        "# install.packages(lubridate)\n",
        "library(lubridate)\n",
        "library(devtools)\n",
        "install_github(\"vqv/ggbiplot\")\n",
        "library(ggbiplot)\n",
        "install.packages(\"arules\")\n",
        "library(arules)"
      ],
      "execution_count": 57,
      "outputs": [
        {
          "output_type": "stream",
          "name": "stderr",
          "text": [
            "Skipping install of 'ggbiplot' from a github remote, the SHA1 (7325e880) has not changed since last install.\n",
            "  Use `force = TRUE` to force installation\n",
            "\n",
            "Installing package into ‘/usr/local/lib/R/site-library’\n",
            "(as ‘lib’ is unspecified)\n",
            "\n"
          ]
        }
      ]
    },
    {
      "cell_type": "markdown",
      "metadata": {
        "id": "dQufR3f08tOm"
      },
      "source": [
        "### Importing the various datasets"
      ]
    },
    {
      "cell_type": "markdown",
      "metadata": {
        "id": "7R73KbOBmPH8"
      },
      "source": [
        " This project is divided into 4 parts thus having 3 datasets(df1,df2,df3)"
      ]
    },
    {
      "cell_type": "code",
      "metadata": {
        "colab": {
          "base_uri": "https://localhost:8080/",
          "height": 410
        },
        "id": "moFi6QLQjyJ8",
        "outputId": "0e2a6452-1278-41e0-d7bf-7705cc7ded32"
      },
      "source": [
        "# Reading the first dataset\n",
        "#\n",
        "\n",
        "df1 <- read.csv(\"http://bit.ly/CarreFourDataset\")\n",
        "head(df1)"
      ],
      "execution_count": 58,
      "outputs": [
        {
          "output_type": "display_data",
          "data": {
            "text/plain": [
              "  Invoice.ID  Branch Customer.type Gender Product.line           Unit.price\n",
              "1 750-67-8428 A      Member        Female Health and beauty      74.69     \n",
              "2 226-31-3081 C      Normal        Female Electronic accessories 15.28     \n",
              "3 631-41-3108 A      Normal        Male   Home and lifestyle     46.33     \n",
              "4 123-19-1176 A      Member        Male   Health and beauty      58.22     \n",
              "5 373-73-7910 A      Normal        Male   Sports and travel      86.31     \n",
              "6 699-14-3026 C      Normal        Male   Electronic accessories 85.39     \n",
              "  Quantity Tax     Date      Time  Payment     cogs   gross.margin.percentage\n",
              "1 7        26.1415 1/5/2019  13:08 Ewallet     522.83 4.761905               \n",
              "2 5         3.8200 3/8/2019  10:29 Cash         76.40 4.761905               \n",
              "3 7        16.2155 3/3/2019  13:23 Credit card 324.31 4.761905               \n",
              "4 8        23.2880 1/27/2019 20:33 Ewallet     465.76 4.761905               \n",
              "5 7        30.2085 2/8/2019  10:37 Ewallet     604.17 4.761905               \n",
              "6 7        29.8865 3/25/2019 18:30 Ewallet     597.73 4.761905               \n",
              "  gross.income Rating Total   \n",
              "1 26.1415      9.1    548.9715\n",
              "2  3.8200      9.6     80.2200\n",
              "3 16.2155      7.4    340.5255\n",
              "4 23.2880      8.4    489.0480\n",
              "5 30.2085      5.3    634.3785\n",
              "6 29.8865      4.1    627.6165"
            ],
            "text/latex": "A data.frame: 6 × 16\n\\begin{tabular}{r|llllllllllllllll}\n  & Invoice.ID & Branch & Customer.type & Gender & Product.line & Unit.price & Quantity & Tax & Date & Time & Payment & cogs & gross.margin.percentage & gross.income & Rating & Total\\\\\n  & <chr> & <chr> & <chr> & <chr> & <chr> & <dbl> & <int> & <dbl> & <chr> & <chr> & <chr> & <dbl> & <dbl> & <dbl> & <dbl> & <dbl>\\\\\n\\hline\n\t1 & 750-67-8428 & A & Member & Female & Health and beauty      & 74.69 & 7 & 26.1415 & 1/5/2019  & 13:08 & Ewallet     & 522.83 & 4.761905 & 26.1415 & 9.1 & 548.9715\\\\\n\t2 & 226-31-3081 & C & Normal & Female & Electronic accessories & 15.28 & 5 &  3.8200 & 3/8/2019  & 10:29 & Cash        &  76.40 & 4.761905 &  3.8200 & 9.6 &  80.2200\\\\\n\t3 & 631-41-3108 & A & Normal & Male   & Home and lifestyle     & 46.33 & 7 & 16.2155 & 3/3/2019  & 13:23 & Credit card & 324.31 & 4.761905 & 16.2155 & 7.4 & 340.5255\\\\\n\t4 & 123-19-1176 & A & Member & Male   & Health and beauty      & 58.22 & 8 & 23.2880 & 1/27/2019 & 20:33 & Ewallet     & 465.76 & 4.761905 & 23.2880 & 8.4 & 489.0480\\\\\n\t5 & 373-73-7910 & A & Normal & Male   & Sports and travel      & 86.31 & 7 & 30.2085 & 2/8/2019  & 10:37 & Ewallet     & 604.17 & 4.761905 & 30.2085 & 5.3 & 634.3785\\\\\n\t6 & 699-14-3026 & C & Normal & Male   & Electronic accessories & 85.39 & 7 & 29.8865 & 3/25/2019 & 18:30 & Ewallet     & 597.73 & 4.761905 & 29.8865 & 4.1 & 627.6165\\\\\n\\end{tabular}\n",
            "text/markdown": "\nA data.frame: 6 × 16\n\n| <!--/--> | Invoice.ID &lt;chr&gt; | Branch &lt;chr&gt; | Customer.type &lt;chr&gt; | Gender &lt;chr&gt; | Product.line &lt;chr&gt; | Unit.price &lt;dbl&gt; | Quantity &lt;int&gt; | Tax &lt;dbl&gt; | Date &lt;chr&gt; | Time &lt;chr&gt; | Payment &lt;chr&gt; | cogs &lt;dbl&gt; | gross.margin.percentage &lt;dbl&gt; | gross.income &lt;dbl&gt; | Rating &lt;dbl&gt; | Total &lt;dbl&gt; |\n|---|---|---|---|---|---|---|---|---|---|---|---|---|---|---|---|---|\n| 1 | 750-67-8428 | A | Member | Female | Health and beauty      | 74.69 | 7 | 26.1415 | 1/5/2019  | 13:08 | Ewallet     | 522.83 | 4.761905 | 26.1415 | 9.1 | 548.9715 |\n| 2 | 226-31-3081 | C | Normal | Female | Electronic accessories | 15.28 | 5 |  3.8200 | 3/8/2019  | 10:29 | Cash        |  76.40 | 4.761905 |  3.8200 | 9.6 |  80.2200 |\n| 3 | 631-41-3108 | A | Normal | Male   | Home and lifestyle     | 46.33 | 7 | 16.2155 | 3/3/2019  | 13:23 | Credit card | 324.31 | 4.761905 | 16.2155 | 7.4 | 340.5255 |\n| 4 | 123-19-1176 | A | Member | Male   | Health and beauty      | 58.22 | 8 | 23.2880 | 1/27/2019 | 20:33 | Ewallet     | 465.76 | 4.761905 | 23.2880 | 8.4 | 489.0480 |\n| 5 | 373-73-7910 | A | Normal | Male   | Sports and travel      | 86.31 | 7 | 30.2085 | 2/8/2019  | 10:37 | Ewallet     | 604.17 | 4.761905 | 30.2085 | 5.3 | 634.3785 |\n| 6 | 699-14-3026 | C | Normal | Male   | Electronic accessories | 85.39 | 7 | 29.8865 | 3/25/2019 | 18:30 | Ewallet     | 597.73 | 4.761905 | 29.8865 | 4.1 | 627.6165 |\n\n",
            "text/html": [
              "<table class=\"dataframe\">\n",
              "<caption>A data.frame: 6 × 16</caption>\n",
              "<thead>\n",
              "\t<tr><th></th><th scope=col>Invoice.ID</th><th scope=col>Branch</th><th scope=col>Customer.type</th><th scope=col>Gender</th><th scope=col>Product.line</th><th scope=col>Unit.price</th><th scope=col>Quantity</th><th scope=col>Tax</th><th scope=col>Date</th><th scope=col>Time</th><th scope=col>Payment</th><th scope=col>cogs</th><th scope=col>gross.margin.percentage</th><th scope=col>gross.income</th><th scope=col>Rating</th><th scope=col>Total</th></tr>\n",
              "\t<tr><th></th><th scope=col>&lt;chr&gt;</th><th scope=col>&lt;chr&gt;</th><th scope=col>&lt;chr&gt;</th><th scope=col>&lt;chr&gt;</th><th scope=col>&lt;chr&gt;</th><th scope=col>&lt;dbl&gt;</th><th scope=col>&lt;int&gt;</th><th scope=col>&lt;dbl&gt;</th><th scope=col>&lt;chr&gt;</th><th scope=col>&lt;chr&gt;</th><th scope=col>&lt;chr&gt;</th><th scope=col>&lt;dbl&gt;</th><th scope=col>&lt;dbl&gt;</th><th scope=col>&lt;dbl&gt;</th><th scope=col>&lt;dbl&gt;</th><th scope=col>&lt;dbl&gt;</th></tr>\n",
              "</thead>\n",
              "<tbody>\n",
              "\t<tr><th scope=row>1</th><td>750-67-8428</td><td>A</td><td>Member</td><td>Female</td><td>Health and beauty     </td><td>74.69</td><td>7</td><td>26.1415</td><td>1/5/2019 </td><td>13:08</td><td>Ewallet    </td><td>522.83</td><td>4.761905</td><td>26.1415</td><td>9.1</td><td>548.9715</td></tr>\n",
              "\t<tr><th scope=row>2</th><td>226-31-3081</td><td>C</td><td>Normal</td><td>Female</td><td>Electronic accessories</td><td>15.28</td><td>5</td><td> 3.8200</td><td>3/8/2019 </td><td>10:29</td><td>Cash       </td><td> 76.40</td><td>4.761905</td><td> 3.8200</td><td>9.6</td><td> 80.2200</td></tr>\n",
              "\t<tr><th scope=row>3</th><td>631-41-3108</td><td>A</td><td>Normal</td><td>Male  </td><td>Home and lifestyle    </td><td>46.33</td><td>7</td><td>16.2155</td><td>3/3/2019 </td><td>13:23</td><td>Credit card</td><td>324.31</td><td>4.761905</td><td>16.2155</td><td>7.4</td><td>340.5255</td></tr>\n",
              "\t<tr><th scope=row>4</th><td>123-19-1176</td><td>A</td><td>Member</td><td>Male  </td><td>Health and beauty     </td><td>58.22</td><td>8</td><td>23.2880</td><td>1/27/2019</td><td>20:33</td><td>Ewallet    </td><td>465.76</td><td>4.761905</td><td>23.2880</td><td>8.4</td><td>489.0480</td></tr>\n",
              "\t<tr><th scope=row>5</th><td>373-73-7910</td><td>A</td><td>Normal</td><td>Male  </td><td>Sports and travel     </td><td>86.31</td><td>7</td><td>30.2085</td><td>2/8/2019 </td><td>10:37</td><td>Ewallet    </td><td>604.17</td><td>4.761905</td><td>30.2085</td><td>5.3</td><td>634.3785</td></tr>\n",
              "\t<tr><th scope=row>6</th><td>699-14-3026</td><td>C</td><td>Normal</td><td>Male  </td><td>Electronic accessories</td><td>85.39</td><td>7</td><td>29.8865</td><td>3/25/2019</td><td>18:30</td><td>Ewallet    </td><td>597.73</td><td>4.761905</td><td>29.8865</td><td>4.1</td><td>627.6165</td></tr>\n",
              "</tbody>\n",
              "</table>\n"
            ]
          },
          "metadata": {}
        }
      ]
    },
    {
      "cell_type": "code",
      "metadata": {
        "colab": {
          "base_uri": "https://localhost:8080/"
        },
        "id": "8k_2Q5uFktVa",
        "outputId": "f2549067-dc04-407f-b116-39bf78bcbbf7"
      },
      "source": [
        "# Reading the second dataset\n",
        "#\n",
        "\n",
        "df2 <- read.transactions(\"http://bit.ly/SupermarketDatasetII\",sep = \",\")"
      ],
      "execution_count": 59,
      "outputs": [
        {
          "output_type": "stream",
          "name": "stderr",
          "text": [
            "Warning message in asMethod(object):\n",
            "“removing duplicated items in transactions”\n"
          ]
        }
      ]
    },
    {
      "cell_type": "code",
      "metadata": {
        "colab": {
          "base_uri": "https://localhost:8080/",
          "height": 286
        },
        "id": "XX01UyyCmsHb",
        "outputId": "d3457148-744e-4e27-933c-1df972797daa"
      },
      "source": [
        "# Reading the third dataset\n",
        "#\n",
        "\n",
        "df3 <- read.csv(\"http://bit.ly/CarreFourSalesDataset\")\n",
        "head(df3)"
      ],
      "execution_count": 60,
      "outputs": [
        {
          "output_type": "display_data",
          "data": {
            "text/plain": [
              "  Date      Sales   \n",
              "1 1/5/2019  548.9715\n",
              "2 3/8/2019   80.2200\n",
              "3 3/3/2019  340.5255\n",
              "4 1/27/2019 489.0480\n",
              "5 2/8/2019  634.3785\n",
              "6 3/25/2019 627.6165"
            ],
            "text/latex": "A data.frame: 6 × 2\n\\begin{tabular}{r|ll}\n  & Date & Sales\\\\\n  & <chr> & <dbl>\\\\\n\\hline\n\t1 & 1/5/2019  & 548.9715\\\\\n\t2 & 3/8/2019  &  80.2200\\\\\n\t3 & 3/3/2019  & 340.5255\\\\\n\t4 & 1/27/2019 & 489.0480\\\\\n\t5 & 2/8/2019  & 634.3785\\\\\n\t6 & 3/25/2019 & 627.6165\\\\\n\\end{tabular}\n",
            "text/markdown": "\nA data.frame: 6 × 2\n\n| <!--/--> | Date &lt;chr&gt; | Sales &lt;dbl&gt; |\n|---|---|---|\n| 1 | 1/5/2019  | 548.9715 |\n| 2 | 3/8/2019  |  80.2200 |\n| 3 | 3/3/2019  | 340.5255 |\n| 4 | 1/27/2019 | 489.0480 |\n| 5 | 2/8/2019  | 634.3785 |\n| 6 | 3/25/2019 | 627.6165 |\n\n",
            "text/html": [
              "<table class=\"dataframe\">\n",
              "<caption>A data.frame: 6 × 2</caption>\n",
              "<thead>\n",
              "\t<tr><th></th><th scope=col>Date</th><th scope=col>Sales</th></tr>\n",
              "\t<tr><th></th><th scope=col>&lt;chr&gt;</th><th scope=col>&lt;dbl&gt;</th></tr>\n",
              "</thead>\n",
              "<tbody>\n",
              "\t<tr><th scope=row>1</th><td>1/5/2019 </td><td>548.9715</td></tr>\n",
              "\t<tr><th scope=row>2</th><td>3/8/2019 </td><td> 80.2200</td></tr>\n",
              "\t<tr><th scope=row>3</th><td>3/3/2019 </td><td>340.5255</td></tr>\n",
              "\t<tr><th scope=row>4</th><td>1/27/2019</td><td>489.0480</td></tr>\n",
              "\t<tr><th scope=row>5</th><td>2/8/2019 </td><td>634.3785</td></tr>\n",
              "\t<tr><th scope=row>6</th><td>3/25/2019</td><td>627.6165</td></tr>\n",
              "</tbody>\n",
              "</table>\n"
            ]
          },
          "metadata": {}
        }
      ]
    },
    {
      "cell_type": "markdown",
      "metadata": {
        "id": "zWYnHGplvhpe"
      },
      "source": [
        "## Part 1: Dimensionality Reduction"
      ]
    },
    {
      "cell_type": "markdown",
      "metadata": {
        "id": "UbUGjP7qvuhP"
      },
      "source": [
        "For this one I will be using the first dataset(df1)"
      ]
    },
    {
      "cell_type": "code",
      "metadata": {
        "id": "oIFx5WlFnHR3",
        "colab": {
          "base_uri": "https://localhost:8080/",
          "height": 410
        },
        "outputId": "c7df243b-a364-4874-d2a3-c5a501c2f240"
      },
      "source": [
        "# checking the dataset\n",
        "#\n",
        "head(df1)\n"
      ],
      "execution_count": 61,
      "outputs": [
        {
          "output_type": "display_data",
          "data": {
            "text/plain": [
              "  Invoice.ID  Branch Customer.type Gender Product.line           Unit.price\n",
              "1 750-67-8428 A      Member        Female Health and beauty      74.69     \n",
              "2 226-31-3081 C      Normal        Female Electronic accessories 15.28     \n",
              "3 631-41-3108 A      Normal        Male   Home and lifestyle     46.33     \n",
              "4 123-19-1176 A      Member        Male   Health and beauty      58.22     \n",
              "5 373-73-7910 A      Normal        Male   Sports and travel      86.31     \n",
              "6 699-14-3026 C      Normal        Male   Electronic accessories 85.39     \n",
              "  Quantity Tax     Date      Time  Payment     cogs   gross.margin.percentage\n",
              "1 7        26.1415 1/5/2019  13:08 Ewallet     522.83 4.761905               \n",
              "2 5         3.8200 3/8/2019  10:29 Cash         76.40 4.761905               \n",
              "3 7        16.2155 3/3/2019  13:23 Credit card 324.31 4.761905               \n",
              "4 8        23.2880 1/27/2019 20:33 Ewallet     465.76 4.761905               \n",
              "5 7        30.2085 2/8/2019  10:37 Ewallet     604.17 4.761905               \n",
              "6 7        29.8865 3/25/2019 18:30 Ewallet     597.73 4.761905               \n",
              "  gross.income Rating Total   \n",
              "1 26.1415      9.1    548.9715\n",
              "2  3.8200      9.6     80.2200\n",
              "3 16.2155      7.4    340.5255\n",
              "4 23.2880      8.4    489.0480\n",
              "5 30.2085      5.3    634.3785\n",
              "6 29.8865      4.1    627.6165"
            ],
            "text/latex": "A data.frame: 6 × 16\n\\begin{tabular}{r|llllllllllllllll}\n  & Invoice.ID & Branch & Customer.type & Gender & Product.line & Unit.price & Quantity & Tax & Date & Time & Payment & cogs & gross.margin.percentage & gross.income & Rating & Total\\\\\n  & <chr> & <chr> & <chr> & <chr> & <chr> & <dbl> & <int> & <dbl> & <chr> & <chr> & <chr> & <dbl> & <dbl> & <dbl> & <dbl> & <dbl>\\\\\n\\hline\n\t1 & 750-67-8428 & A & Member & Female & Health and beauty      & 74.69 & 7 & 26.1415 & 1/5/2019  & 13:08 & Ewallet     & 522.83 & 4.761905 & 26.1415 & 9.1 & 548.9715\\\\\n\t2 & 226-31-3081 & C & Normal & Female & Electronic accessories & 15.28 & 5 &  3.8200 & 3/8/2019  & 10:29 & Cash        &  76.40 & 4.761905 &  3.8200 & 9.6 &  80.2200\\\\\n\t3 & 631-41-3108 & A & Normal & Male   & Home and lifestyle     & 46.33 & 7 & 16.2155 & 3/3/2019  & 13:23 & Credit card & 324.31 & 4.761905 & 16.2155 & 7.4 & 340.5255\\\\\n\t4 & 123-19-1176 & A & Member & Male   & Health and beauty      & 58.22 & 8 & 23.2880 & 1/27/2019 & 20:33 & Ewallet     & 465.76 & 4.761905 & 23.2880 & 8.4 & 489.0480\\\\\n\t5 & 373-73-7910 & A & Normal & Male   & Sports and travel      & 86.31 & 7 & 30.2085 & 2/8/2019  & 10:37 & Ewallet     & 604.17 & 4.761905 & 30.2085 & 5.3 & 634.3785\\\\\n\t6 & 699-14-3026 & C & Normal & Male   & Electronic accessories & 85.39 & 7 & 29.8865 & 3/25/2019 & 18:30 & Ewallet     & 597.73 & 4.761905 & 29.8865 & 4.1 & 627.6165\\\\\n\\end{tabular}\n",
            "text/markdown": "\nA data.frame: 6 × 16\n\n| <!--/--> | Invoice.ID &lt;chr&gt; | Branch &lt;chr&gt; | Customer.type &lt;chr&gt; | Gender &lt;chr&gt; | Product.line &lt;chr&gt; | Unit.price &lt;dbl&gt; | Quantity &lt;int&gt; | Tax &lt;dbl&gt; | Date &lt;chr&gt; | Time &lt;chr&gt; | Payment &lt;chr&gt; | cogs &lt;dbl&gt; | gross.margin.percentage &lt;dbl&gt; | gross.income &lt;dbl&gt; | Rating &lt;dbl&gt; | Total &lt;dbl&gt; |\n|---|---|---|---|---|---|---|---|---|---|---|---|---|---|---|---|---|\n| 1 | 750-67-8428 | A | Member | Female | Health and beauty      | 74.69 | 7 | 26.1415 | 1/5/2019  | 13:08 | Ewallet     | 522.83 | 4.761905 | 26.1415 | 9.1 | 548.9715 |\n| 2 | 226-31-3081 | C | Normal | Female | Electronic accessories | 15.28 | 5 |  3.8200 | 3/8/2019  | 10:29 | Cash        |  76.40 | 4.761905 |  3.8200 | 9.6 |  80.2200 |\n| 3 | 631-41-3108 | A | Normal | Male   | Home and lifestyle     | 46.33 | 7 | 16.2155 | 3/3/2019  | 13:23 | Credit card | 324.31 | 4.761905 | 16.2155 | 7.4 | 340.5255 |\n| 4 | 123-19-1176 | A | Member | Male   | Health and beauty      | 58.22 | 8 | 23.2880 | 1/27/2019 | 20:33 | Ewallet     | 465.76 | 4.761905 | 23.2880 | 8.4 | 489.0480 |\n| 5 | 373-73-7910 | A | Normal | Male   | Sports and travel      | 86.31 | 7 | 30.2085 | 2/8/2019  | 10:37 | Ewallet     | 604.17 | 4.761905 | 30.2085 | 5.3 | 634.3785 |\n| 6 | 699-14-3026 | C | Normal | Male   | Electronic accessories | 85.39 | 7 | 29.8865 | 3/25/2019 | 18:30 | Ewallet     | 597.73 | 4.761905 | 29.8865 | 4.1 | 627.6165 |\n\n",
            "text/html": [
              "<table class=\"dataframe\">\n",
              "<caption>A data.frame: 6 × 16</caption>\n",
              "<thead>\n",
              "\t<tr><th></th><th scope=col>Invoice.ID</th><th scope=col>Branch</th><th scope=col>Customer.type</th><th scope=col>Gender</th><th scope=col>Product.line</th><th scope=col>Unit.price</th><th scope=col>Quantity</th><th scope=col>Tax</th><th scope=col>Date</th><th scope=col>Time</th><th scope=col>Payment</th><th scope=col>cogs</th><th scope=col>gross.margin.percentage</th><th scope=col>gross.income</th><th scope=col>Rating</th><th scope=col>Total</th></tr>\n",
              "\t<tr><th></th><th scope=col>&lt;chr&gt;</th><th scope=col>&lt;chr&gt;</th><th scope=col>&lt;chr&gt;</th><th scope=col>&lt;chr&gt;</th><th scope=col>&lt;chr&gt;</th><th scope=col>&lt;dbl&gt;</th><th scope=col>&lt;int&gt;</th><th scope=col>&lt;dbl&gt;</th><th scope=col>&lt;chr&gt;</th><th scope=col>&lt;chr&gt;</th><th scope=col>&lt;chr&gt;</th><th scope=col>&lt;dbl&gt;</th><th scope=col>&lt;dbl&gt;</th><th scope=col>&lt;dbl&gt;</th><th scope=col>&lt;dbl&gt;</th><th scope=col>&lt;dbl&gt;</th></tr>\n",
              "</thead>\n",
              "<tbody>\n",
              "\t<tr><th scope=row>1</th><td>750-67-8428</td><td>A</td><td>Member</td><td>Female</td><td>Health and beauty     </td><td>74.69</td><td>7</td><td>26.1415</td><td>1/5/2019 </td><td>13:08</td><td>Ewallet    </td><td>522.83</td><td>4.761905</td><td>26.1415</td><td>9.1</td><td>548.9715</td></tr>\n",
              "\t<tr><th scope=row>2</th><td>226-31-3081</td><td>C</td><td>Normal</td><td>Female</td><td>Electronic accessories</td><td>15.28</td><td>5</td><td> 3.8200</td><td>3/8/2019 </td><td>10:29</td><td>Cash       </td><td> 76.40</td><td>4.761905</td><td> 3.8200</td><td>9.6</td><td> 80.2200</td></tr>\n",
              "\t<tr><th scope=row>3</th><td>631-41-3108</td><td>A</td><td>Normal</td><td>Male  </td><td>Home and lifestyle    </td><td>46.33</td><td>7</td><td>16.2155</td><td>3/3/2019 </td><td>13:23</td><td>Credit card</td><td>324.31</td><td>4.761905</td><td>16.2155</td><td>7.4</td><td>340.5255</td></tr>\n",
              "\t<tr><th scope=row>4</th><td>123-19-1176</td><td>A</td><td>Member</td><td>Male  </td><td>Health and beauty     </td><td>58.22</td><td>8</td><td>23.2880</td><td>1/27/2019</td><td>20:33</td><td>Ewallet    </td><td>465.76</td><td>4.761905</td><td>23.2880</td><td>8.4</td><td>489.0480</td></tr>\n",
              "\t<tr><th scope=row>5</th><td>373-73-7910</td><td>A</td><td>Normal</td><td>Male  </td><td>Sports and travel     </td><td>86.31</td><td>7</td><td>30.2085</td><td>2/8/2019 </td><td>10:37</td><td>Ewallet    </td><td>604.17</td><td>4.761905</td><td>30.2085</td><td>5.3</td><td>634.3785</td></tr>\n",
              "\t<tr><th scope=row>6</th><td>699-14-3026</td><td>C</td><td>Normal</td><td>Male  </td><td>Electronic accessories</td><td>85.39</td><td>7</td><td>29.8865</td><td>3/25/2019</td><td>18:30</td><td>Ewallet    </td><td>597.73</td><td>4.761905</td><td>29.8865</td><td>4.1</td><td>627.6165</td></tr>\n",
              "</tbody>\n",
              "</table>\n"
            ]
          },
          "metadata": {}
        }
      ]
    },
    {
      "cell_type": "code",
      "metadata": {
        "colab": {
          "base_uri": "https://localhost:8080/",
          "height": 34
        },
        "id": "a8FIXgH_9fOR",
        "outputId": "6254fdf9-1e9e-447f-e780-f9c54b963661"
      },
      "source": [
        "# Checking the dimensions of the datset\n",
        "#\n",
        "dim(df1)"
      ],
      "execution_count": 62,
      "outputs": [
        {
          "output_type": "display_data",
          "data": {
            "text/plain": [
              "[1] 1000   16"
            ],
            "text/latex": "\\begin{enumerate*}\n\\item 1000\n\\item 16\n\\end{enumerate*}\n",
            "text/markdown": "1. 1000\n2. 16\n\n\n",
            "text/html": [
              "<style>\n",
              ".list-inline {list-style: none; margin:0; padding: 0}\n",
              ".list-inline>li {display: inline-block}\n",
              ".list-inline>li:not(:last-child)::after {content: \"\\00b7\"; padding: 0 .5ex}\n",
              "</style>\n",
              "<ol class=list-inline><li>1000</li><li>16</li></ol>\n"
            ]
          },
          "metadata": {}
        }
      ]
    },
    {
      "cell_type": "code",
      "metadata": {
        "colab": {
          "base_uri": "https://localhost:8080/"
        },
        "id": "RijOaX7E9mjb",
        "outputId": "c040030c-4598-4950-cac5-cc7b653ba5b2"
      },
      "source": [
        "# Checking the structure of the dataset\n",
        "#\n",
        "str(df1)"
      ],
      "execution_count": 63,
      "outputs": [
        {
          "output_type": "stream",
          "name": "stdout",
          "text": [
            "'data.frame':\t1000 obs. of  16 variables:\n",
            " $ Invoice.ID             : chr  \"750-67-8428\" \"226-31-3081\" \"631-41-3108\" \"123-19-1176\" ...\n",
            " $ Branch                 : chr  \"A\" \"C\" \"A\" \"A\" ...\n",
            " $ Customer.type          : chr  \"Member\" \"Normal\" \"Normal\" \"Member\" ...\n",
            " $ Gender                 : chr  \"Female\" \"Female\" \"Male\" \"Male\" ...\n",
            " $ Product.line           : chr  \"Health and beauty\" \"Electronic accessories\" \"Home and lifestyle\" \"Health and beauty\" ...\n",
            " $ Unit.price             : num  74.7 15.3 46.3 58.2 86.3 ...\n",
            " $ Quantity               : int  7 5 7 8 7 7 6 10 2 3 ...\n",
            " $ Tax                    : num  26.14 3.82 16.22 23.29 30.21 ...\n",
            " $ Date                   : chr  \"1/5/2019\" \"3/8/2019\" \"3/3/2019\" \"1/27/2019\" ...\n",
            " $ Time                   : chr  \"13:08\" \"10:29\" \"13:23\" \"20:33\" ...\n",
            " $ Payment                : chr  \"Ewallet\" \"Cash\" \"Credit card\" \"Ewallet\" ...\n",
            " $ cogs                   : num  522.8 76.4 324.3 465.8 604.2 ...\n",
            " $ gross.margin.percentage: num  4.76 4.76 4.76 4.76 4.76 ...\n",
            " $ gross.income           : num  26.14 3.82 16.22 23.29 30.21 ...\n",
            " $ Rating                 : num  9.1 9.6 7.4 8.4 5.3 4.1 5.8 8 7.2 5.9 ...\n",
            " $ Total                  : num  549 80.2 340.5 489 634.4 ...\n"
          ]
        }
      ]
    },
    {
      "cell_type": "markdown",
      "metadata": {
        "id": "oBf8FgN0Jm8b"
      },
      "source": [
        "### Tidying the dataset."
      ]
    },
    {
      "cell_type": "code",
      "metadata": {
        "id": "Kz4ImmQmH8e2"
      },
      "source": [
        "# function for calling the numeric and non numeric columns\n",
        "#\n",
        "numeric_cols <- function(df) {\n",
        "  num_cols <- select_if(df, is.numeric)\n",
        "}\n",
        "\n",
        "\n",
        "non_numeric_cols <- function(df) {\n",
        "  no_num_cols <- select_if(df, negate(is.numeric))\n",
        "}\n",
        " "
      ],
      "execution_count": 64,
      "outputs": []
    },
    {
      "cell_type": "code",
      "metadata": {
        "colab": {
          "base_uri": "https://localhost:8080/",
          "height": 410
        },
        "id": "Ptnp_xMaqhTL",
        "outputId": "41201dde-5564-4247-eb9c-faee8490428e"
      },
      "source": [
        "head(df1)"
      ],
      "execution_count": 65,
      "outputs": [
        {
          "output_type": "display_data",
          "data": {
            "text/plain": [
              "  Invoice.ID  Branch Customer.type Gender Product.line           Unit.price\n",
              "1 750-67-8428 A      Member        Female Health and beauty      74.69     \n",
              "2 226-31-3081 C      Normal        Female Electronic accessories 15.28     \n",
              "3 631-41-3108 A      Normal        Male   Home and lifestyle     46.33     \n",
              "4 123-19-1176 A      Member        Male   Health and beauty      58.22     \n",
              "5 373-73-7910 A      Normal        Male   Sports and travel      86.31     \n",
              "6 699-14-3026 C      Normal        Male   Electronic accessories 85.39     \n",
              "  Quantity Tax     Date      Time  Payment     cogs   gross.margin.percentage\n",
              "1 7        26.1415 1/5/2019  13:08 Ewallet     522.83 4.761905               \n",
              "2 5         3.8200 3/8/2019  10:29 Cash         76.40 4.761905               \n",
              "3 7        16.2155 3/3/2019  13:23 Credit card 324.31 4.761905               \n",
              "4 8        23.2880 1/27/2019 20:33 Ewallet     465.76 4.761905               \n",
              "5 7        30.2085 2/8/2019  10:37 Ewallet     604.17 4.761905               \n",
              "6 7        29.8865 3/25/2019 18:30 Ewallet     597.73 4.761905               \n",
              "  gross.income Rating Total   \n",
              "1 26.1415      9.1    548.9715\n",
              "2  3.8200      9.6     80.2200\n",
              "3 16.2155      7.4    340.5255\n",
              "4 23.2880      8.4    489.0480\n",
              "5 30.2085      5.3    634.3785\n",
              "6 29.8865      4.1    627.6165"
            ],
            "text/latex": "A data.frame: 6 × 16\n\\begin{tabular}{r|llllllllllllllll}\n  & Invoice.ID & Branch & Customer.type & Gender & Product.line & Unit.price & Quantity & Tax & Date & Time & Payment & cogs & gross.margin.percentage & gross.income & Rating & Total\\\\\n  & <chr> & <chr> & <chr> & <chr> & <chr> & <dbl> & <int> & <dbl> & <chr> & <chr> & <chr> & <dbl> & <dbl> & <dbl> & <dbl> & <dbl>\\\\\n\\hline\n\t1 & 750-67-8428 & A & Member & Female & Health and beauty      & 74.69 & 7 & 26.1415 & 1/5/2019  & 13:08 & Ewallet     & 522.83 & 4.761905 & 26.1415 & 9.1 & 548.9715\\\\\n\t2 & 226-31-3081 & C & Normal & Female & Electronic accessories & 15.28 & 5 &  3.8200 & 3/8/2019  & 10:29 & Cash        &  76.40 & 4.761905 &  3.8200 & 9.6 &  80.2200\\\\\n\t3 & 631-41-3108 & A & Normal & Male   & Home and lifestyle     & 46.33 & 7 & 16.2155 & 3/3/2019  & 13:23 & Credit card & 324.31 & 4.761905 & 16.2155 & 7.4 & 340.5255\\\\\n\t4 & 123-19-1176 & A & Member & Male   & Health and beauty      & 58.22 & 8 & 23.2880 & 1/27/2019 & 20:33 & Ewallet     & 465.76 & 4.761905 & 23.2880 & 8.4 & 489.0480\\\\\n\t5 & 373-73-7910 & A & Normal & Male   & Sports and travel      & 86.31 & 7 & 30.2085 & 2/8/2019  & 10:37 & Ewallet     & 604.17 & 4.761905 & 30.2085 & 5.3 & 634.3785\\\\\n\t6 & 699-14-3026 & C & Normal & Male   & Electronic accessories & 85.39 & 7 & 29.8865 & 3/25/2019 & 18:30 & Ewallet     & 597.73 & 4.761905 & 29.8865 & 4.1 & 627.6165\\\\\n\\end{tabular}\n",
            "text/markdown": "\nA data.frame: 6 × 16\n\n| <!--/--> | Invoice.ID &lt;chr&gt; | Branch &lt;chr&gt; | Customer.type &lt;chr&gt; | Gender &lt;chr&gt; | Product.line &lt;chr&gt; | Unit.price &lt;dbl&gt; | Quantity &lt;int&gt; | Tax &lt;dbl&gt; | Date &lt;chr&gt; | Time &lt;chr&gt; | Payment &lt;chr&gt; | cogs &lt;dbl&gt; | gross.margin.percentage &lt;dbl&gt; | gross.income &lt;dbl&gt; | Rating &lt;dbl&gt; | Total &lt;dbl&gt; |\n|---|---|---|---|---|---|---|---|---|---|---|---|---|---|---|---|---|\n| 1 | 750-67-8428 | A | Member | Female | Health and beauty      | 74.69 | 7 | 26.1415 | 1/5/2019  | 13:08 | Ewallet     | 522.83 | 4.761905 | 26.1415 | 9.1 | 548.9715 |\n| 2 | 226-31-3081 | C | Normal | Female | Electronic accessories | 15.28 | 5 |  3.8200 | 3/8/2019  | 10:29 | Cash        |  76.40 | 4.761905 |  3.8200 | 9.6 |  80.2200 |\n| 3 | 631-41-3108 | A | Normal | Male   | Home and lifestyle     | 46.33 | 7 | 16.2155 | 3/3/2019  | 13:23 | Credit card | 324.31 | 4.761905 | 16.2155 | 7.4 | 340.5255 |\n| 4 | 123-19-1176 | A | Member | Male   | Health and beauty      | 58.22 | 8 | 23.2880 | 1/27/2019 | 20:33 | Ewallet     | 465.76 | 4.761905 | 23.2880 | 8.4 | 489.0480 |\n| 5 | 373-73-7910 | A | Normal | Male   | Sports and travel      | 86.31 | 7 | 30.2085 | 2/8/2019  | 10:37 | Ewallet     | 604.17 | 4.761905 | 30.2085 | 5.3 | 634.3785 |\n| 6 | 699-14-3026 | C | Normal | Male   | Electronic accessories | 85.39 | 7 | 29.8865 | 3/25/2019 | 18:30 | Ewallet     | 597.73 | 4.761905 | 29.8865 | 4.1 | 627.6165 |\n\n",
            "text/html": [
              "<table class=\"dataframe\">\n",
              "<caption>A data.frame: 6 × 16</caption>\n",
              "<thead>\n",
              "\t<tr><th></th><th scope=col>Invoice.ID</th><th scope=col>Branch</th><th scope=col>Customer.type</th><th scope=col>Gender</th><th scope=col>Product.line</th><th scope=col>Unit.price</th><th scope=col>Quantity</th><th scope=col>Tax</th><th scope=col>Date</th><th scope=col>Time</th><th scope=col>Payment</th><th scope=col>cogs</th><th scope=col>gross.margin.percentage</th><th scope=col>gross.income</th><th scope=col>Rating</th><th scope=col>Total</th></tr>\n",
              "\t<tr><th></th><th scope=col>&lt;chr&gt;</th><th scope=col>&lt;chr&gt;</th><th scope=col>&lt;chr&gt;</th><th scope=col>&lt;chr&gt;</th><th scope=col>&lt;chr&gt;</th><th scope=col>&lt;dbl&gt;</th><th scope=col>&lt;int&gt;</th><th scope=col>&lt;dbl&gt;</th><th scope=col>&lt;chr&gt;</th><th scope=col>&lt;chr&gt;</th><th scope=col>&lt;chr&gt;</th><th scope=col>&lt;dbl&gt;</th><th scope=col>&lt;dbl&gt;</th><th scope=col>&lt;dbl&gt;</th><th scope=col>&lt;dbl&gt;</th><th scope=col>&lt;dbl&gt;</th></tr>\n",
              "</thead>\n",
              "<tbody>\n",
              "\t<tr><th scope=row>1</th><td>750-67-8428</td><td>A</td><td>Member</td><td>Female</td><td>Health and beauty     </td><td>74.69</td><td>7</td><td>26.1415</td><td>1/5/2019 </td><td>13:08</td><td>Ewallet    </td><td>522.83</td><td>4.761905</td><td>26.1415</td><td>9.1</td><td>548.9715</td></tr>\n",
              "\t<tr><th scope=row>2</th><td>226-31-3081</td><td>C</td><td>Normal</td><td>Female</td><td>Electronic accessories</td><td>15.28</td><td>5</td><td> 3.8200</td><td>3/8/2019 </td><td>10:29</td><td>Cash       </td><td> 76.40</td><td>4.761905</td><td> 3.8200</td><td>9.6</td><td> 80.2200</td></tr>\n",
              "\t<tr><th scope=row>3</th><td>631-41-3108</td><td>A</td><td>Normal</td><td>Male  </td><td>Home and lifestyle    </td><td>46.33</td><td>7</td><td>16.2155</td><td>3/3/2019 </td><td>13:23</td><td>Credit card</td><td>324.31</td><td>4.761905</td><td>16.2155</td><td>7.4</td><td>340.5255</td></tr>\n",
              "\t<tr><th scope=row>4</th><td>123-19-1176</td><td>A</td><td>Member</td><td>Male  </td><td>Health and beauty     </td><td>58.22</td><td>8</td><td>23.2880</td><td>1/27/2019</td><td>20:33</td><td>Ewallet    </td><td>465.76</td><td>4.761905</td><td>23.2880</td><td>8.4</td><td>489.0480</td></tr>\n",
              "\t<tr><th scope=row>5</th><td>373-73-7910</td><td>A</td><td>Normal</td><td>Male  </td><td>Sports and travel     </td><td>86.31</td><td>7</td><td>30.2085</td><td>2/8/2019 </td><td>10:37</td><td>Ewallet    </td><td>604.17</td><td>4.761905</td><td>30.2085</td><td>5.3</td><td>634.3785</td></tr>\n",
              "\t<tr><th scope=row>6</th><td>699-14-3026</td><td>C</td><td>Normal</td><td>Male  </td><td>Electronic accessories</td><td>85.39</td><td>7</td><td>29.8865</td><td>3/25/2019</td><td>18:30</td><td>Ewallet    </td><td>597.73</td><td>4.761905</td><td>29.8865</td><td>4.1</td><td>627.6165</td></tr>\n",
              "</tbody>\n",
              "</table>\n"
            ]
          },
          "metadata": {}
        }
      ]
    },
    {
      "cell_type": "code",
      "metadata": {
        "colab": {
          "base_uri": "https://localhost:8080/",
          "height": 286
        },
        "id": "XhQEhXhJcgVM",
        "outputId": "e9561d2b-8f3b-4485-d41d-b700dce4013c"
      },
      "source": [
        "head(non_numeric_cols(df1))\n"
      ],
      "execution_count": 66,
      "outputs": [
        {
          "output_type": "display_data",
          "data": {
            "text/plain": [
              "  Invoice.ID  Branch Customer.type Gender Product.line           Date     \n",
              "1 750-67-8428 A      Member        Female Health and beauty      1/5/2019 \n",
              "2 226-31-3081 C      Normal        Female Electronic accessories 3/8/2019 \n",
              "3 631-41-3108 A      Normal        Male   Home and lifestyle     3/3/2019 \n",
              "4 123-19-1176 A      Member        Male   Health and beauty      1/27/2019\n",
              "5 373-73-7910 A      Normal        Male   Sports and travel      2/8/2019 \n",
              "6 699-14-3026 C      Normal        Male   Electronic accessories 3/25/2019\n",
              "  Time  Payment    \n",
              "1 13:08 Ewallet    \n",
              "2 10:29 Cash       \n",
              "3 13:23 Credit card\n",
              "4 20:33 Ewallet    \n",
              "5 10:37 Ewallet    \n",
              "6 18:30 Ewallet    "
            ],
            "text/latex": "A data.frame: 6 × 8\n\\begin{tabular}{r|llllllll}\n  & Invoice.ID & Branch & Customer.type & Gender & Product.line & Date & Time & Payment\\\\\n  & <chr> & <chr> & <chr> & <chr> & <chr> & <chr> & <chr> & <chr>\\\\\n\\hline\n\t1 & 750-67-8428 & A & Member & Female & Health and beauty      & 1/5/2019  & 13:08 & Ewallet    \\\\\n\t2 & 226-31-3081 & C & Normal & Female & Electronic accessories & 3/8/2019  & 10:29 & Cash       \\\\\n\t3 & 631-41-3108 & A & Normal & Male   & Home and lifestyle     & 3/3/2019  & 13:23 & Credit card\\\\\n\t4 & 123-19-1176 & A & Member & Male   & Health and beauty      & 1/27/2019 & 20:33 & Ewallet    \\\\\n\t5 & 373-73-7910 & A & Normal & Male   & Sports and travel      & 2/8/2019  & 10:37 & Ewallet    \\\\\n\t6 & 699-14-3026 & C & Normal & Male   & Electronic accessories & 3/25/2019 & 18:30 & Ewallet    \\\\\n\\end{tabular}\n",
            "text/markdown": "\nA data.frame: 6 × 8\n\n| <!--/--> | Invoice.ID &lt;chr&gt; | Branch &lt;chr&gt; | Customer.type &lt;chr&gt; | Gender &lt;chr&gt; | Product.line &lt;chr&gt; | Date &lt;chr&gt; | Time &lt;chr&gt; | Payment &lt;chr&gt; |\n|---|---|---|---|---|---|---|---|---|\n| 1 | 750-67-8428 | A | Member | Female | Health and beauty      | 1/5/2019  | 13:08 | Ewallet     |\n| 2 | 226-31-3081 | C | Normal | Female | Electronic accessories | 3/8/2019  | 10:29 | Cash        |\n| 3 | 631-41-3108 | A | Normal | Male   | Home and lifestyle     | 3/3/2019  | 13:23 | Credit card |\n| 4 | 123-19-1176 | A | Member | Male   | Health and beauty      | 1/27/2019 | 20:33 | Ewallet     |\n| 5 | 373-73-7910 | A | Normal | Male   | Sports and travel      | 2/8/2019  | 10:37 | Ewallet     |\n| 6 | 699-14-3026 | C | Normal | Male   | Electronic accessories | 3/25/2019 | 18:30 | Ewallet     |\n\n",
            "text/html": [
              "<table class=\"dataframe\">\n",
              "<caption>A data.frame: 6 × 8</caption>\n",
              "<thead>\n",
              "\t<tr><th></th><th scope=col>Invoice.ID</th><th scope=col>Branch</th><th scope=col>Customer.type</th><th scope=col>Gender</th><th scope=col>Product.line</th><th scope=col>Date</th><th scope=col>Time</th><th scope=col>Payment</th></tr>\n",
              "\t<tr><th></th><th scope=col>&lt;chr&gt;</th><th scope=col>&lt;chr&gt;</th><th scope=col>&lt;chr&gt;</th><th scope=col>&lt;chr&gt;</th><th scope=col>&lt;chr&gt;</th><th scope=col>&lt;chr&gt;</th><th scope=col>&lt;chr&gt;</th><th scope=col>&lt;chr&gt;</th></tr>\n",
              "</thead>\n",
              "<tbody>\n",
              "\t<tr><th scope=row>1</th><td>750-67-8428</td><td>A</td><td>Member</td><td>Female</td><td>Health and beauty     </td><td>1/5/2019 </td><td>13:08</td><td>Ewallet    </td></tr>\n",
              "\t<tr><th scope=row>2</th><td>226-31-3081</td><td>C</td><td>Normal</td><td>Female</td><td>Electronic accessories</td><td>3/8/2019 </td><td>10:29</td><td>Cash       </td></tr>\n",
              "\t<tr><th scope=row>3</th><td>631-41-3108</td><td>A</td><td>Normal</td><td>Male  </td><td>Home and lifestyle    </td><td>3/3/2019 </td><td>13:23</td><td>Credit card</td></tr>\n",
              "\t<tr><th scope=row>4</th><td>123-19-1176</td><td>A</td><td>Member</td><td>Male  </td><td>Health and beauty     </td><td>1/27/2019</td><td>20:33</td><td>Ewallet    </td></tr>\n",
              "\t<tr><th scope=row>5</th><td>373-73-7910</td><td>A</td><td>Normal</td><td>Male  </td><td>Sports and travel     </td><td>2/8/2019 </td><td>10:37</td><td>Ewallet    </td></tr>\n",
              "\t<tr><th scope=row>6</th><td>699-14-3026</td><td>C</td><td>Normal</td><td>Male  </td><td>Electronic accessories</td><td>3/25/2019</td><td>18:30</td><td>Ewallet    </td></tr>\n",
              "</tbody>\n",
              "</table>\n"
            ]
          },
          "metadata": {}
        }
      ]
    },
    {
      "cell_type": "code",
      "metadata": {
        "colab": {
          "base_uri": "https://localhost:8080/",
          "height": 52
        },
        "id": "U9-x7Sk8HnTl",
        "outputId": "3ec52b02-6999-46ff-890a-05e61361ce94"
      },
      "source": [
        "# Checking for missing data\n",
        "#\n",
        "colSums(is.na(df1))"
      ],
      "execution_count": 67,
      "outputs": [
        {
          "output_type": "display_data",
          "data": {
            "text/plain": [
              "             Invoice.ID                  Branch           Customer.type \n",
              "                      0                       0                       0 \n",
              "                 Gender            Product.line              Unit.price \n",
              "                      0                       0                       0 \n",
              "               Quantity                     Tax                    Date \n",
              "                      0                       0                       0 \n",
              "                   Time                 Payment                    cogs \n",
              "                      0                       0                       0 \n",
              "gross.margin.percentage            gross.income                  Rating \n",
              "                      0                       0                       0 \n",
              "                  Total \n",
              "                      0 "
            ],
            "text/latex": "\\begin{description*}\n\\item[Invoice.ID] 0\n\\item[Branch] 0\n\\item[Customer.type] 0\n\\item[Gender] 0\n\\item[Product.line] 0\n\\item[Unit.price] 0\n\\item[Quantity] 0\n\\item[Tax] 0\n\\item[Date] 0\n\\item[Time] 0\n\\item[Payment] 0\n\\item[cogs] 0\n\\item[gross.margin.percentage] 0\n\\item[gross.income] 0\n\\item[Rating] 0\n\\item[Total] 0\n\\end{description*}\n",
            "text/markdown": "Invoice.ID\n:   0Branch\n:   0Customer.type\n:   0Gender\n:   0Product.line\n:   0Unit.price\n:   0Quantity\n:   0Tax\n:   0Date\n:   0Time\n:   0Payment\n:   0cogs\n:   0gross.margin.percentage\n:   0gross.income\n:   0Rating\n:   0Total\n:   0\n\n",
            "text/html": [
              "<style>\n",
              ".dl-inline {width: auto; margin:0; padding: 0}\n",
              ".dl-inline>dt, .dl-inline>dd {float: none; width: auto; display: inline-block}\n",
              ".dl-inline>dt::after {content: \":\\0020\"; padding-right: .5ex}\n",
              ".dl-inline>dt:not(:first-of-type) {padding-left: .5ex}\n",
              "</style><dl class=dl-inline><dt>Invoice.ID</dt><dd>0</dd><dt>Branch</dt><dd>0</dd><dt>Customer.type</dt><dd>0</dd><dt>Gender</dt><dd>0</dd><dt>Product.line</dt><dd>0</dd><dt>Unit.price</dt><dd>0</dd><dt>Quantity</dt><dd>0</dd><dt>Tax</dt><dd>0</dd><dt>Date</dt><dd>0</dd><dt>Time</dt><dd>0</dd><dt>Payment</dt><dd>0</dd><dt>cogs</dt><dd>0</dd><dt>gross.margin.percentage</dt><dd>0</dd><dt>gross.income</dt><dd>0</dd><dt>Rating</dt><dd>0</dd><dt>Total</dt><dd>0</dd></dl>\n"
            ]
          },
          "metadata": {}
        }
      ]
    },
    {
      "cell_type": "markdown",
      "metadata": {
        "id": "PzeX6aEiINk5"
      },
      "source": [
        "There is no missing data"
      ]
    },
    {
      "cell_type": "code",
      "metadata": {
        "id": "LE76gk2PsNej"
      },
      "source": [
        "# combining the two columns: \"Date\" and \"Time\" and getting a time stamp\n",
        "#\n",
        "\n",
        "# df1$Timestamp <- as.POSIXct(paste(df1$Date, df1$Time), format = \"%Y-%m-%d %H:%M\") \n",
        "# #head(df1)\n",
        "# str(df1)"
      ],
      "execution_count": 68,
      "outputs": []
    },
    {
      "cell_type": "code",
      "metadata": {
        "colab": {
          "base_uri": "https://localhost:8080/",
          "height": 410
        },
        "id": "hQJtWNNpsMyL",
        "outputId": "500d5089-88d8-4d59-db00-c11ca810cc6c"
      },
      "source": [
        "# Changing the column Timestamp into a timestamp\n",
        "#\n",
        "\n",
        "#df1$Timestamp <- as.(df1$Timestamp , format = \"%Y-%m-%d %H:%M:%S\" )\n",
        "# df1$Timestamp <- as.POSIXct(df1$Timestamp, format = \"%Y-%m-%d %H:%M:%S\")\n",
        "head(df1)"
      ],
      "execution_count": 69,
      "outputs": [
        {
          "output_type": "display_data",
          "data": {
            "text/plain": [
              "  Invoice.ID  Branch Customer.type Gender Product.line           Unit.price\n",
              "1 750-67-8428 A      Member        Female Health and beauty      74.69     \n",
              "2 226-31-3081 C      Normal        Female Electronic accessories 15.28     \n",
              "3 631-41-3108 A      Normal        Male   Home and lifestyle     46.33     \n",
              "4 123-19-1176 A      Member        Male   Health and beauty      58.22     \n",
              "5 373-73-7910 A      Normal        Male   Sports and travel      86.31     \n",
              "6 699-14-3026 C      Normal        Male   Electronic accessories 85.39     \n",
              "  Quantity Tax     Date      Time  Payment     cogs   gross.margin.percentage\n",
              "1 7        26.1415 1/5/2019  13:08 Ewallet     522.83 4.761905               \n",
              "2 5         3.8200 3/8/2019  10:29 Cash         76.40 4.761905               \n",
              "3 7        16.2155 3/3/2019  13:23 Credit card 324.31 4.761905               \n",
              "4 8        23.2880 1/27/2019 20:33 Ewallet     465.76 4.761905               \n",
              "5 7        30.2085 2/8/2019  10:37 Ewallet     604.17 4.761905               \n",
              "6 7        29.8865 3/25/2019 18:30 Ewallet     597.73 4.761905               \n",
              "  gross.income Rating Total   \n",
              "1 26.1415      9.1    548.9715\n",
              "2  3.8200      9.6     80.2200\n",
              "3 16.2155      7.4    340.5255\n",
              "4 23.2880      8.4    489.0480\n",
              "5 30.2085      5.3    634.3785\n",
              "6 29.8865      4.1    627.6165"
            ],
            "text/latex": "A data.frame: 6 × 16\n\\begin{tabular}{r|llllllllllllllll}\n  & Invoice.ID & Branch & Customer.type & Gender & Product.line & Unit.price & Quantity & Tax & Date & Time & Payment & cogs & gross.margin.percentage & gross.income & Rating & Total\\\\\n  & <chr> & <chr> & <chr> & <chr> & <chr> & <dbl> & <int> & <dbl> & <chr> & <chr> & <chr> & <dbl> & <dbl> & <dbl> & <dbl> & <dbl>\\\\\n\\hline\n\t1 & 750-67-8428 & A & Member & Female & Health and beauty      & 74.69 & 7 & 26.1415 & 1/5/2019  & 13:08 & Ewallet     & 522.83 & 4.761905 & 26.1415 & 9.1 & 548.9715\\\\\n\t2 & 226-31-3081 & C & Normal & Female & Electronic accessories & 15.28 & 5 &  3.8200 & 3/8/2019  & 10:29 & Cash        &  76.40 & 4.761905 &  3.8200 & 9.6 &  80.2200\\\\\n\t3 & 631-41-3108 & A & Normal & Male   & Home and lifestyle     & 46.33 & 7 & 16.2155 & 3/3/2019  & 13:23 & Credit card & 324.31 & 4.761905 & 16.2155 & 7.4 & 340.5255\\\\\n\t4 & 123-19-1176 & A & Member & Male   & Health and beauty      & 58.22 & 8 & 23.2880 & 1/27/2019 & 20:33 & Ewallet     & 465.76 & 4.761905 & 23.2880 & 8.4 & 489.0480\\\\\n\t5 & 373-73-7910 & A & Normal & Male   & Sports and travel      & 86.31 & 7 & 30.2085 & 2/8/2019  & 10:37 & Ewallet     & 604.17 & 4.761905 & 30.2085 & 5.3 & 634.3785\\\\\n\t6 & 699-14-3026 & C & Normal & Male   & Electronic accessories & 85.39 & 7 & 29.8865 & 3/25/2019 & 18:30 & Ewallet     & 597.73 & 4.761905 & 29.8865 & 4.1 & 627.6165\\\\\n\\end{tabular}\n",
            "text/markdown": "\nA data.frame: 6 × 16\n\n| <!--/--> | Invoice.ID &lt;chr&gt; | Branch &lt;chr&gt; | Customer.type &lt;chr&gt; | Gender &lt;chr&gt; | Product.line &lt;chr&gt; | Unit.price &lt;dbl&gt; | Quantity &lt;int&gt; | Tax &lt;dbl&gt; | Date &lt;chr&gt; | Time &lt;chr&gt; | Payment &lt;chr&gt; | cogs &lt;dbl&gt; | gross.margin.percentage &lt;dbl&gt; | gross.income &lt;dbl&gt; | Rating &lt;dbl&gt; | Total &lt;dbl&gt; |\n|---|---|---|---|---|---|---|---|---|---|---|---|---|---|---|---|---|\n| 1 | 750-67-8428 | A | Member | Female | Health and beauty      | 74.69 | 7 | 26.1415 | 1/5/2019  | 13:08 | Ewallet     | 522.83 | 4.761905 | 26.1415 | 9.1 | 548.9715 |\n| 2 | 226-31-3081 | C | Normal | Female | Electronic accessories | 15.28 | 5 |  3.8200 | 3/8/2019  | 10:29 | Cash        |  76.40 | 4.761905 |  3.8200 | 9.6 |  80.2200 |\n| 3 | 631-41-3108 | A | Normal | Male   | Home and lifestyle     | 46.33 | 7 | 16.2155 | 3/3/2019  | 13:23 | Credit card | 324.31 | 4.761905 | 16.2155 | 7.4 | 340.5255 |\n| 4 | 123-19-1176 | A | Member | Male   | Health and beauty      | 58.22 | 8 | 23.2880 | 1/27/2019 | 20:33 | Ewallet     | 465.76 | 4.761905 | 23.2880 | 8.4 | 489.0480 |\n| 5 | 373-73-7910 | A | Normal | Male   | Sports and travel      | 86.31 | 7 | 30.2085 | 2/8/2019  | 10:37 | Ewallet     | 604.17 | 4.761905 | 30.2085 | 5.3 | 634.3785 |\n| 6 | 699-14-3026 | C | Normal | Male   | Electronic accessories | 85.39 | 7 | 29.8865 | 3/25/2019 | 18:30 | Ewallet     | 597.73 | 4.761905 | 29.8865 | 4.1 | 627.6165 |\n\n",
            "text/html": [
              "<table class=\"dataframe\">\n",
              "<caption>A data.frame: 6 × 16</caption>\n",
              "<thead>\n",
              "\t<tr><th></th><th scope=col>Invoice.ID</th><th scope=col>Branch</th><th scope=col>Customer.type</th><th scope=col>Gender</th><th scope=col>Product.line</th><th scope=col>Unit.price</th><th scope=col>Quantity</th><th scope=col>Tax</th><th scope=col>Date</th><th scope=col>Time</th><th scope=col>Payment</th><th scope=col>cogs</th><th scope=col>gross.margin.percentage</th><th scope=col>gross.income</th><th scope=col>Rating</th><th scope=col>Total</th></tr>\n",
              "\t<tr><th></th><th scope=col>&lt;chr&gt;</th><th scope=col>&lt;chr&gt;</th><th scope=col>&lt;chr&gt;</th><th scope=col>&lt;chr&gt;</th><th scope=col>&lt;chr&gt;</th><th scope=col>&lt;dbl&gt;</th><th scope=col>&lt;int&gt;</th><th scope=col>&lt;dbl&gt;</th><th scope=col>&lt;chr&gt;</th><th scope=col>&lt;chr&gt;</th><th scope=col>&lt;chr&gt;</th><th scope=col>&lt;dbl&gt;</th><th scope=col>&lt;dbl&gt;</th><th scope=col>&lt;dbl&gt;</th><th scope=col>&lt;dbl&gt;</th><th scope=col>&lt;dbl&gt;</th></tr>\n",
              "</thead>\n",
              "<tbody>\n",
              "\t<tr><th scope=row>1</th><td>750-67-8428</td><td>A</td><td>Member</td><td>Female</td><td>Health and beauty     </td><td>74.69</td><td>7</td><td>26.1415</td><td>1/5/2019 </td><td>13:08</td><td>Ewallet    </td><td>522.83</td><td>4.761905</td><td>26.1415</td><td>9.1</td><td>548.9715</td></tr>\n",
              "\t<tr><th scope=row>2</th><td>226-31-3081</td><td>C</td><td>Normal</td><td>Female</td><td>Electronic accessories</td><td>15.28</td><td>5</td><td> 3.8200</td><td>3/8/2019 </td><td>10:29</td><td>Cash       </td><td> 76.40</td><td>4.761905</td><td> 3.8200</td><td>9.6</td><td> 80.2200</td></tr>\n",
              "\t<tr><th scope=row>3</th><td>631-41-3108</td><td>A</td><td>Normal</td><td>Male  </td><td>Home and lifestyle    </td><td>46.33</td><td>7</td><td>16.2155</td><td>3/3/2019 </td><td>13:23</td><td>Credit card</td><td>324.31</td><td>4.761905</td><td>16.2155</td><td>7.4</td><td>340.5255</td></tr>\n",
              "\t<tr><th scope=row>4</th><td>123-19-1176</td><td>A</td><td>Member</td><td>Male  </td><td>Health and beauty     </td><td>58.22</td><td>8</td><td>23.2880</td><td>1/27/2019</td><td>20:33</td><td>Ewallet    </td><td>465.76</td><td>4.761905</td><td>23.2880</td><td>8.4</td><td>489.0480</td></tr>\n",
              "\t<tr><th scope=row>5</th><td>373-73-7910</td><td>A</td><td>Normal</td><td>Male  </td><td>Sports and travel     </td><td>86.31</td><td>7</td><td>30.2085</td><td>2/8/2019 </td><td>10:37</td><td>Ewallet    </td><td>604.17</td><td>4.761905</td><td>30.2085</td><td>5.3</td><td>634.3785</td></tr>\n",
              "\t<tr><th scope=row>6</th><td>699-14-3026</td><td>C</td><td>Normal</td><td>Male  </td><td>Electronic accessories</td><td>85.39</td><td>7</td><td>29.8865</td><td>3/25/2019</td><td>18:30</td><td>Ewallet    </td><td>597.73</td><td>4.761905</td><td>29.8865</td><td>4.1</td><td>627.6165</td></tr>\n",
              "</tbody>\n",
              "</table>\n"
            ]
          },
          "metadata": {}
        }
      ]
    },
    {
      "cell_type": "code",
      "metadata": {
        "id": "a4Jo03BV2lJX",
        "colab": {
          "base_uri": "https://localhost:8080/",
          "height": 118
        },
        "outputId": "f7be3db6-cbce-4b66-d433-055c3121c6cb"
      },
      "source": [
        "# Checking for duplicates\n",
        "#\n",
        "\n",
        "duplicates <- df1[duplicated(df1), ]\n",
        "duplicates"
      ],
      "execution_count": 70,
      "outputs": [
        {
          "output_type": "display_data",
          "data": {
            "text/plain": [
              "     Invoice.ID Branch Customer.type Gender Product.line Unit.price Quantity\n",
              "     Tax Date Time Payment cogs gross.margin.percentage gross.income Rating\n",
              "     Total"
            ],
            "text/latex": "A data.frame: 0 × 16\n\\begin{tabular}{llllllllllllllll}\n Invoice.ID & Branch & Customer.type & Gender & Product.line & Unit.price & Quantity & Tax & Date & Time & Payment & cogs & gross.margin.percentage & gross.income & Rating & Total\\\\\n <chr> & <chr> & <chr> & <chr> & <chr> & <dbl> & <int> & <dbl> & <chr> & <chr> & <chr> & <dbl> & <dbl> & <dbl> & <dbl> & <dbl>\\\\\n\\hline\n\\end{tabular}\n",
            "text/markdown": "\nA data.frame: 0 × 16\n\n| Invoice.ID &lt;chr&gt; | Branch &lt;chr&gt; | Customer.type &lt;chr&gt; | Gender &lt;chr&gt; | Product.line &lt;chr&gt; | Unit.price &lt;dbl&gt; | Quantity &lt;int&gt; | Tax &lt;dbl&gt; | Date &lt;chr&gt; | Time &lt;chr&gt; | Payment &lt;chr&gt; | cogs &lt;dbl&gt; | gross.margin.percentage &lt;dbl&gt; | gross.income &lt;dbl&gt; | Rating &lt;dbl&gt; | Total &lt;dbl&gt; |\n|---|---|---|---|---|---|---|---|---|---|---|---|---|---|---|---|\n\n",
            "text/html": [
              "<table class=\"dataframe\">\n",
              "<caption>A data.frame: 0 × 16</caption>\n",
              "<thead>\n",
              "\t<tr><th scope=col>Invoice.ID</th><th scope=col>Branch</th><th scope=col>Customer.type</th><th scope=col>Gender</th><th scope=col>Product.line</th><th scope=col>Unit.price</th><th scope=col>Quantity</th><th scope=col>Tax</th><th scope=col>Date</th><th scope=col>Time</th><th scope=col>Payment</th><th scope=col>cogs</th><th scope=col>gross.margin.percentage</th><th scope=col>gross.income</th><th scope=col>Rating</th><th scope=col>Total</th></tr>\n",
              "\t<tr><th scope=col>&lt;chr&gt;</th><th scope=col>&lt;chr&gt;</th><th scope=col>&lt;chr&gt;</th><th scope=col>&lt;chr&gt;</th><th scope=col>&lt;chr&gt;</th><th scope=col>&lt;dbl&gt;</th><th scope=col>&lt;int&gt;</th><th scope=col>&lt;dbl&gt;</th><th scope=col>&lt;chr&gt;</th><th scope=col>&lt;chr&gt;</th><th scope=col>&lt;chr&gt;</th><th scope=col>&lt;dbl&gt;</th><th scope=col>&lt;dbl&gt;</th><th scope=col>&lt;dbl&gt;</th><th scope=col>&lt;dbl&gt;</th><th scope=col>&lt;dbl&gt;</th></tr>\n",
              "</thead>\n",
              "<tbody>\n",
              "</tbody>\n",
              "</table>\n"
            ]
          },
          "metadata": {}
        }
      ]
    },
    {
      "cell_type": "markdown",
      "metadata": {
        "id": "i7aB1QLhVysg"
      },
      "source": [
        "There are no duplicates in the data."
      ]
    },
    {
      "cell_type": "code",
      "metadata": {
        "id": "4cG1yvl2V389"
      },
      "source": [
        "# Checking for outliers\n",
        "#\n"
      ],
      "execution_count": 71,
      "outputs": []
    },
    {
      "cell_type": "markdown",
      "metadata": {
        "id": "28ZfXLwMWnTL"
      },
      "source": [
        "### Feature Engineering"
      ]
    },
    {
      "cell_type": "code",
      "metadata": {
        "colab": {
          "base_uri": "https://localhost:8080/",
          "height": 410
        },
        "id": "cDPKOH-OW7Qw",
        "outputId": "579d0a36-d78d-44f1-c8c2-c5de1e157cec"
      },
      "source": [
        "# previewing the dataset\n",
        "#\n",
        "head(df1)"
      ],
      "execution_count": 72,
      "outputs": [
        {
          "output_type": "display_data",
          "data": {
            "text/plain": [
              "  Invoice.ID  Branch Customer.type Gender Product.line           Unit.price\n",
              "1 750-67-8428 A      Member        Female Health and beauty      74.69     \n",
              "2 226-31-3081 C      Normal        Female Electronic accessories 15.28     \n",
              "3 631-41-3108 A      Normal        Male   Home and lifestyle     46.33     \n",
              "4 123-19-1176 A      Member        Male   Health and beauty      58.22     \n",
              "5 373-73-7910 A      Normal        Male   Sports and travel      86.31     \n",
              "6 699-14-3026 C      Normal        Male   Electronic accessories 85.39     \n",
              "  Quantity Tax     Date      Time  Payment     cogs   gross.margin.percentage\n",
              "1 7        26.1415 1/5/2019  13:08 Ewallet     522.83 4.761905               \n",
              "2 5         3.8200 3/8/2019  10:29 Cash         76.40 4.761905               \n",
              "3 7        16.2155 3/3/2019  13:23 Credit card 324.31 4.761905               \n",
              "4 8        23.2880 1/27/2019 20:33 Ewallet     465.76 4.761905               \n",
              "5 7        30.2085 2/8/2019  10:37 Ewallet     604.17 4.761905               \n",
              "6 7        29.8865 3/25/2019 18:30 Ewallet     597.73 4.761905               \n",
              "  gross.income Rating Total   \n",
              "1 26.1415      9.1    548.9715\n",
              "2  3.8200      9.6     80.2200\n",
              "3 16.2155      7.4    340.5255\n",
              "4 23.2880      8.4    489.0480\n",
              "5 30.2085      5.3    634.3785\n",
              "6 29.8865      4.1    627.6165"
            ],
            "text/latex": "A data.frame: 6 × 16\n\\begin{tabular}{r|llllllllllllllll}\n  & Invoice.ID & Branch & Customer.type & Gender & Product.line & Unit.price & Quantity & Tax & Date & Time & Payment & cogs & gross.margin.percentage & gross.income & Rating & Total\\\\\n  & <chr> & <chr> & <chr> & <chr> & <chr> & <dbl> & <int> & <dbl> & <chr> & <chr> & <chr> & <dbl> & <dbl> & <dbl> & <dbl> & <dbl>\\\\\n\\hline\n\t1 & 750-67-8428 & A & Member & Female & Health and beauty      & 74.69 & 7 & 26.1415 & 1/5/2019  & 13:08 & Ewallet     & 522.83 & 4.761905 & 26.1415 & 9.1 & 548.9715\\\\\n\t2 & 226-31-3081 & C & Normal & Female & Electronic accessories & 15.28 & 5 &  3.8200 & 3/8/2019  & 10:29 & Cash        &  76.40 & 4.761905 &  3.8200 & 9.6 &  80.2200\\\\\n\t3 & 631-41-3108 & A & Normal & Male   & Home and lifestyle     & 46.33 & 7 & 16.2155 & 3/3/2019  & 13:23 & Credit card & 324.31 & 4.761905 & 16.2155 & 7.4 & 340.5255\\\\\n\t4 & 123-19-1176 & A & Member & Male   & Health and beauty      & 58.22 & 8 & 23.2880 & 1/27/2019 & 20:33 & Ewallet     & 465.76 & 4.761905 & 23.2880 & 8.4 & 489.0480\\\\\n\t5 & 373-73-7910 & A & Normal & Male   & Sports and travel      & 86.31 & 7 & 30.2085 & 2/8/2019  & 10:37 & Ewallet     & 604.17 & 4.761905 & 30.2085 & 5.3 & 634.3785\\\\\n\t6 & 699-14-3026 & C & Normal & Male   & Electronic accessories & 85.39 & 7 & 29.8865 & 3/25/2019 & 18:30 & Ewallet     & 597.73 & 4.761905 & 29.8865 & 4.1 & 627.6165\\\\\n\\end{tabular}\n",
            "text/markdown": "\nA data.frame: 6 × 16\n\n| <!--/--> | Invoice.ID &lt;chr&gt; | Branch &lt;chr&gt; | Customer.type &lt;chr&gt; | Gender &lt;chr&gt; | Product.line &lt;chr&gt; | Unit.price &lt;dbl&gt; | Quantity &lt;int&gt; | Tax &lt;dbl&gt; | Date &lt;chr&gt; | Time &lt;chr&gt; | Payment &lt;chr&gt; | cogs &lt;dbl&gt; | gross.margin.percentage &lt;dbl&gt; | gross.income &lt;dbl&gt; | Rating &lt;dbl&gt; | Total &lt;dbl&gt; |\n|---|---|---|---|---|---|---|---|---|---|---|---|---|---|---|---|---|\n| 1 | 750-67-8428 | A | Member | Female | Health and beauty      | 74.69 | 7 | 26.1415 | 1/5/2019  | 13:08 | Ewallet     | 522.83 | 4.761905 | 26.1415 | 9.1 | 548.9715 |\n| 2 | 226-31-3081 | C | Normal | Female | Electronic accessories | 15.28 | 5 |  3.8200 | 3/8/2019  | 10:29 | Cash        |  76.40 | 4.761905 |  3.8200 | 9.6 |  80.2200 |\n| 3 | 631-41-3108 | A | Normal | Male   | Home and lifestyle     | 46.33 | 7 | 16.2155 | 3/3/2019  | 13:23 | Credit card | 324.31 | 4.761905 | 16.2155 | 7.4 | 340.5255 |\n| 4 | 123-19-1176 | A | Member | Male   | Health and beauty      | 58.22 | 8 | 23.2880 | 1/27/2019 | 20:33 | Ewallet     | 465.76 | 4.761905 | 23.2880 | 8.4 | 489.0480 |\n| 5 | 373-73-7910 | A | Normal | Male   | Sports and travel      | 86.31 | 7 | 30.2085 | 2/8/2019  | 10:37 | Ewallet     | 604.17 | 4.761905 | 30.2085 | 5.3 | 634.3785 |\n| 6 | 699-14-3026 | C | Normal | Male   | Electronic accessories | 85.39 | 7 | 29.8865 | 3/25/2019 | 18:30 | Ewallet     | 597.73 | 4.761905 | 29.8865 | 4.1 | 627.6165 |\n\n",
            "text/html": [
              "<table class=\"dataframe\">\n",
              "<caption>A data.frame: 6 × 16</caption>\n",
              "<thead>\n",
              "\t<tr><th></th><th scope=col>Invoice.ID</th><th scope=col>Branch</th><th scope=col>Customer.type</th><th scope=col>Gender</th><th scope=col>Product.line</th><th scope=col>Unit.price</th><th scope=col>Quantity</th><th scope=col>Tax</th><th scope=col>Date</th><th scope=col>Time</th><th scope=col>Payment</th><th scope=col>cogs</th><th scope=col>gross.margin.percentage</th><th scope=col>gross.income</th><th scope=col>Rating</th><th scope=col>Total</th></tr>\n",
              "\t<tr><th></th><th scope=col>&lt;chr&gt;</th><th scope=col>&lt;chr&gt;</th><th scope=col>&lt;chr&gt;</th><th scope=col>&lt;chr&gt;</th><th scope=col>&lt;chr&gt;</th><th scope=col>&lt;dbl&gt;</th><th scope=col>&lt;int&gt;</th><th scope=col>&lt;dbl&gt;</th><th scope=col>&lt;chr&gt;</th><th scope=col>&lt;chr&gt;</th><th scope=col>&lt;chr&gt;</th><th scope=col>&lt;dbl&gt;</th><th scope=col>&lt;dbl&gt;</th><th scope=col>&lt;dbl&gt;</th><th scope=col>&lt;dbl&gt;</th><th scope=col>&lt;dbl&gt;</th></tr>\n",
              "</thead>\n",
              "<tbody>\n",
              "\t<tr><th scope=row>1</th><td>750-67-8428</td><td>A</td><td>Member</td><td>Female</td><td>Health and beauty     </td><td>74.69</td><td>7</td><td>26.1415</td><td>1/5/2019 </td><td>13:08</td><td>Ewallet    </td><td>522.83</td><td>4.761905</td><td>26.1415</td><td>9.1</td><td>548.9715</td></tr>\n",
              "\t<tr><th scope=row>2</th><td>226-31-3081</td><td>C</td><td>Normal</td><td>Female</td><td>Electronic accessories</td><td>15.28</td><td>5</td><td> 3.8200</td><td>3/8/2019 </td><td>10:29</td><td>Cash       </td><td> 76.40</td><td>4.761905</td><td> 3.8200</td><td>9.6</td><td> 80.2200</td></tr>\n",
              "\t<tr><th scope=row>3</th><td>631-41-3108</td><td>A</td><td>Normal</td><td>Male  </td><td>Home and lifestyle    </td><td>46.33</td><td>7</td><td>16.2155</td><td>3/3/2019 </td><td>13:23</td><td>Credit card</td><td>324.31</td><td>4.761905</td><td>16.2155</td><td>7.4</td><td>340.5255</td></tr>\n",
              "\t<tr><th scope=row>4</th><td>123-19-1176</td><td>A</td><td>Member</td><td>Male  </td><td>Health and beauty     </td><td>58.22</td><td>8</td><td>23.2880</td><td>1/27/2019</td><td>20:33</td><td>Ewallet    </td><td>465.76</td><td>4.761905</td><td>23.2880</td><td>8.4</td><td>489.0480</td></tr>\n",
              "\t<tr><th scope=row>5</th><td>373-73-7910</td><td>A</td><td>Normal</td><td>Male  </td><td>Sports and travel     </td><td>86.31</td><td>7</td><td>30.2085</td><td>2/8/2019 </td><td>10:37</td><td>Ewallet    </td><td>604.17</td><td>4.761905</td><td>30.2085</td><td>5.3</td><td>634.3785</td></tr>\n",
              "\t<tr><th scope=row>6</th><td>699-14-3026</td><td>C</td><td>Normal</td><td>Male  </td><td>Electronic accessories</td><td>85.39</td><td>7</td><td>29.8865</td><td>3/25/2019</td><td>18:30</td><td>Ewallet    </td><td>597.73</td><td>4.761905</td><td>29.8865</td><td>4.1</td><td>627.6165</td></tr>\n",
              "</tbody>\n",
              "</table>\n"
            ]
          },
          "metadata": {}
        }
      ]
    },
    {
      "cell_type": "code",
      "metadata": {
        "id": "Hi7g_uckWmjq"
      },
      "source": [
        "# Label encoding\n",
        "#\n",
        "# for column \"Branch\"\n",
        "#\n",
        "df1$Branch <- ifelse(df1$Branch == \"A\", 0, ifelse(df1$Branch == \"C\",1,2))\n",
        "\n",
        "# for column \"Customer.type\"\n",
        "#\n",
        "df1$Customer.type <- ifelse(df1$Customer.type == \"Member\",0,1)\n",
        "\n",
        "# for column \"Gender\"\n",
        "#\n",
        "df1$Gender <- ifelse(df1$Gender == \"Female\",0,1)\n",
        "\n",
        "# for column \"Payment\"\n",
        "#\n",
        "df1$Payment <- ifelse(df1$Payment == \"Ewallet\",0, ifelse(df1$Payment == \"Cash\" ,1,2))\n",
        "\n",
        "# for column \"Product.line\"\n",
        "#\n",
        "df1$Product.line <- ifelse(df1$Product.line == \"Health and beauty\",0, ifelse(df1$Product.line == \"Electronic accessories\",1, ifelse(df1$Product.line == \"Sports and travel\",2, ifelse(df1$Product.line == \"Food and beverages\",3,4))))"
      ],
      "execution_count": 73,
      "outputs": []
    },
    {
      "cell_type": "code",
      "metadata": {
        "id": "e6BID2NX9jbY",
        "colab": {
          "base_uri": "https://localhost:8080/",
          "height": 34
        },
        "outputId": "5d071b58-7743-4023-e5bf-ef25214bf6ba"
      },
      "source": [
        "dim(df1)\n",
        "\n",
        "# label <- LabelEncoder$new()\n",
        "# df1$Product.line <- label$fit_transform(df1$Product.line)\n"
      ],
      "execution_count": 74,
      "outputs": [
        {
          "output_type": "display_data",
          "data": {
            "text/plain": [
              "[1] 1000   16"
            ],
            "text/latex": "\\begin{enumerate*}\n\\item 1000\n\\item 16\n\\end{enumerate*}\n",
            "text/markdown": "1. 1000\n2. 16\n\n\n",
            "text/html": [
              "<style>\n",
              ".list-inline {list-style: none; margin:0; padding: 0}\n",
              ".list-inline>li {display: inline-block}\n",
              ".list-inline>li:not(:last-child)::after {content: \"\\00b7\"; padding: 0 .5ex}\n",
              "</style>\n",
              "<ol class=list-inline><li>1000</li><li>16</li></ol>\n"
            ]
          },
          "metadata": {}
        }
      ]
    },
    {
      "cell_type": "code",
      "metadata": {
        "id": "adNjaa1VebT2",
        "colab": {
          "base_uri": "https://localhost:8080/",
          "height": 190
        },
        "outputId": "b99e6f2d-4f36-4dd8-c2a1-cd9e168da7f5"
      },
      "source": [
        "unique(as.factor(df1$Branch))\n",
        "unique(as.factor(df1$Gender))\n",
        "unique(as.factor(df1$Customer.type))\n",
        "unique(as.factor(df1$Payment))\n",
        "unique(as.factor(df1$Product.line))"
      ],
      "execution_count": 75,
      "outputs": [
        {
          "output_type": "display_data",
          "data": {
            "text/plain": [
              "[1] 0 1 2\n",
              "Levels: 0 1 2"
            ],
            "text/latex": "\\begin{enumerate*}\n\\item 0\n\\item 1\n\\item 2\n\\end{enumerate*}\n\n\\emph{Levels}: \\begin{enumerate*}\n\\item '0'\n\\item '1'\n\\item '2'\n\\end{enumerate*}\n",
            "text/markdown": "1. 0\n2. 1\n3. 2\n\n\n\n**Levels**: 1. '0'\n2. '1'\n3. '2'\n\n\n",
            "text/html": [
              "<style>\n",
              ".list-inline {list-style: none; margin:0; padding: 0}\n",
              ".list-inline>li {display: inline-block}\n",
              ".list-inline>li:not(:last-child)::after {content: \"\\00b7\"; padding: 0 .5ex}\n",
              "</style>\n",
              "<ol class=list-inline><li>0</li><li>1</li><li>2</li></ol>\n",
              "\n",
              "<details>\n",
              "\t<summary style=display:list-item;cursor:pointer>\n",
              "\t\t<strong>Levels</strong>:\n",
              "\t</summary>\n",
              "\t<style>\n",
              "\t.list-inline {list-style: none; margin:0; padding: 0}\n",
              "\t.list-inline>li {display: inline-block}\n",
              "\t.list-inline>li:not(:last-child)::after {content: \"\\00b7\"; padding: 0 .5ex}\n",
              "\t</style>\n",
              "\t<ol class=list-inline><li>'0'</li><li>'1'</li><li>'2'</li></ol>\n",
              "</details>"
            ]
          },
          "metadata": {}
        },
        {
          "output_type": "display_data",
          "data": {
            "text/plain": [
              "[1] 0 1\n",
              "Levels: 0 1"
            ],
            "text/latex": "\\begin{enumerate*}\n\\item 0\n\\item 1\n\\end{enumerate*}\n\n\\emph{Levels}: \\begin{enumerate*}\n\\item '0'\n\\item '1'\n\\end{enumerate*}\n",
            "text/markdown": "1. 0\n2. 1\n\n\n\n**Levels**: 1. '0'\n2. '1'\n\n\n",
            "text/html": [
              "<style>\n",
              ".list-inline {list-style: none; margin:0; padding: 0}\n",
              ".list-inline>li {display: inline-block}\n",
              ".list-inline>li:not(:last-child)::after {content: \"\\00b7\"; padding: 0 .5ex}\n",
              "</style>\n",
              "<ol class=list-inline><li>0</li><li>1</li></ol>\n",
              "\n",
              "<details>\n",
              "\t<summary style=display:list-item;cursor:pointer>\n",
              "\t\t<strong>Levels</strong>:\n",
              "\t</summary>\n",
              "\t<style>\n",
              "\t.list-inline {list-style: none; margin:0; padding: 0}\n",
              "\t.list-inline>li {display: inline-block}\n",
              "\t.list-inline>li:not(:last-child)::after {content: \"\\00b7\"; padding: 0 .5ex}\n",
              "\t</style>\n",
              "\t<ol class=list-inline><li>'0'</li><li>'1'</li></ol>\n",
              "</details>"
            ]
          },
          "metadata": {}
        },
        {
          "output_type": "display_data",
          "data": {
            "text/plain": [
              "[1] 0 1\n",
              "Levels: 0 1"
            ],
            "text/latex": "\\begin{enumerate*}\n\\item 0\n\\item 1\n\\end{enumerate*}\n\n\\emph{Levels}: \\begin{enumerate*}\n\\item '0'\n\\item '1'\n\\end{enumerate*}\n",
            "text/markdown": "1. 0\n2. 1\n\n\n\n**Levels**: 1. '0'\n2. '1'\n\n\n",
            "text/html": [
              "<style>\n",
              ".list-inline {list-style: none; margin:0; padding: 0}\n",
              ".list-inline>li {display: inline-block}\n",
              ".list-inline>li:not(:last-child)::after {content: \"\\00b7\"; padding: 0 .5ex}\n",
              "</style>\n",
              "<ol class=list-inline><li>0</li><li>1</li></ol>\n",
              "\n",
              "<details>\n",
              "\t<summary style=display:list-item;cursor:pointer>\n",
              "\t\t<strong>Levels</strong>:\n",
              "\t</summary>\n",
              "\t<style>\n",
              "\t.list-inline {list-style: none; margin:0; padding: 0}\n",
              "\t.list-inline>li {display: inline-block}\n",
              "\t.list-inline>li:not(:last-child)::after {content: \"\\00b7\"; padding: 0 .5ex}\n",
              "\t</style>\n",
              "\t<ol class=list-inline><li>'0'</li><li>'1'</li></ol>\n",
              "</details>"
            ]
          },
          "metadata": {}
        },
        {
          "output_type": "display_data",
          "data": {
            "text/plain": [
              "[1] 0 1 2\n",
              "Levels: 0 1 2"
            ],
            "text/latex": "\\begin{enumerate*}\n\\item 0\n\\item 1\n\\item 2\n\\end{enumerate*}\n\n\\emph{Levels}: \\begin{enumerate*}\n\\item '0'\n\\item '1'\n\\item '2'\n\\end{enumerate*}\n",
            "text/markdown": "1. 0\n2. 1\n3. 2\n\n\n\n**Levels**: 1. '0'\n2. '1'\n3. '2'\n\n\n",
            "text/html": [
              "<style>\n",
              ".list-inline {list-style: none; margin:0; padding: 0}\n",
              ".list-inline>li {display: inline-block}\n",
              ".list-inline>li:not(:last-child)::after {content: \"\\00b7\"; padding: 0 .5ex}\n",
              "</style>\n",
              "<ol class=list-inline><li>0</li><li>1</li><li>2</li></ol>\n",
              "\n",
              "<details>\n",
              "\t<summary style=display:list-item;cursor:pointer>\n",
              "\t\t<strong>Levels</strong>:\n",
              "\t</summary>\n",
              "\t<style>\n",
              "\t.list-inline {list-style: none; margin:0; padding: 0}\n",
              "\t.list-inline>li {display: inline-block}\n",
              "\t.list-inline>li:not(:last-child)::after {content: \"\\00b7\"; padding: 0 .5ex}\n",
              "\t</style>\n",
              "\t<ol class=list-inline><li>'0'</li><li>'1'</li><li>'2'</li></ol>\n",
              "</details>"
            ]
          },
          "metadata": {}
        },
        {
          "output_type": "display_data",
          "data": {
            "text/plain": [
              "[1] 0 1 4 2 3\n",
              "Levels: 0 1 2 3 4"
            ],
            "text/latex": "\\begin{enumerate*}\n\\item 0\n\\item 1\n\\item 4\n\\item 2\n\\item 3\n\\end{enumerate*}\n\n\\emph{Levels}: \\begin{enumerate*}\n\\item '0'\n\\item '1'\n\\item '2'\n\\item '3'\n\\item '4'\n\\end{enumerate*}\n",
            "text/markdown": "1. 0\n2. 1\n3. 4\n4. 2\n5. 3\n\n\n\n**Levels**: 1. '0'\n2. '1'\n3. '2'\n4. '3'\n5. '4'\n\n\n",
            "text/html": [
              "<style>\n",
              ".list-inline {list-style: none; margin:0; padding: 0}\n",
              ".list-inline>li {display: inline-block}\n",
              ".list-inline>li:not(:last-child)::after {content: \"\\00b7\"; padding: 0 .5ex}\n",
              "</style>\n",
              "<ol class=list-inline><li>0</li><li>1</li><li>4</li><li>2</li><li>3</li></ol>\n",
              "\n",
              "<details>\n",
              "\t<summary style=display:list-item;cursor:pointer>\n",
              "\t\t<strong>Levels</strong>:\n",
              "\t</summary>\n",
              "\t<style>\n",
              "\t.list-inline {list-style: none; margin:0; padding: 0}\n",
              "\t.list-inline>li {display: inline-block}\n",
              "\t.list-inline>li:not(:last-child)::after {content: \"\\00b7\"; padding: 0 .5ex}\n",
              "\t</style>\n",
              "\t<ol class=list-inline><li>'0'</li><li>'1'</li><li>'2'</li><li>'3'</li><li>'4'</li></ol>\n",
              "</details>"
            ]
          },
          "metadata": {}
        }
      ]
    },
    {
      "cell_type": "markdown",
      "metadata": {
        "id": "3Xnxy1dKRfDl"
      },
      "source": [
        "### Implementing the task."
      ]
    },
    {
      "cell_type": "code",
      "metadata": {
        "colab": {
          "base_uri": "https://localhost:8080/",
          "height": 286
        },
        "id": "peUgMGosrCUV",
        "outputId": "a64aba83-28cf-496c-e66a-1ffb30ccbf16"
      },
      "source": [
        "a<- df1[,c(2:8,11,12,14,15,16)]\n",
        "head(a)"
      ],
      "execution_count": 76,
      "outputs": [
        {
          "output_type": "display_data",
          "data": {
            "text/plain": [
              "  Branch Customer.type Gender Product.line Unit.price Quantity Tax     Payment\n",
              "1 0      0             0      0            74.69      7        26.1415 0      \n",
              "2 1      1             0      1            15.28      5         3.8200 1      \n",
              "3 0      1             1      4            46.33      7        16.2155 2      \n",
              "4 0      0             1      0            58.22      8        23.2880 0      \n",
              "5 0      1             1      2            86.31      7        30.2085 0      \n",
              "6 1      1             1      1            85.39      7        29.8865 0      \n",
              "  cogs   gross.income Rating Total   \n",
              "1 522.83 26.1415      9.1    548.9715\n",
              "2  76.40  3.8200      9.6     80.2200\n",
              "3 324.31 16.2155      7.4    340.5255\n",
              "4 465.76 23.2880      8.4    489.0480\n",
              "5 604.17 30.2085      5.3    634.3785\n",
              "6 597.73 29.8865      4.1    627.6165"
            ],
            "text/latex": "A data.frame: 6 × 12\n\\begin{tabular}{r|llllllllllll}\n  & Branch & Customer.type & Gender & Product.line & Unit.price & Quantity & Tax & Payment & cogs & gross.income & Rating & Total\\\\\n  & <dbl> & <dbl> & <dbl> & <dbl> & <dbl> & <int> & <dbl> & <dbl> & <dbl> & <dbl> & <dbl> & <dbl>\\\\\n\\hline\n\t1 & 0 & 0 & 0 & 0 & 74.69 & 7 & 26.1415 & 0 & 522.83 & 26.1415 & 9.1 & 548.9715\\\\\n\t2 & 1 & 1 & 0 & 1 & 15.28 & 5 &  3.8200 & 1 &  76.40 &  3.8200 & 9.6 &  80.2200\\\\\n\t3 & 0 & 1 & 1 & 4 & 46.33 & 7 & 16.2155 & 2 & 324.31 & 16.2155 & 7.4 & 340.5255\\\\\n\t4 & 0 & 0 & 1 & 0 & 58.22 & 8 & 23.2880 & 0 & 465.76 & 23.2880 & 8.4 & 489.0480\\\\\n\t5 & 0 & 1 & 1 & 2 & 86.31 & 7 & 30.2085 & 0 & 604.17 & 30.2085 & 5.3 & 634.3785\\\\\n\t6 & 1 & 1 & 1 & 1 & 85.39 & 7 & 29.8865 & 0 & 597.73 & 29.8865 & 4.1 & 627.6165\\\\\n\\end{tabular}\n",
            "text/markdown": "\nA data.frame: 6 × 12\n\n| <!--/--> | Branch &lt;dbl&gt; | Customer.type &lt;dbl&gt; | Gender &lt;dbl&gt; | Product.line &lt;dbl&gt; | Unit.price &lt;dbl&gt; | Quantity &lt;int&gt; | Tax &lt;dbl&gt; | Payment &lt;dbl&gt; | cogs &lt;dbl&gt; | gross.income &lt;dbl&gt; | Rating &lt;dbl&gt; | Total &lt;dbl&gt; |\n|---|---|---|---|---|---|---|---|---|---|---|---|---|\n| 1 | 0 | 0 | 0 | 0 | 74.69 | 7 | 26.1415 | 0 | 522.83 | 26.1415 | 9.1 | 548.9715 |\n| 2 | 1 | 1 | 0 | 1 | 15.28 | 5 |  3.8200 | 1 |  76.40 |  3.8200 | 9.6 |  80.2200 |\n| 3 | 0 | 1 | 1 | 4 | 46.33 | 7 | 16.2155 | 2 | 324.31 | 16.2155 | 7.4 | 340.5255 |\n| 4 | 0 | 0 | 1 | 0 | 58.22 | 8 | 23.2880 | 0 | 465.76 | 23.2880 | 8.4 | 489.0480 |\n| 5 | 0 | 1 | 1 | 2 | 86.31 | 7 | 30.2085 | 0 | 604.17 | 30.2085 | 5.3 | 634.3785 |\n| 6 | 1 | 1 | 1 | 1 | 85.39 | 7 | 29.8865 | 0 | 597.73 | 29.8865 | 4.1 | 627.6165 |\n\n",
            "text/html": [
              "<table class=\"dataframe\">\n",
              "<caption>A data.frame: 6 × 12</caption>\n",
              "<thead>\n",
              "\t<tr><th></th><th scope=col>Branch</th><th scope=col>Customer.type</th><th scope=col>Gender</th><th scope=col>Product.line</th><th scope=col>Unit.price</th><th scope=col>Quantity</th><th scope=col>Tax</th><th scope=col>Payment</th><th scope=col>cogs</th><th scope=col>gross.income</th><th scope=col>Rating</th><th scope=col>Total</th></tr>\n",
              "\t<tr><th></th><th scope=col>&lt;dbl&gt;</th><th scope=col>&lt;dbl&gt;</th><th scope=col>&lt;dbl&gt;</th><th scope=col>&lt;dbl&gt;</th><th scope=col>&lt;dbl&gt;</th><th scope=col>&lt;int&gt;</th><th scope=col>&lt;dbl&gt;</th><th scope=col>&lt;dbl&gt;</th><th scope=col>&lt;dbl&gt;</th><th scope=col>&lt;dbl&gt;</th><th scope=col>&lt;dbl&gt;</th><th scope=col>&lt;dbl&gt;</th></tr>\n",
              "</thead>\n",
              "<tbody>\n",
              "\t<tr><th scope=row>1</th><td>0</td><td>0</td><td>0</td><td>0</td><td>74.69</td><td>7</td><td>26.1415</td><td>0</td><td>522.83</td><td>26.1415</td><td>9.1</td><td>548.9715</td></tr>\n",
              "\t<tr><th scope=row>2</th><td>1</td><td>1</td><td>0</td><td>1</td><td>15.28</td><td>5</td><td> 3.8200</td><td>1</td><td> 76.40</td><td> 3.8200</td><td>9.6</td><td> 80.2200</td></tr>\n",
              "\t<tr><th scope=row>3</th><td>0</td><td>1</td><td>1</td><td>4</td><td>46.33</td><td>7</td><td>16.2155</td><td>2</td><td>324.31</td><td>16.2155</td><td>7.4</td><td>340.5255</td></tr>\n",
              "\t<tr><th scope=row>4</th><td>0</td><td>0</td><td>1</td><td>0</td><td>58.22</td><td>8</td><td>23.2880</td><td>0</td><td>465.76</td><td>23.2880</td><td>8.4</td><td>489.0480</td></tr>\n",
              "\t<tr><th scope=row>5</th><td>0</td><td>1</td><td>1</td><td>2</td><td>86.31</td><td>7</td><td>30.2085</td><td>0</td><td>604.17</td><td>30.2085</td><td>5.3</td><td>634.3785</td></tr>\n",
              "\t<tr><th scope=row>6</th><td>1</td><td>1</td><td>1</td><td>1</td><td>85.39</td><td>7</td><td>29.8865</td><td>0</td><td>597.73</td><td>29.8865</td><td>4.1</td><td>627.6165</td></tr>\n",
              "</tbody>\n",
              "</table>\n"
            ]
          },
          "metadata": {}
        }
      ]
    },
    {
      "cell_type": "code",
      "metadata": {
        "id": "NIjNbD9fQZk9",
        "colab": {
          "base_uri": "https://localhost:8080/",
          "height": 173
        },
        "outputId": "fd905944-2342-45a3-a342-5917912e2ba7"
      },
      "source": [
        "# performing the pca to the dataframe\n",
        "#\n",
        "\n",
        "df1.pca <- prcomp(df1[,c(2:8,11,12,14,15,16)], center = TRUE)\n",
        "summary(df1.pca)"
      ],
      "execution_count": 77,
      "outputs": [
        {
          "output_type": "display_data",
          "data": {
            "text/plain": [
              "Importance of components:\n",
              "                            PC1      PC2     PC3     PC4     PC5     PC6\n",
              "Standard deviation     340.3819 20.53224 1.72001 1.47273 1.24441 0.82604\n",
              "Proportion of Variance   0.9963  0.00363 0.00003 0.00002 0.00001 0.00001\n",
              "Cumulative Proportion    0.9963  0.99993 0.99995 0.99997 0.99998 0.99999\n",
              "                           PC7    PC8    PC9      PC10      PC11      PC12\n",
              "Standard deviation     0.80193 0.5051 0.4891 8.064e-14 7.285e-15 1.676e-15\n",
              "Proportion of Variance 0.00001 0.0000 0.0000 0.000e+00 0.000e+00 0.000e+00\n",
              "Cumulative Proportion  1.00000 1.0000 1.0000 1.000e+00 1.000e+00 1.000e+00"
            ]
          },
          "metadata": {}
        }
      ]
    },
    {
      "cell_type": "code",
      "metadata": {
        "id": "-OlxiqbGzcNR",
        "colab": {
          "base_uri": "https://localhost:8080/"
        },
        "outputId": "5e9e8922-1e47-4b53-af21-26591e1243e1"
      },
      "source": [
        "str(df1.pca)"
      ],
      "execution_count": 78,
      "outputs": [
        {
          "output_type": "stream",
          "name": "stdout",
          "text": [
            "List of 5\n",
            " $ sdev    : num [1:12] 340.38 20.53 1.72 1.47 1.24 ...\n",
            " $ rotation: num [1:12, 1:12] 3.09e-05 -2.90e-05 -7.24e-05 -1.96e-05 4.95e-02 ...\n",
            "  ..- attr(*, \"dimnames\")=List of 2\n",
            "  .. ..$ : chr [1:12] \"Branch\" \"Customer.type\" \"Gender\" \"Product.line\" ...\n",
            "  .. ..$ : chr [1:12] \"PC1\" \"PC2\" \"PC3\" \"PC4\" ...\n",
            " $ center  : Named num [1:12] 0.992 0.499 0.499 2.376 55.672 ...\n",
            "  ..- attr(*, \"names\")= chr [1:12] \"Branch\" \"Customer.type\" \"Gender\" \"Product.line\" ...\n",
            " $ scale   : logi FALSE\n",
            " $ x       : num [1:1000, 1:12] 313 -337.2 23.8 229.5 431.5 ...\n",
            "  ..- attr(*, \"dimnames\")=List of 2\n",
            "  .. ..$ : NULL\n",
            "  .. ..$ : chr [1:12] \"PC1\" \"PC2\" \"PC3\" \"PC4\" ...\n",
            " - attr(*, \"class\")= chr \"prcomp\"\n"
          ]
        }
      ]
    },
    {
      "cell_type": "code",
      "metadata": {
        "id": "UW2-rZE2Sy-3",
        "colab": {
          "base_uri": "https://localhost:8080/",
          "height": 437
        },
        "outputId": "71484cbc-ab3a-4b3c-c64a-dec9389cbbb6"
      },
      "source": [
        "# plotting to get a visual on the variables that we can use (reduce to)\n",
        "#\n",
        "ggbiplot(df1.pca,obs.scale = 0.00001, var.scale = 0.00001,alpha = 0)"
      ],
      "execution_count": 79,
      "outputs": [
        {
          "output_type": "display_data",
          "data": {
            "image/png": "[encoded data removed]",
            "text/plain": [
              "plot without title"
            ]
          },
          "metadata": {
            "image/png": {
              "width": 420,
              "height": 420
            }
          }
        }
      ]
    },
    {
      "cell_type": "markdown",
      "metadata": {
        "id": "Sv2hqEYcS2M7"
      },
      "source": [
        "## Part 2: Feature Selection"
      ]
    },
    {
      "cell_type": "code",
      "metadata": {
        "id": "upG4HfUxTNaw"
      },
      "source": [
        "# Installing and loading our caret package\n",
        "suppressWarnings(\n",
        "        suppressMessages(if\n",
        "                         (!require(caret, quietly=TRUE))\n",
        "                install.packages(\"caret\")))\n",
        "library(caret)"
      ],
      "execution_count": 80,
      "outputs": []
    },
    {
      "cell_type": "code",
      "metadata": {
        "id": "Va_Ai93Zt0hF"
      },
      "source": [
        "# Installing and loading the corrplot package for plotting\n",
        "#\n",
        "suppressWarnings(\n",
        "        suppressMessages(if\n",
        "                         (!require(corrplot, quietly=TRUE))\n",
        "                install.packages(\"corrplot\")))\n",
        "library(corrplot)"
      ],
      "execution_count": 81,
      "outputs": []
    },
    {
      "cell_type": "code",
      "metadata": {
        "id": "DhRxok3U4hd7",
        "colab": {
          "base_uri": "https://localhost:8080/",
          "height": 52
        },
        "outputId": "f05194d4-208a-4399-82a7-38c003c50c4c"
      },
      "source": [
        "# Calculating the correlation matrix\n",
        "#\n",
        "correlationMatrix <- cor(a)\n",
        "\n",
        "# Find attributes that are highly correlated\n",
        "#\n",
        "highlyCorrelated <- findCorrelation(correlationMatrix, cutoff=0.75)\n",
        "\n",
        "# Highly correlated attributes\n",
        "# \n",
        "highlyCorrelated\n",
        "\n",
        "names(a[,highlyCorrelated])"
      ],
      "execution_count": 82,
      "outputs": [
        {
          "output_type": "display_data",
          "data": {
            "text/plain": [
              "[1]  7  9 10"
            ],
            "text/latex": "\\begin{enumerate*}\n\\item 7\n\\item 9\n\\item 10\n\\end{enumerate*}\n",
            "text/markdown": "1. 7\n2. 9\n3. 10\n\n\n",
            "text/html": [
              "<style>\n",
              ".list-inline {list-style: none; margin:0; padding: 0}\n",
              ".list-inline>li {display: inline-block}\n",
              ".list-inline>li:not(:last-child)::after {content: \"\\00b7\"; padding: 0 .5ex}\n",
              "</style>\n",
              "<ol class=list-inline><li>7</li><li>9</li><li>10</li></ol>\n"
            ]
          },
          "metadata": {}
        },
        {
          "output_type": "display_data",
          "data": {
            "text/plain": [
              "[1] \"Tax\"          \"cogs\"         \"gross.income\""
            ],
            "text/latex": "\\begin{enumerate*}\n\\item 'Tax'\n\\item 'cogs'\n\\item 'gross.income'\n\\end{enumerate*}\n",
            "text/markdown": "1. 'Tax'\n2. 'cogs'\n3. 'gross.income'\n\n\n",
            "text/html": [
              "<style>\n",
              ".list-inline {list-style: none; margin:0; padding: 0}\n",
              ".list-inline>li {display: inline-block}\n",
              ".list-inline>li:not(:last-child)::after {content: \"\\00b7\"; padding: 0 .5ex}\n",
              "</style>\n",
              "<ol class=list-inline><li>'Tax'</li><li>'cogs'</li><li>'gross.income'</li></ol>\n"
            ]
          },
          "metadata": {}
        }
      ]
    },
    {
      "cell_type": "code",
      "metadata": {
        "colab": {
          "base_uri": "https://localhost:8080/",
          "height": 437
        },
        "id": "vYBv60zY8QFb",
        "outputId": "0a9412fa-8519-4395-aeb9-076f63a63ced"
      },
      "source": [
        "# removing the variables with a higher correlation \n",
        "# \n",
        "a2<-a[-highlyCorrelated]\n",
        "\n",
        "# Performing our graphical comparison\n",
        "# \n",
        "par(mfrow = c(1, 2))\n",
        "corrplot(correlationMatrix, order = \"hclust\")\n",
        "corrplot(cor(a2), order = \"hclust\")"
      ],
      "execution_count": 83,
      "outputs": [
        {
          "output_type": "display_data",
          "data": {
            "image/png": "[encoded data removed]",
            "text/plain": [
              "Plot with title “”"
            ]
          },
          "metadata": {
            "image/png": {
              "width": 420,
              "height": 420
            }
          }
        }
      ]
    },
    {
      "cell_type": "markdown",
      "metadata": {
        "id": "ozNo-pq_t1Ie"
      },
      "source": [
        "## Part 3: Association Rules"
      ]
    },
    {
      "cell_type": "markdown",
      "metadata": {
        "id": "7p0gMlq99JTT"
      },
      "source": [
        "I will be using the df2 dataset"
      ]
    },
    {
      "cell_type": "code",
      "metadata": {
        "id": "5pJ4TPZTvtjO",
        "colab": {
          "base_uri": "https://localhost:8080/"
        },
        "outputId": "6552894a-b0fd-4d97-bc71-b0ca5f681533"
      },
      "source": [
        "# Previewing our first 5 transactions\n",
        "#\n",
        "inspect(df2[1:5])"
      ],
      "execution_count": 84,
      "outputs": [
        {
          "output_type": "stream",
          "name": "stdout",
          "text": [
            "    items               \n",
            "[1] {almonds,           \n",
            "     antioxydant juice, \n",
            "     avocado,           \n",
            "     cottage cheese,    \n",
            "     energy drink,      \n",
            "     frozen smoothie,   \n",
            "     green grapes,      \n",
            "     green tea,         \n",
            "     honey,             \n",
            "     low fat yogurt,    \n",
            "     mineral water,     \n",
            "     olive oil,         \n",
            "     salad,             \n",
            "     salmon,            \n",
            "     shrimp,            \n",
            "     spinach,           \n",
            "     tomato juice,      \n",
            "     vegetables mix,    \n",
            "     whole weat flour,  \n",
            "     yams}              \n",
            "[2] {burgers,           \n",
            "     eggs,              \n",
            "     meatballs}         \n",
            "[3] {chutney}           \n",
            "[4] {avocado,           \n",
            "     turkey}            \n",
            "[5] {energy bar,        \n",
            "     green tea,         \n",
            "     milk,              \n",
            "     mineral water,     \n",
            "     whole wheat rice}  \n"
          ]
        }
      ]
    },
    {
      "cell_type": "code",
      "metadata": {
        "colab": {
          "base_uri": "https://localhost:8080/",
          "height": 725
        },
        "id": "qjAzCdhaDz05",
        "outputId": "dfb4501b-4dd4-483b-d154-51e2fe8f4137"
      },
      "source": [
        "# Previewing the items that make up our dataset\n",
        "# \n",
        "items<-as.data.frame(itemLabels(df2))\n",
        "colnames(items) <- \"Item\"\n",
        "head(items, 20)"
      ],
      "execution_count": 85,
      "outputs": [
        {
          "output_type": "display_data",
          "data": {
            "text/plain": [
              "   Item             \n",
              "1  almonds          \n",
              "2  antioxydant juice\n",
              "3  asparagus        \n",
              "4  avocado          \n",
              "5  babies food      \n",
              "6  bacon            \n",
              "7  barbecue sauce   \n",
              "8  black tea        \n",
              "9  blueberries      \n",
              "10 body spray       \n",
              "11 bramble          \n",
              "12 brownies         \n",
              "13 bug spray        \n",
              "14 burger sauce     \n",
              "15 burgers          \n",
              "16 butter           \n",
              "17 cake             \n",
              "18 candy bars       \n",
              "19 carrots          \n",
              "20 cauliflower      "
            ],
            "text/latex": "A data.frame: 20 × 1\n\\begin{tabular}{r|l}\n  & Item\\\\\n  & <chr>\\\\\n\\hline\n\t1 & almonds          \\\\\n\t2 & antioxydant juice\\\\\n\t3 & asparagus        \\\\\n\t4 & avocado          \\\\\n\t5 & babies food      \\\\\n\t6 & bacon            \\\\\n\t7 & barbecue sauce   \\\\\n\t8 & black tea        \\\\\n\t9 & blueberries      \\\\\n\t10 & body spray       \\\\\n\t11 & bramble          \\\\\n\t12 & brownies         \\\\\n\t13 & bug spray        \\\\\n\t14 & burger sauce     \\\\\n\t15 & burgers          \\\\\n\t16 & butter           \\\\\n\t17 & cake             \\\\\n\t18 & candy bars       \\\\\n\t19 & carrots          \\\\\n\t20 & cauliflower      \\\\\n\\end{tabular}\n",
            "text/markdown": "\nA data.frame: 20 × 1\n\n| <!--/--> | Item &lt;chr&gt; |\n|---|---|\n| 1 | almonds           |\n| 2 | antioxydant juice |\n| 3 | asparagus         |\n| 4 | avocado           |\n| 5 | babies food       |\n| 6 | bacon             |\n| 7 | barbecue sauce    |\n| 8 | black tea         |\n| 9 | blueberries       |\n| 10 | body spray        |\n| 11 | bramble           |\n| 12 | brownies          |\n| 13 | bug spray         |\n| 14 | burger sauce      |\n| 15 | burgers           |\n| 16 | butter            |\n| 17 | cake              |\n| 18 | candy bars        |\n| 19 | carrots           |\n| 20 | cauliflower       |\n\n",
            "text/html": [
              "<table class=\"dataframe\">\n",
              "<caption>A data.frame: 20 × 1</caption>\n",
              "<thead>\n",
              "\t<tr><th></th><th scope=col>Item</th></tr>\n",
              "\t<tr><th></th><th scope=col>&lt;chr&gt;</th></tr>\n",
              "</thead>\n",
              "<tbody>\n",
              "\t<tr><th scope=row>1</th><td>almonds          </td></tr>\n",
              "\t<tr><th scope=row>2</th><td>antioxydant juice</td></tr>\n",
              "\t<tr><th scope=row>3</th><td>asparagus        </td></tr>\n",
              "\t<tr><th scope=row>4</th><td>avocado          </td></tr>\n",
              "\t<tr><th scope=row>5</th><td>babies food      </td></tr>\n",
              "\t<tr><th scope=row>6</th><td>bacon            </td></tr>\n",
              "\t<tr><th scope=row>7</th><td>barbecue sauce   </td></tr>\n",
              "\t<tr><th scope=row>8</th><td>black tea        </td></tr>\n",
              "\t<tr><th scope=row>9</th><td>blueberries      </td></tr>\n",
              "\t<tr><th scope=row>10</th><td>body spray       </td></tr>\n",
              "\t<tr><th scope=row>11</th><td>bramble          </td></tr>\n",
              "\t<tr><th scope=row>12</th><td>brownies         </td></tr>\n",
              "\t<tr><th scope=row>13</th><td>bug spray        </td></tr>\n",
              "\t<tr><th scope=row>14</th><td>burger sauce     </td></tr>\n",
              "\t<tr><th scope=row>15</th><td>burgers          </td></tr>\n",
              "\t<tr><th scope=row>16</th><td>butter           </td></tr>\n",
              "\t<tr><th scope=row>17</th><td>cake             </td></tr>\n",
              "\t<tr><th scope=row>18</th><td>candy bars       </td></tr>\n",
              "\t<tr><th scope=row>19</th><td>carrots          </td></tr>\n",
              "\t<tr><th scope=row>20</th><td>cauliflower      </td></tr>\n",
              "</tbody>\n",
              "</table>\n"
            ]
          },
          "metadata": {}
        }
      ]
    },
    {
      "cell_type": "code",
      "metadata": {
        "colab": {
          "base_uri": "https://localhost:8080/",
          "height": 450
        },
        "id": "hc3XnW1bCun1",
        "outputId": "1425e1c7-d235-4204-bf34-b8e07fa93630"
      },
      "source": [
        "summary(df2)"
      ],
      "execution_count": 86,
      "outputs": [
        {
          "output_type": "display_data",
          "data": {
            "text/plain": [
              "transactions as itemMatrix in sparse format with\n",
              " 7501 rows (elements/itemsets/transactions) and\n",
              " 119 columns (items) and a density of 0.03288973 \n",
              "\n",
              "most frequent items:\n",
              "mineral water          eggs     spaghetti  french fries     chocolate \n",
              "         1788          1348          1306          1282          1229 \n",
              "      (Other) \n",
              "        22405 \n",
              "\n",
              "element (itemset/transaction) length distribution:\n",
              "sizes\n",
              "   1    2    3    4    5    6    7    8    9   10   11   12   13   14   15   16 \n",
              "1754 1358 1044  816  667  493  391  324  259  139  102   67   40   22   17    4 \n",
              "  18   19   20 \n",
              "   1    2    1 \n",
              "\n",
              "   Min. 1st Qu.  Median    Mean 3rd Qu.    Max. \n",
              "  1.000   2.000   3.000   3.914   5.000  20.000 \n",
              "\n",
              "includes extended item information - examples:\n",
              "             labels\n",
              "1           almonds\n",
              "2 antioxydant juice\n",
              "3         asparagus"
            ]
          },
          "metadata": {}
        }
      ]
    },
    {
      "cell_type": "code",
      "metadata": {
        "colab": {
          "base_uri": "https://localhost:8080/",
          "height": 857
        },
        "id": "SD4BTm7DFupJ",
        "outputId": "577c329d-e217-452a-87f2-6aa2153bb918"
      },
      "source": [
        "# Getting the frequency of items \n",
        "#\n",
        "\n",
        "itemFrequencyPlot(df2, topN = 15,col=\"blue\")\n",
        "itemFrequencyPlot(df2, support = 0.1,col=\"red\")"
      ],
      "execution_count": 87,
      "outputs": [
        {
          "output_type": "display_data",
          "data": {
            "image/png": "[encoded data removed]",
            "text/plain": [
              "plot without title"
            ]
          },
          "metadata": {
            "image/png": {
              "width": 420,
              "height": 420
            }
          }
        },
        {
          "output_type": "display_data",
          "data": {
            "image/png": "[encoded data removed]",
            "text/plain": [
              "plot without title"
            ]
          },
          "metadata": {
            "image/png": {
              "width": 420,
              "height": 420
            }
          }
        }
      ]
    },
    {
      "cell_type": "code",
      "metadata": {
        "colab": {
          "base_uri": "https://localhost:8080/",
          "height": 398
        },
        "id": "aNl8adZuOGR7",
        "outputId": "6d4b721a-1762-440e-dafa-83fe2b9f2696"
      },
      "source": [
        "# creating a model using apriori function \n",
        "#\n",
        "rules <- apriori (df2, parameter = list(supp = 0.001, conf = 0.8))\n",
        "rules\n",
        "\n"
      ],
      "execution_count": 88,
      "outputs": [
        {
          "output_type": "stream",
          "name": "stdout",
          "text": [
            "Apriori\n",
            "\n",
            "Parameter specification:\n",
            " confidence minval smax arem  aval originalSupport maxtime support minlen\n",
            "        0.8    0.1    1 none FALSE            TRUE       5   0.001      1\n",
            " maxlen target  ext\n",
            "     10  rules TRUE\n",
            "\n",
            "Algorithmic control:\n",
            " filter tree heap memopt load sort verbose\n",
            "    0.1 TRUE TRUE  FALSE TRUE    2    TRUE\n",
            "\n",
            "Absolute minimum support count: 7 \n",
            "\n",
            "set item appearances ...[0 item(s)] done [0.00s].\n",
            "set transactions ...[119 item(s), 7501 transaction(s)] done [0.00s].\n",
            "sorting and recoding items ... [116 item(s)] done [0.00s].\n",
            "creating transaction tree ... done [0.00s].\n",
            "checking subsets of size 1 2 3 4 5 6 done [0.01s].\n",
            "writing ... [74 rule(s)] done [0.00s].\n",
            "creating S4 object  ... done [0.00s].\n"
          ]
        },
        {
          "output_type": "display_data",
          "data": {
            "text/plain": [
              "set of 74 rules "
            ]
          },
          "metadata": {}
        }
      ]
    },
    {
      "cell_type": "markdown",
      "metadata": {
        "id": "ASZJPV0pSGla"
      },
      "source": [
        "74 rules is on a lower side thus decreasing the confidence level"
      ]
    },
    {
      "cell_type": "code",
      "metadata": {
        "colab": {
          "base_uri": "https://localhost:8080/",
          "height": 398
        },
        "id": "JO5GUmdTSOru",
        "outputId": "f7d8f0e5-d4bb-4cac-afeb-27c2266275e3"
      },
      "source": [
        "rules2 <- apriori (df2, parameter = list(supp = 0.001, conf = 0.7))\n",
        "rules2"
      ],
      "execution_count": 89,
      "outputs": [
        {
          "output_type": "stream",
          "name": "stdout",
          "text": [
            "Apriori\n",
            "\n",
            "Parameter specification:\n",
            " confidence minval smax arem  aval originalSupport maxtime support minlen\n",
            "        0.7    0.1    1 none FALSE            TRUE       5   0.001      1\n",
            " maxlen target  ext\n",
            "     10  rules TRUE\n",
            "\n",
            "Algorithmic control:\n",
            " filter tree heap memopt load sort verbose\n",
            "    0.1 TRUE TRUE  FALSE TRUE    2    TRUE\n",
            "\n",
            "Absolute minimum support count: 7 \n",
            "\n",
            "set item appearances ...[0 item(s)] done [0.00s].\n",
            "set transactions ...[119 item(s), 7501 transaction(s)] done [0.00s].\n",
            "sorting and recoding items ... [116 item(s)] done [0.00s].\n",
            "creating transaction tree ... done [0.00s].\n",
            "checking subsets of size 1 2 3 4 5 6 done [0.01s].\n",
            "writing ... [200 rule(s)] done [0.00s].\n",
            "creating S4 object  ... done [0.00s].\n"
          ]
        },
        {
          "output_type": "display_data",
          "data": {
            "text/plain": [
              "set of 200 rules "
            ]
          },
          "metadata": {}
        }
      ]
    },
    {
      "cell_type": "markdown",
      "metadata": {
        "id": "SM__-facSYhI"
      },
      "source": [
        "200 rules is somewhat substantial"
      ]
    },
    {
      "cell_type": "code",
      "metadata": {
        "colab": {
          "base_uri": "https://localhost:8080/",
          "height": 538
        },
        "id": "FcGL9pmJSeNz",
        "outputId": "33f32864-ad3e-4b4e-9a19-8f8c5b25b8d5"
      },
      "source": [
        "# Exploring our rules\n",
        "#\n",
        "summary(rules2)"
      ],
      "execution_count": 90,
      "outputs": [
        {
          "output_type": "display_data",
          "data": {
            "text/plain": [
              "set of 200 rules\n",
              "\n",
              "rule length distribution (lhs + rhs):sizes\n",
              "  3   4   5   6 \n",
              " 44 122  33   1 \n",
              "\n",
              "   Min. 1st Qu.  Median    Mean 3rd Qu.    Max. \n",
              "  3.000   4.000   4.000   3.955   4.000   6.000 \n",
              "\n",
              "summary of quality measures:\n",
              "    support           confidence        coverage             lift       \n",
              " Min.   :0.001067   Min.   :0.7000   Min.   :0.001067   Min.   : 2.937  \n",
              " 1st Qu.:0.001067   1st Qu.:0.7273   1st Qu.:0.001466   1st Qu.: 3.088  \n",
              " Median :0.001200   Median :0.7500   Median :0.001466   Median : 3.616  \n",
              " Mean   :0.001330   Mean   :0.7767   Mean   :0.001728   Mean   : 4.160  \n",
              " 3rd Qu.:0.001466   3rd Qu.:0.8139   3rd Qu.:0.001866   3rd Qu.: 4.418  \n",
              " Max.   :0.003066   Max.   :1.0000   Max.   :0.004133   Max.   :12.722  \n",
              "     count      \n",
              " Min.   : 8.00  \n",
              " 1st Qu.: 8.00  \n",
              " Median : 9.00  \n",
              " Mean   : 9.98  \n",
              " 3rd Qu.:11.00  \n",
              " Max.   :23.00  \n",
              "\n",
              "mining info:\n",
              " data ntransactions support confidence\n",
              "  df2          7501   0.001        0.7\n",
              "                                                            call\n",
              " apriori(data = df2, parameter = list(supp = 0.001, conf = 0.7))"
            ]
          },
          "metadata": {}
        }
      ]
    },
    {
      "cell_type": "code",
      "metadata": {
        "colab": {
          "base_uri": "https://localhost:8080/"
        },
        "id": "TF_7I6GmWmF_",
        "outputId": "4ed07a7d-3671-45fb-eda4-d73dc13641e3"
      },
      "source": [
        "# Ordering these rules by the level of confidence\n",
        "#\n",
        "rules2<-sort(rules2, by=\"confidence\", decreasing=TRUE)\n",
        "inspect(rules2[1:10])"
      ],
      "execution_count": 91,
      "outputs": [
        {
          "output_type": "stream",
          "name": "stdout",
          "text": [
            "     lhs                        rhs                 support confidence    coverage      lift count\n",
            "[1]  {french fries,                                                                               \n",
            "      mushroom cream sauce,                                                                       \n",
            "      pasta}                 => {escalope}      0.001066524  1.0000000 0.001066524 12.606723     8\n",
            "[2]  {ground beef,                                                                                \n",
            "      light cream,                                                                                \n",
            "      olive oil}             => {mineral water} 0.001199840  1.0000000 0.001199840  4.195190     9\n",
            "[3]  {cake,                                                                                       \n",
            "      meatballs,                                                                                  \n",
            "      mineral water}         => {milk}          0.001066524  1.0000000 0.001066524  7.717078     8\n",
            "[4]  {cake,                                                                                       \n",
            "      olive oil,                                                                                  \n",
            "      shrimp}                => {mineral water} 0.001199840  1.0000000 0.001199840  4.195190     9\n",
            "[5]  {mushroom cream sauce,                                                                       \n",
            "      pasta}                 => {escalope}      0.002532996  0.9500000 0.002666311 11.976387    19\n",
            "[6]  {red wine,                                                                                   \n",
            "      soup}                  => {mineral water} 0.001866418  0.9333333 0.001999733  3.915511    14\n",
            "[7]  {eggs,                                                                                       \n",
            "      mineral water,                                                                              \n",
            "      pasta}                 => {shrimp}        0.001333156  0.9090909 0.001466471 12.722185    10\n",
            "[8]  {herb & pepper,                                                                              \n",
            "      mineral water,                                                                              \n",
            "      rice}                  => {ground beef}   0.001333156  0.9090909 0.001466471  9.252498    10\n",
            "[9]  {ground beef,                                                                                \n",
            "      pancakes,                                                                                   \n",
            "      whole wheat rice}      => {mineral water} 0.001333156  0.9090909 0.001466471  3.813809    10\n",
            "[10] {frozen vegetables,                                                                          \n",
            "      milk,                                                                                       \n",
            "      spaghetti,                                                                                  \n",
            "      turkey}                => {mineral water} 0.001199840  0.9000000 0.001333156  3.775671     9\n"
          ]
        }
      ]
    },
    {
      "cell_type": "markdown",
      "metadata": {
        "id": "0z5PBPSCNSrO"
      },
      "source": [
        "It is evident that the most frequently bought commodity is mineral water(5 out of 10 previewed) among the others."
      ]
    },
    {
      "cell_type": "code",
      "metadata": {
        "colab": {
          "base_uri": "https://localhost:8080/"
        },
        "id": "ArIZtCBeOSk9",
        "outputId": "219225d6-9f6b-4d5c-d081-b5233005c013"
      },
      "source": [
        "# inspecting the support items and previeing the first 10\n",
        "#\n",
        "inspect(sort(rules2, by = 'support')[1:10])"
      ],
      "execution_count": 92,
      "outputs": [
        {
          "output_type": "stream",
          "name": "stdout",
          "text": [
            "     lhs                        rhs                 support confidence    coverage      lift count\n",
            "[1]  {frozen vegetables,                                                                          \n",
            "      milk,                                                                                       \n",
            "      soup}                  => {mineral water} 0.003066258  0.7666667 0.003999467  3.216312    23\n",
            "[2]  {cooking oil,                                                                                \n",
            "      eggs,                                                                                       \n",
            "      spaghetti}             => {mineral water} 0.002932942  0.7096774 0.004132782  2.977232    22\n",
            "[3]  {chocolate,                                                                                  \n",
            "      frozen vegetables,                                                                          \n",
            "      olive oil}             => {mineral water} 0.002799627  0.7000000 0.003999467  2.936633    21\n",
            "[4]  {eggs,                                                                                       \n",
            "      milk,                                                                                       \n",
            "      olive oil}             => {mineral water} 0.002666311  0.7142857 0.003732836  2.996564    20\n",
            "[5]  {mushroom cream sauce,                                                                       \n",
            "      pasta}                 => {escalope}      0.002532996  0.9500000 0.002666311 11.976387    19\n",
            "[6]  {frozen vegetables,                                                                          \n",
            "      ground beef,                                                                                \n",
            "      shrimp}                => {spaghetti}     0.002399680  0.7500000 0.003199573  4.307619    18\n",
            "[7]  {nonfat milk,                                                                                \n",
            "      spaghetti}             => {mineral water} 0.002399680  0.7200000 0.003332889  3.020537    18\n",
            "[8]  {pancakes,                                                                                   \n",
            "      soup,                                                                                       \n",
            "      spaghetti}             => {mineral water} 0.002266364  0.7727273 0.002932942  3.241738    17\n",
            "[9]  {frozen vegetables,                                                                          \n",
            "      olive oil,                                                                                  \n",
            "      tomatoes}              => {spaghetti}     0.002133049  0.8421053 0.002532996  4.836624    16\n",
            "[10] {red wine,                                                                                   \n",
            "      turkey}                => {mineral water} 0.002133049  0.7272727 0.002932942  3.051047    16\n"
          ]
        }
      ]
    },
    {
      "cell_type": "code",
      "metadata": {
        "colab": {
          "base_uri": "https://localhost:8080/"
        },
        "id": "1gtGy9bjNwiP",
        "outputId": "875b7a45-384b-4565-a16f-9ab9792deeb6"
      },
      "source": [
        "# Checking the support commodities that were purchased with mineral water\n",
        "#\n",
        "mw<-subset(rules2,subset=rhs %pin% \"mineral water\")\n",
        "# Sorting items by their confidence level\n",
        "sorted_mw<-sort(mw,by=\"confidence\",decreasing = TRUE)\n",
        "# Viewing the top 10 items\n",
        "inspect(sorted_mw[1:10])"
      ],
      "execution_count": 93,
      "outputs": [
        {
          "output_type": "stream",
          "name": "stdout",
          "text": [
            "     lhs                     rhs                 support confidence    coverage     lift count\n",
            "[1]  {ground beef,                                                                            \n",
            "      light cream,                                                                            \n",
            "      olive oil}          => {mineral water} 0.001199840  1.0000000 0.001199840 4.195190     9\n",
            "[2]  {cake,                                                                                   \n",
            "      olive oil,                                                                              \n",
            "      shrimp}             => {mineral water} 0.001199840  1.0000000 0.001199840 4.195190     9\n",
            "[3]  {red wine,                                                                               \n",
            "      soup}               => {mineral water} 0.001866418  0.9333333 0.001999733 3.915511    14\n",
            "[4]  {ground beef,                                                                            \n",
            "      pancakes,                                                                               \n",
            "      whole wheat rice}   => {mineral water} 0.001333156  0.9090909 0.001466471 3.813809    10\n",
            "[5]  {frozen vegetables,                                                                      \n",
            "      milk,                                                                                   \n",
            "      spaghetti,                                                                              \n",
            "      turkey}             => {mineral water} 0.001199840  0.9000000 0.001333156 3.775671     9\n",
            "[6]  {chocolate,                                                                              \n",
            "      frozen vegetables,                                                                      \n",
            "      olive oil,                                                                              \n",
            "      shrimp}             => {mineral water} 0.001199840  0.9000000 0.001333156 3.775671     9\n",
            "[7]  {frozen smoothie,                                                                        \n",
            "      spinach}            => {mineral water} 0.001066524  0.8888889 0.001199840 3.729058     8\n",
            "[8]  {cake,                                                                                   \n",
            "      meatballs,                                                                              \n",
            "      milk}               => {mineral water} 0.001066524  0.8888889 0.001199840 3.729058     8\n",
            "[9]  {cake,                                                                                   \n",
            "      olive oil,                                                                              \n",
            "      whole wheat pasta}  => {mineral water} 0.001066524  0.8888889 0.001199840 3.729058     8\n",
            "[10] {brownies,                                                                               \n",
            "      eggs,                                                                                   \n",
            "      ground beef}        => {mineral water} 0.001066524  0.8888889 0.001199840 3.729058     8\n"
          ]
        }
      ]
    },
    {
      "cell_type": "markdown",
      "metadata": {
        "id": "vzBKXRndRayj"
      },
      "source": [
        "Olive oil,cake and ground beef seem to be the most common commodities bought together with mineral water."
      ]
    },
    {
      "cell_type": "markdown",
      "metadata": {
        "id": "ikd_YFkyvuBX"
      },
      "source": [
        "## Part 4: Anomaly Detection"
      ]
    },
    {
      "cell_type": "markdown",
      "metadata": {
        "id": "fowuY8H_XRaB"
      },
      "source": [
        "I will be using df3"
      ]
    },
    {
      "cell_type": "code",
      "metadata": {
        "id": "T6Cr2Qqav6q5",
        "colab": {
          "base_uri": "https://localhost:8080/"
        },
        "outputId": "f6601d23-e869-44ff-a822-f0fdb77c8f33"
      },
      "source": [
        "# \n",
        "install.packages(\"anomalize\")\n",
        "library(anomalize)"
      ],
      "execution_count": 94,
      "outputs": [
        {
          "output_type": "stream",
          "name": "stderr",
          "text": [
            "Installing package into ‘/usr/local/lib/R/site-library’\n",
            "(as ‘lib’ is unspecified)\n",
            "\n"
          ]
        }
      ]
    },
    {
      "cell_type": "code",
      "metadata": {
        "colab": {
          "base_uri": "https://localhost:8080/",
          "height": 286
        },
        "id": "l0w-yYSDXNgx",
        "outputId": "5027f75e-f632-4d9c-92a2-affcbd1a98b0"
      },
      "source": [
        "# Viewing the dataset\n",
        "#\n",
        "head(df3)"
      ],
      "execution_count": 95,
      "outputs": [
        {
          "output_type": "display_data",
          "data": {
            "text/plain": [
              "  Date      Sales   \n",
              "1 1/5/2019  548.9715\n",
              "2 3/8/2019   80.2200\n",
              "3 3/3/2019  340.5255\n",
              "4 1/27/2019 489.0480\n",
              "5 2/8/2019  634.3785\n",
              "6 3/25/2019 627.6165"
            ],
            "text/latex": "A data.frame: 6 × 2\n\\begin{tabular}{r|ll}\n  & Date & Sales\\\\\n  & <chr> & <dbl>\\\\\n\\hline\n\t1 & 1/5/2019  & 548.9715\\\\\n\t2 & 3/8/2019  &  80.2200\\\\\n\t3 & 3/3/2019  & 340.5255\\\\\n\t4 & 1/27/2019 & 489.0480\\\\\n\t5 & 2/8/2019  & 634.3785\\\\\n\t6 & 3/25/2019 & 627.6165\\\\\n\\end{tabular}\n",
            "text/markdown": "\nA data.frame: 6 × 2\n\n| <!--/--> | Date &lt;chr&gt; | Sales &lt;dbl&gt; |\n|---|---|---|\n| 1 | 1/5/2019  | 548.9715 |\n| 2 | 3/8/2019  |  80.2200 |\n| 3 | 3/3/2019  | 340.5255 |\n| 4 | 1/27/2019 | 489.0480 |\n| 5 | 2/8/2019  | 634.3785 |\n| 6 | 3/25/2019 | 627.6165 |\n\n",
            "text/html": [
              "<table class=\"dataframe\">\n",
              "<caption>A data.frame: 6 × 2</caption>\n",
              "<thead>\n",
              "\t<tr><th></th><th scope=col>Date</th><th scope=col>Sales</th></tr>\n",
              "\t<tr><th></th><th scope=col>&lt;chr&gt;</th><th scope=col>&lt;dbl&gt;</th></tr>\n",
              "</thead>\n",
              "<tbody>\n",
              "\t<tr><th scope=row>1</th><td>1/5/2019 </td><td>548.9715</td></tr>\n",
              "\t<tr><th scope=row>2</th><td>3/8/2019 </td><td> 80.2200</td></tr>\n",
              "\t<tr><th scope=row>3</th><td>3/3/2019 </td><td>340.5255</td></tr>\n",
              "\t<tr><th scope=row>4</th><td>1/27/2019</td><td>489.0480</td></tr>\n",
              "\t<tr><th scope=row>5</th><td>2/8/2019 </td><td>634.3785</td></tr>\n",
              "\t<tr><th scope=row>6</th><td>3/25/2019</td><td>627.6165</td></tr>\n",
              "</tbody>\n",
              "</table>\n"
            ]
          },
          "metadata": {}
        }
      ]
    },
    {
      "cell_type": "code",
      "metadata": {
        "colab": {
          "base_uri": "https://localhost:8080/"
        },
        "id": "2FF2DmxAZVrk",
        "outputId": "7b0b6108-9903-47f7-9a7b-ecc8cdabd890"
      },
      "source": [
        "# checking the structure of df3\n",
        "#\n",
        "str(df3)"
      ],
      "execution_count": 96,
      "outputs": [
        {
          "output_type": "stream",
          "name": "stdout",
          "text": [
            "'data.frame':\t1000 obs. of  2 variables:\n",
            " $ Date : chr  \"1/5/2019\" \"3/8/2019\" \"3/3/2019\" \"1/27/2019\" ...\n",
            " $ Sales: num  549 80.2 340.5 489 634.4 ...\n"
          ]
        }
      ]
    },
    {
      "cell_type": "code",
      "metadata": {
        "colab": {
          "base_uri": "https://localhost:8080/",
          "height": 286
        },
        "id": "UxSVs_XLZP_H",
        "outputId": "c9c6f027-c928-4e00-a94c-e0ccfb322409"
      },
      "source": [
        "# changing the column date to date type\n",
        "#\n",
        "df3$Date <- as.Date(df3$Date, format = \"%m/%d/%Y\")\n",
        "\n",
        "# Viewing the changed dataset\n",
        "#\n",
        "head(df3)"
      ],
      "execution_count": 97,
      "outputs": [
        {
          "output_type": "display_data",
          "data": {
            "text/plain": [
              "  Date       Sales   \n",
              "1 2019-01-05 548.9715\n",
              "2 2019-03-08  80.2200\n",
              "3 2019-03-03 340.5255\n",
              "4 2019-01-27 489.0480\n",
              "5 2019-02-08 634.3785\n",
              "6 2019-03-25 627.6165"
            ],
            "text/latex": "A data.frame: 6 × 2\n\\begin{tabular}{r|ll}\n  & Date & Sales\\\\\n  & <date> & <dbl>\\\\\n\\hline\n\t1 & 2019-01-05 & 548.9715\\\\\n\t2 & 2019-03-08 &  80.2200\\\\\n\t3 & 2019-03-03 & 340.5255\\\\\n\t4 & 2019-01-27 & 489.0480\\\\\n\t5 & 2019-02-08 & 634.3785\\\\\n\t6 & 2019-03-25 & 627.6165\\\\\n\\end{tabular}\n",
            "text/markdown": "\nA data.frame: 6 × 2\n\n| <!--/--> | Date &lt;date&gt; | Sales &lt;dbl&gt; |\n|---|---|---|\n| 1 | 2019-01-05 | 548.9715 |\n| 2 | 2019-03-08 |  80.2200 |\n| 3 | 2019-03-03 | 340.5255 |\n| 4 | 2019-01-27 | 489.0480 |\n| 5 | 2019-02-08 | 634.3785 |\n| 6 | 2019-03-25 | 627.6165 |\n\n",
            "text/html": [
              "<table class=\"dataframe\">\n",
              "<caption>A data.frame: 6 × 2</caption>\n",
              "<thead>\n",
              "\t<tr><th></th><th scope=col>Date</th><th scope=col>Sales</th></tr>\n",
              "\t<tr><th></th><th scope=col>&lt;date&gt;</th><th scope=col>&lt;dbl&gt;</th></tr>\n",
              "</thead>\n",
              "<tbody>\n",
              "\t<tr><th scope=row>1</th><td>2019-01-05</td><td>548.9715</td></tr>\n",
              "\t<tr><th scope=row>2</th><td>2019-03-08</td><td> 80.2200</td></tr>\n",
              "\t<tr><th scope=row>3</th><td>2019-03-03</td><td>340.5255</td></tr>\n",
              "\t<tr><th scope=row>4</th><td>2019-01-27</td><td>489.0480</td></tr>\n",
              "\t<tr><th scope=row>5</th><td>2019-02-08</td><td>634.3785</td></tr>\n",
              "\t<tr><th scope=row>6</th><td>2019-03-25</td><td>627.6165</td></tr>\n",
              "</tbody>\n",
              "</table>\n"
            ]
          },
          "metadata": {}
        }
      ]
    },
    {
      "cell_type": "code",
      "metadata": {
        "id": "rjbzB9lqv7qj"
      },
      "source": [
        "\n",
        "library(tibbletime)\n",
        "# Grouping by Date\n",
        "logs <- read_csv(df3) %>%\n",
        "  group_by(Date) %>%\n",
        "  summarise(Total_Sales = sum(Sales)) %>%\n",
        "  #as_tbl_time(Date)\n",
        "\n",
        "head(logs)"
      ],
      "execution_count": 105,
      "outputs": []
    }
  ]
}