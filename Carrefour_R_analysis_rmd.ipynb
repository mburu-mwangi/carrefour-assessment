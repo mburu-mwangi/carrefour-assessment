{
  "nbformat": 4,
  "nbformat_minor": 0,
  "metadata": {
    "colab": {
      "name": "Carrefour_R_analysis.rmd",
      "provenance": [],
      "collapsed_sections": [],
      "toc_visible": true,
      "authorship_tag": "ABX9TyNXv7Z5ZXjGNKi62vr1rfBy",
      "include_colab_link": true
    },
    "kernelspec": {
      "name": "ir",
      "display_name": "R"
    },
    "language_info": {
      "name": "R"
    }
  },
  "cells": [
    {
      "cell_type": "markdown",
      "metadata": {
        "id": "view-in-github",
        "colab_type": "text"
      },
      "source": [
        "<a href=\"https://colab.research.google.com/github/mburu-mwangi/carrefour-assessment/blob/main/Carrefour_R_analysis_rmd.ipynb\" target=\"_parent\"><img src=\"https://colab.research.google.com/assets/colab-badge.svg\" alt=\"Open In Colab\"/></a>"
      ]
    },
    {
      "cell_type": "markdown",
      "metadata": {
        "id": "kLG2VTrnTvYL"
      },
      "source": [
        "## 1. Defining the Question"
      ]
    },
    {
      "cell_type": "markdown",
      "metadata": {
        "id": "doXWr6-0kv-z"
      },
      "source": [
        "You are a Data analyst at Carrefour Kenya and are currently undertaking a project that will inform the marketing department on the most relevant marketing strategies that will result in the highest no. of sales (total price including tax). Your project has been divided into four parts where you'll explore a recent marketing dataset by performing various unsupervised learning techniques and later providing recommendations based on your insights"
      ]
    },
    {
      "cell_type": "markdown",
      "metadata": {
        "id": "KA7aewlZlRZG"
      },
      "source": [
        "### a) Specifying the Data Analytic Question\n",
        "\n"
      ]
    },
    {
      "cell_type": "markdown",
      "metadata": {
        "id": "bZ8uZTDOlz8e"
      },
      "source": [
        "### b) Defining the Metric for Success"
      ]
    },
    {
      "cell_type": "markdown",
      "metadata": {
        "id": "kBpY9icwl4jZ"
      },
      "source": [
        "### c) Understanding the context "
      ]
    },
    {
      "cell_type": "markdown",
      "metadata": {
        "id": "iUNbvIvnT7ep"
      },
      "source": [
        "## 2. Reading the Data"
      ]
    },
    {
      "cell_type": "markdown",
      "metadata": {
        "id": "7cgZw3mL8ffs"
      },
      "source": [
        "### Importing the various libraries"
      ]
    },
    {
      "cell_type": "code",
      "metadata": {
        "id": "HltoLxwR8qNl"
      },
      "source": [
        "# install.packages(tidyverse)\n",
        "library(tidyverse)\n",
        "# install.packages(lubridate)\n",
        "library(lubridate)"
      ],
      "execution_count": 88,
      "outputs": []
    },
    {
      "cell_type": "markdown",
      "metadata": {
        "id": "dQufR3f08tOm"
      },
      "source": [
        "### Importing the various datasets"
      ]
    },
    {
      "cell_type": "markdown",
      "metadata": {
        "id": "7R73KbOBmPH8"
      },
      "source": [
        " This project is divided into 4 parts thus having 3 datasets(df1,df2,df3)"
      ]
    },
    {
      "cell_type": "code",
      "metadata": {
        "colab": {
          "base_uri": "https://localhost:8080/",
          "height": 410
        },
        "id": "moFi6QLQjyJ8",
        "outputId": "fe0df13a-90a6-4a70-fa51-8924ff67a36f"
      },
      "source": [
        "# Reading the first dataset\n",
        "#\n",
        "\n",
        "df1 <- read.csv(\"http://bit.ly/CarreFourDataset\")\n",
        "head(df1)"
      ],
      "execution_count": null,
      "outputs": [
        {
          "output_type": "display_data",
          "data": {
            "text/plain": [
              "  Invoice.ID  Branch Customer.type Gender Product.line           Unit.price\n",
              "1 750-67-8428 A      Member        Female Health and beauty      74.69     \n",
              "2 226-31-3081 C      Normal        Female Electronic accessories 15.28     \n",
              "3 631-41-3108 A      Normal        Male   Home and lifestyle     46.33     \n",
              "4 123-19-1176 A      Member        Male   Health and beauty      58.22     \n",
              "5 373-73-7910 A      Normal        Male   Sports and travel      86.31     \n",
              "6 699-14-3026 C      Normal        Male   Electronic accessories 85.39     \n",
              "  Quantity Tax     Date      Time  Payment     cogs   gross.margin.percentage\n",
              "1 7        26.1415 1/5/2019  13:08 Ewallet     522.83 4.761905               \n",
              "2 5         3.8200 3/8/2019  10:29 Cash         76.40 4.761905               \n",
              "3 7        16.2155 3/3/2019  13:23 Credit card 324.31 4.761905               \n",
              "4 8        23.2880 1/27/2019 20:33 Ewallet     465.76 4.761905               \n",
              "5 7        30.2085 2/8/2019  10:37 Ewallet     604.17 4.761905               \n",
              "6 7        29.8865 3/25/2019 18:30 Ewallet     597.73 4.761905               \n",
              "  gross.income Rating Total   \n",
              "1 26.1415      9.1    548.9715\n",
              "2  3.8200      9.6     80.2200\n",
              "3 16.2155      7.4    340.5255\n",
              "4 23.2880      8.4    489.0480\n",
              "5 30.2085      5.3    634.3785\n",
              "6 29.8865      4.1    627.6165"
            ],
            "text/latex": "A data.frame: 6 × 16\n\\begin{tabular}{r|llllllllllllllll}\n  & Invoice.ID & Branch & Customer.type & Gender & Product.line & Unit.price & Quantity & Tax & Date & Time & Payment & cogs & gross.margin.percentage & gross.income & Rating & Total\\\\\n  & <chr> & <chr> & <chr> & <chr> & <chr> & <dbl> & <int> & <dbl> & <chr> & <chr> & <chr> & <dbl> & <dbl> & <dbl> & <dbl> & <dbl>\\\\\n\\hline\n\t1 & 750-67-8428 & A & Member & Female & Health and beauty      & 74.69 & 7 & 26.1415 & 1/5/2019  & 13:08 & Ewallet     & 522.83 & 4.761905 & 26.1415 & 9.1 & 548.9715\\\\\n\t2 & 226-31-3081 & C & Normal & Female & Electronic accessories & 15.28 & 5 &  3.8200 & 3/8/2019  & 10:29 & Cash        &  76.40 & 4.761905 &  3.8200 & 9.6 &  80.2200\\\\\n\t3 & 631-41-3108 & A & Normal & Male   & Home and lifestyle     & 46.33 & 7 & 16.2155 & 3/3/2019  & 13:23 & Credit card & 324.31 & 4.761905 & 16.2155 & 7.4 & 340.5255\\\\\n\t4 & 123-19-1176 & A & Member & Male   & Health and beauty      & 58.22 & 8 & 23.2880 & 1/27/2019 & 20:33 & Ewallet     & 465.76 & 4.761905 & 23.2880 & 8.4 & 489.0480\\\\\n\t5 & 373-73-7910 & A & Normal & Male   & Sports and travel      & 86.31 & 7 & 30.2085 & 2/8/2019  & 10:37 & Ewallet     & 604.17 & 4.761905 & 30.2085 & 5.3 & 634.3785\\\\\n\t6 & 699-14-3026 & C & Normal & Male   & Electronic accessories & 85.39 & 7 & 29.8865 & 3/25/2019 & 18:30 & Ewallet     & 597.73 & 4.761905 & 29.8865 & 4.1 & 627.6165\\\\\n\\end{tabular}\n",
            "text/markdown": "\nA data.frame: 6 × 16\n\n| <!--/--> | Invoice.ID &lt;chr&gt; | Branch &lt;chr&gt; | Customer.type &lt;chr&gt; | Gender &lt;chr&gt; | Product.line &lt;chr&gt; | Unit.price &lt;dbl&gt; | Quantity &lt;int&gt; | Tax &lt;dbl&gt; | Date &lt;chr&gt; | Time &lt;chr&gt; | Payment &lt;chr&gt; | cogs &lt;dbl&gt; | gross.margin.percentage &lt;dbl&gt; | gross.income &lt;dbl&gt; | Rating &lt;dbl&gt; | Total &lt;dbl&gt; |\n|---|---|---|---|---|---|---|---|---|---|---|---|---|---|---|---|---|\n| 1 | 750-67-8428 | A | Member | Female | Health and beauty      | 74.69 | 7 | 26.1415 | 1/5/2019  | 13:08 | Ewallet     | 522.83 | 4.761905 | 26.1415 | 9.1 | 548.9715 |\n| 2 | 226-31-3081 | C | Normal | Female | Electronic accessories | 15.28 | 5 |  3.8200 | 3/8/2019  | 10:29 | Cash        |  76.40 | 4.761905 |  3.8200 | 9.6 |  80.2200 |\n| 3 | 631-41-3108 | A | Normal | Male   | Home and lifestyle     | 46.33 | 7 | 16.2155 | 3/3/2019  | 13:23 | Credit card | 324.31 | 4.761905 | 16.2155 | 7.4 | 340.5255 |\n| 4 | 123-19-1176 | A | Member | Male   | Health and beauty      | 58.22 | 8 | 23.2880 | 1/27/2019 | 20:33 | Ewallet     | 465.76 | 4.761905 | 23.2880 | 8.4 | 489.0480 |\n| 5 | 373-73-7910 | A | Normal | Male   | Sports and travel      | 86.31 | 7 | 30.2085 | 2/8/2019  | 10:37 | Ewallet     | 604.17 | 4.761905 | 30.2085 | 5.3 | 634.3785 |\n| 6 | 699-14-3026 | C | Normal | Male   | Electronic accessories | 85.39 | 7 | 29.8865 | 3/25/2019 | 18:30 | Ewallet     | 597.73 | 4.761905 | 29.8865 | 4.1 | 627.6165 |\n\n",
            "text/html": [
              "<table class=\"dataframe\">\n",
              "<caption>A data.frame: 6 × 16</caption>\n",
              "<thead>\n",
              "\t<tr><th></th><th scope=col>Invoice.ID</th><th scope=col>Branch</th><th scope=col>Customer.type</th><th scope=col>Gender</th><th scope=col>Product.line</th><th scope=col>Unit.price</th><th scope=col>Quantity</th><th scope=col>Tax</th><th scope=col>Date</th><th scope=col>Time</th><th scope=col>Payment</th><th scope=col>cogs</th><th scope=col>gross.margin.percentage</th><th scope=col>gross.income</th><th scope=col>Rating</th><th scope=col>Total</th></tr>\n",
              "\t<tr><th></th><th scope=col>&lt;chr&gt;</th><th scope=col>&lt;chr&gt;</th><th scope=col>&lt;chr&gt;</th><th scope=col>&lt;chr&gt;</th><th scope=col>&lt;chr&gt;</th><th scope=col>&lt;dbl&gt;</th><th scope=col>&lt;int&gt;</th><th scope=col>&lt;dbl&gt;</th><th scope=col>&lt;chr&gt;</th><th scope=col>&lt;chr&gt;</th><th scope=col>&lt;chr&gt;</th><th scope=col>&lt;dbl&gt;</th><th scope=col>&lt;dbl&gt;</th><th scope=col>&lt;dbl&gt;</th><th scope=col>&lt;dbl&gt;</th><th scope=col>&lt;dbl&gt;</th></tr>\n",
              "</thead>\n",
              "<tbody>\n",
              "\t<tr><th scope=row>1</th><td>750-67-8428</td><td>A</td><td>Member</td><td>Female</td><td>Health and beauty     </td><td>74.69</td><td>7</td><td>26.1415</td><td>1/5/2019 </td><td>13:08</td><td>Ewallet    </td><td>522.83</td><td>4.761905</td><td>26.1415</td><td>9.1</td><td>548.9715</td></tr>\n",
              "\t<tr><th scope=row>2</th><td>226-31-3081</td><td>C</td><td>Normal</td><td>Female</td><td>Electronic accessories</td><td>15.28</td><td>5</td><td> 3.8200</td><td>3/8/2019 </td><td>10:29</td><td>Cash       </td><td> 76.40</td><td>4.761905</td><td> 3.8200</td><td>9.6</td><td> 80.2200</td></tr>\n",
              "\t<tr><th scope=row>3</th><td>631-41-3108</td><td>A</td><td>Normal</td><td>Male  </td><td>Home and lifestyle    </td><td>46.33</td><td>7</td><td>16.2155</td><td>3/3/2019 </td><td>13:23</td><td>Credit card</td><td>324.31</td><td>4.761905</td><td>16.2155</td><td>7.4</td><td>340.5255</td></tr>\n",
              "\t<tr><th scope=row>4</th><td>123-19-1176</td><td>A</td><td>Member</td><td>Male  </td><td>Health and beauty     </td><td>58.22</td><td>8</td><td>23.2880</td><td>1/27/2019</td><td>20:33</td><td>Ewallet    </td><td>465.76</td><td>4.761905</td><td>23.2880</td><td>8.4</td><td>489.0480</td></tr>\n",
              "\t<tr><th scope=row>5</th><td>373-73-7910</td><td>A</td><td>Normal</td><td>Male  </td><td>Sports and travel     </td><td>86.31</td><td>7</td><td>30.2085</td><td>2/8/2019 </td><td>10:37</td><td>Ewallet    </td><td>604.17</td><td>4.761905</td><td>30.2085</td><td>5.3</td><td>634.3785</td></tr>\n",
              "\t<tr><th scope=row>6</th><td>699-14-3026</td><td>C</td><td>Normal</td><td>Male  </td><td>Electronic accessories</td><td>85.39</td><td>7</td><td>29.8865</td><td>3/25/2019</td><td>18:30</td><td>Ewallet    </td><td>597.73</td><td>4.761905</td><td>29.8865</td><td>4.1</td><td>627.6165</td></tr>\n",
              "</tbody>\n",
              "</table>\n"
            ]
          },
          "metadata": {}
        }
      ]
    },
    {
      "cell_type": "code",
      "metadata": {
        "colab": {
          "base_uri": "https://localhost:8080/",
          "height": 375
        },
        "id": "8k_2Q5uFktVa",
        "outputId": "ebe105c5-1278-45a7-b15c-9ef0ed36e498"
      },
      "source": [
        "# Reading the second dataset\n",
        "#\n",
        "\n",
        "df2 <- read.csv(\"http://bit.ly/SupermarketDatasetII\")\n",
        "head(df2)"
      ],
      "execution_count": null,
      "outputs": [
        {
          "output_type": "display_data",
          "data": {
            "text/plain": [
              "  shrimp            almonds      avocado    vegetables.mix   green.grapes\n",
              "1 burgers           meatballs    eggs                                    \n",
              "2 chutney                                                                \n",
              "3 turkey            avocado                                              \n",
              "4 mineral water     milk         energy bar whole wheat rice green tea   \n",
              "5 low fat yogurt                                                         \n",
              "6 whole wheat pasta french fries                                         \n",
              "  whole.weat.flour yams cottage.cheese energy.drink tomato.juice low.fat.yogurt\n",
              "1                                                                              \n",
              "2                                                                              \n",
              "3                                                                              \n",
              "4                                                                              \n",
              "5                                                                              \n",
              "6                                                                              \n",
              "  green.tea honey salad mineral.water salmon antioxydant.juice frozen.smoothie\n",
              "1                                                                             \n",
              "2                                                                             \n",
              "3                                                                             \n",
              "4                                                                             \n",
              "5                                                                             \n",
              "6                                                                             \n",
              "  spinach olive.oil\n",
              "1         NA       \n",
              "2         NA       \n",
              "3         NA       \n",
              "4         NA       \n",
              "5         NA       \n",
              "6         NA       "
            ],
            "text/latex": "A data.frame: 6 × 20\n\\begin{tabular}{r|llllllllllllllllllll}\n  & shrimp & almonds & avocado & vegetables.mix & green.grapes & whole.weat.flour & yams & cottage.cheese & energy.drink & tomato.juice & low.fat.yogurt & green.tea & honey & salad & mineral.water & salmon & antioxydant.juice & frozen.smoothie & spinach & olive.oil\\\\\n  & <chr> & <chr> & <chr> & <chr> & <chr> & <chr> & <chr> & <chr> & <chr> & <chr> & <chr> & <chr> & <chr> & <chr> & <chr> & <chr> & <chr> & <chr> & <chr> & <lgl>\\\\\n\\hline\n\t1 & burgers           & meatballs    & eggs       &                  &           &  &  &  &  &  &  &  &  &  &  &  &  &  &  & NA\\\\\n\t2 & chutney           &              &            &                  &           &  &  &  &  &  &  &  &  &  &  &  &  &  &  & NA\\\\\n\t3 & turkey            & avocado      &            &                  &           &  &  &  &  &  &  &  &  &  &  &  &  &  &  & NA\\\\\n\t4 & mineral water     & milk         & energy bar & whole wheat rice & green tea &  &  &  &  &  &  &  &  &  &  &  &  &  &  & NA\\\\\n\t5 & low fat yogurt    &              &            &                  &           &  &  &  &  &  &  &  &  &  &  &  &  &  &  & NA\\\\\n\t6 & whole wheat pasta & french fries &            &                  &           &  &  &  &  &  &  &  &  &  &  &  &  &  &  & NA\\\\\n\\end{tabular}\n",
            "text/markdown": "\nA data.frame: 6 × 20\n\n| <!--/--> | shrimp &lt;chr&gt; | almonds &lt;chr&gt; | avocado &lt;chr&gt; | vegetables.mix &lt;chr&gt; | green.grapes &lt;chr&gt; | whole.weat.flour &lt;chr&gt; | yams &lt;chr&gt; | cottage.cheese &lt;chr&gt; | energy.drink &lt;chr&gt; | tomato.juice &lt;chr&gt; | low.fat.yogurt &lt;chr&gt; | green.tea &lt;chr&gt; | honey &lt;chr&gt; | salad &lt;chr&gt; | mineral.water &lt;chr&gt; | salmon &lt;chr&gt; | antioxydant.juice &lt;chr&gt; | frozen.smoothie &lt;chr&gt; | spinach &lt;chr&gt; | olive.oil &lt;lgl&gt; |\n|---|---|---|---|---|---|---|---|---|---|---|---|---|---|---|---|---|---|---|---|---|\n| 1 | burgers           | meatballs    | eggs       | <!----> | <!----> | <!----> | <!----> | <!----> | <!----> | <!----> | <!----> | <!----> | <!----> | <!----> | <!----> | <!----> | <!----> | <!----> | <!----> | NA |\n| 2 | chutney           | <!----> | <!----> | <!----> | <!----> | <!----> | <!----> | <!----> | <!----> | <!----> | <!----> | <!----> | <!----> | <!----> | <!----> | <!----> | <!----> | <!----> | <!----> | NA |\n| 3 | turkey            | avocado      | <!----> | <!----> | <!----> | <!----> | <!----> | <!----> | <!----> | <!----> | <!----> | <!----> | <!----> | <!----> | <!----> | <!----> | <!----> | <!----> | <!----> | NA |\n| 4 | mineral water     | milk         | energy bar | whole wheat rice | green tea | <!----> | <!----> | <!----> | <!----> | <!----> | <!----> | <!----> | <!----> | <!----> | <!----> | <!----> | <!----> | <!----> | <!----> | NA |\n| 5 | low fat yogurt    | <!----> | <!----> | <!----> | <!----> | <!----> | <!----> | <!----> | <!----> | <!----> | <!----> | <!----> | <!----> | <!----> | <!----> | <!----> | <!----> | <!----> | <!----> | NA |\n| 6 | whole wheat pasta | french fries | <!----> | <!----> | <!----> | <!----> | <!----> | <!----> | <!----> | <!----> | <!----> | <!----> | <!----> | <!----> | <!----> | <!----> | <!----> | <!----> | <!----> | NA |\n\n",
            "text/html": [
              "<table class=\"dataframe\">\n",
              "<caption>A data.frame: 6 × 20</caption>\n",
              "<thead>\n",
              "\t<tr><th></th><th scope=col>shrimp</th><th scope=col>almonds</th><th scope=col>avocado</th><th scope=col>vegetables.mix</th><th scope=col>green.grapes</th><th scope=col>whole.weat.flour</th><th scope=col>yams</th><th scope=col>cottage.cheese</th><th scope=col>energy.drink</th><th scope=col>tomato.juice</th><th scope=col>low.fat.yogurt</th><th scope=col>green.tea</th><th scope=col>honey</th><th scope=col>salad</th><th scope=col>mineral.water</th><th scope=col>salmon</th><th scope=col>antioxydant.juice</th><th scope=col>frozen.smoothie</th><th scope=col>spinach</th><th scope=col>olive.oil</th></tr>\n",
              "\t<tr><th></th><th scope=col>&lt;chr&gt;</th><th scope=col>&lt;chr&gt;</th><th scope=col>&lt;chr&gt;</th><th scope=col>&lt;chr&gt;</th><th scope=col>&lt;chr&gt;</th><th scope=col>&lt;chr&gt;</th><th scope=col>&lt;chr&gt;</th><th scope=col>&lt;chr&gt;</th><th scope=col>&lt;chr&gt;</th><th scope=col>&lt;chr&gt;</th><th scope=col>&lt;chr&gt;</th><th scope=col>&lt;chr&gt;</th><th scope=col>&lt;chr&gt;</th><th scope=col>&lt;chr&gt;</th><th scope=col>&lt;chr&gt;</th><th scope=col>&lt;chr&gt;</th><th scope=col>&lt;chr&gt;</th><th scope=col>&lt;chr&gt;</th><th scope=col>&lt;chr&gt;</th><th scope=col>&lt;lgl&gt;</th></tr>\n",
              "</thead>\n",
              "<tbody>\n",
              "\t<tr><th scope=row>1</th><td>burgers          </td><td>meatballs   </td><td>eggs      </td><td>                </td><td>         </td><td></td><td></td><td></td><td></td><td></td><td></td><td></td><td></td><td></td><td></td><td></td><td></td><td></td><td></td><td>NA</td></tr>\n",
              "\t<tr><th scope=row>2</th><td>chutney          </td><td>            </td><td>          </td><td>                </td><td>         </td><td></td><td></td><td></td><td></td><td></td><td></td><td></td><td></td><td></td><td></td><td></td><td></td><td></td><td></td><td>NA</td></tr>\n",
              "\t<tr><th scope=row>3</th><td>turkey           </td><td>avocado     </td><td>          </td><td>                </td><td>         </td><td></td><td></td><td></td><td></td><td></td><td></td><td></td><td></td><td></td><td></td><td></td><td></td><td></td><td></td><td>NA</td></tr>\n",
              "\t<tr><th scope=row>4</th><td>mineral water    </td><td>milk        </td><td>energy bar</td><td>whole wheat rice</td><td>green tea</td><td></td><td></td><td></td><td></td><td></td><td></td><td></td><td></td><td></td><td></td><td></td><td></td><td></td><td></td><td>NA</td></tr>\n",
              "\t<tr><th scope=row>5</th><td>low fat yogurt   </td><td>            </td><td>          </td><td>                </td><td>         </td><td></td><td></td><td></td><td></td><td></td><td></td><td></td><td></td><td></td><td></td><td></td><td></td><td></td><td></td><td>NA</td></tr>\n",
              "\t<tr><th scope=row>6</th><td>whole wheat pasta</td><td>french fries</td><td>          </td><td>                </td><td>         </td><td></td><td></td><td></td><td></td><td></td><td></td><td></td><td></td><td></td><td></td><td></td><td></td><td></td><td></td><td>NA</td></tr>\n",
              "</tbody>\n",
              "</table>\n"
            ]
          },
          "metadata": {}
        }
      ]
    },
    {
      "cell_type": "code",
      "metadata": {
        "colab": {
          "base_uri": "https://localhost:8080/",
          "height": 286
        },
        "id": "XX01UyyCmsHb",
        "outputId": "04885066-4a5c-4a31-f602-a6ca318604bb"
      },
      "source": [
        "# Reading the third dataset\n",
        "#\n",
        "\n",
        "df3 <- read.csv(\"http://bit.ly/CarreFourSalesDataset\")\n",
        "head(df3)"
      ],
      "execution_count": null,
      "outputs": [
        {
          "output_type": "display_data",
          "data": {
            "text/plain": [
              "  Date      Sales   \n",
              "1 1/5/2019  548.9715\n",
              "2 3/8/2019   80.2200\n",
              "3 3/3/2019  340.5255\n",
              "4 1/27/2019 489.0480\n",
              "5 2/8/2019  634.3785\n",
              "6 3/25/2019 627.6165"
            ],
            "text/latex": "A data.frame: 6 × 2\n\\begin{tabular}{r|ll}\n  & Date & Sales\\\\\n  & <chr> & <dbl>\\\\\n\\hline\n\t1 & 1/5/2019  & 548.9715\\\\\n\t2 & 3/8/2019  &  80.2200\\\\\n\t3 & 3/3/2019  & 340.5255\\\\\n\t4 & 1/27/2019 & 489.0480\\\\\n\t5 & 2/8/2019  & 634.3785\\\\\n\t6 & 3/25/2019 & 627.6165\\\\\n\\end{tabular}\n",
            "text/markdown": "\nA data.frame: 6 × 2\n\n| <!--/--> | Date &lt;chr&gt; | Sales &lt;dbl&gt; |\n|---|---|---|\n| 1 | 1/5/2019  | 548.9715 |\n| 2 | 3/8/2019  |  80.2200 |\n| 3 | 3/3/2019  | 340.5255 |\n| 4 | 1/27/2019 | 489.0480 |\n| 5 | 2/8/2019  | 634.3785 |\n| 6 | 3/25/2019 | 627.6165 |\n\n",
            "text/html": [
              "<table class=\"dataframe\">\n",
              "<caption>A data.frame: 6 × 2</caption>\n",
              "<thead>\n",
              "\t<tr><th></th><th scope=col>Date</th><th scope=col>Sales</th></tr>\n",
              "\t<tr><th></th><th scope=col>&lt;chr&gt;</th><th scope=col>&lt;dbl&gt;</th></tr>\n",
              "</thead>\n",
              "<tbody>\n",
              "\t<tr><th scope=row>1</th><td>1/5/2019 </td><td>548.9715</td></tr>\n",
              "\t<tr><th scope=row>2</th><td>3/8/2019 </td><td> 80.2200</td></tr>\n",
              "\t<tr><th scope=row>3</th><td>3/3/2019 </td><td>340.5255</td></tr>\n",
              "\t<tr><th scope=row>4</th><td>1/27/2019</td><td>489.0480</td></tr>\n",
              "\t<tr><th scope=row>5</th><td>2/8/2019 </td><td>634.3785</td></tr>\n",
              "\t<tr><th scope=row>6</th><td>3/25/2019</td><td>627.6165</td></tr>\n",
              "</tbody>\n",
              "</table>\n"
            ]
          },
          "metadata": {}
        }
      ]
    },
    {
      "cell_type": "markdown",
      "metadata": {
        "id": "zWYnHGplvhpe"
      },
      "source": [
        "## Part 1: Dimensionality Reduction"
      ]
    },
    {
      "cell_type": "markdown",
      "metadata": {
        "id": "UbUGjP7qvuhP"
      },
      "source": [
        "For this one I will be using the first dataset(df1)"
      ]
    },
    {
      "cell_type": "code",
      "metadata": {
        "id": "oIFx5WlFnHR3",
        "colab": {
          "base_uri": "https://localhost:8080/",
          "height": 410
        },
        "outputId": "c66ff0a8-5b85-4b2c-ae7c-e0a513ecdec5"
      },
      "source": [
        "# checking the dataset\n",
        "#\n",
        "head(df1)\n"
      ],
      "execution_count": null,
      "outputs": [
        {
          "output_type": "display_data",
          "data": {
            "text/plain": [
              "  Invoice.ID  Branch Customer.type Gender Product.line           Unit.price\n",
              "1 750-67-8428 A      Member        Female Health and beauty      74.69     \n",
              "2 226-31-3081 C      Normal        Female Electronic accessories 15.28     \n",
              "3 631-41-3108 A      Normal        Male   Home and lifestyle     46.33     \n",
              "4 123-19-1176 A      Member        Male   Health and beauty      58.22     \n",
              "5 373-73-7910 A      Normal        Male   Sports and travel      86.31     \n",
              "6 699-14-3026 C      Normal        Male   Electronic accessories 85.39     \n",
              "  Quantity Tax     Date      Time  Payment     cogs   gross.margin.percentage\n",
              "1 7        26.1415 1/5/2019  13:08 Ewallet     522.83 4.761905               \n",
              "2 5         3.8200 3/8/2019  10:29 Cash         76.40 4.761905               \n",
              "3 7        16.2155 3/3/2019  13:23 Credit card 324.31 4.761905               \n",
              "4 8        23.2880 1/27/2019 20:33 Ewallet     465.76 4.761905               \n",
              "5 7        30.2085 2/8/2019  10:37 Ewallet     604.17 4.761905               \n",
              "6 7        29.8865 3/25/2019 18:30 Ewallet     597.73 4.761905               \n",
              "  gross.income Rating Total   \n",
              "1 26.1415      9.1    548.9715\n",
              "2  3.8200      9.6     80.2200\n",
              "3 16.2155      7.4    340.5255\n",
              "4 23.2880      8.4    489.0480\n",
              "5 30.2085      5.3    634.3785\n",
              "6 29.8865      4.1    627.6165"
            ],
            "text/latex": "A data.frame: 6 × 16\n\\begin{tabular}{r|llllllllllllllll}\n  & Invoice.ID & Branch & Customer.type & Gender & Product.line & Unit.price & Quantity & Tax & Date & Time & Payment & cogs & gross.margin.percentage & gross.income & Rating & Total\\\\\n  & <chr> & <chr> & <chr> & <chr> & <chr> & <dbl> & <int> & <dbl> & <chr> & <chr> & <chr> & <dbl> & <dbl> & <dbl> & <dbl> & <dbl>\\\\\n\\hline\n\t1 & 750-67-8428 & A & Member & Female & Health and beauty      & 74.69 & 7 & 26.1415 & 1/5/2019  & 13:08 & Ewallet     & 522.83 & 4.761905 & 26.1415 & 9.1 & 548.9715\\\\\n\t2 & 226-31-3081 & C & Normal & Female & Electronic accessories & 15.28 & 5 &  3.8200 & 3/8/2019  & 10:29 & Cash        &  76.40 & 4.761905 &  3.8200 & 9.6 &  80.2200\\\\\n\t3 & 631-41-3108 & A & Normal & Male   & Home and lifestyle     & 46.33 & 7 & 16.2155 & 3/3/2019  & 13:23 & Credit card & 324.31 & 4.761905 & 16.2155 & 7.4 & 340.5255\\\\\n\t4 & 123-19-1176 & A & Member & Male   & Health and beauty      & 58.22 & 8 & 23.2880 & 1/27/2019 & 20:33 & Ewallet     & 465.76 & 4.761905 & 23.2880 & 8.4 & 489.0480\\\\\n\t5 & 373-73-7910 & A & Normal & Male   & Sports and travel      & 86.31 & 7 & 30.2085 & 2/8/2019  & 10:37 & Ewallet     & 604.17 & 4.761905 & 30.2085 & 5.3 & 634.3785\\\\\n\t6 & 699-14-3026 & C & Normal & Male   & Electronic accessories & 85.39 & 7 & 29.8865 & 3/25/2019 & 18:30 & Ewallet     & 597.73 & 4.761905 & 29.8865 & 4.1 & 627.6165\\\\\n\\end{tabular}\n",
            "text/markdown": "\nA data.frame: 6 × 16\n\n| <!--/--> | Invoice.ID &lt;chr&gt; | Branch &lt;chr&gt; | Customer.type &lt;chr&gt; | Gender &lt;chr&gt; | Product.line &lt;chr&gt; | Unit.price &lt;dbl&gt; | Quantity &lt;int&gt; | Tax &lt;dbl&gt; | Date &lt;chr&gt; | Time &lt;chr&gt; | Payment &lt;chr&gt; | cogs &lt;dbl&gt; | gross.margin.percentage &lt;dbl&gt; | gross.income &lt;dbl&gt; | Rating &lt;dbl&gt; | Total &lt;dbl&gt; |\n|---|---|---|---|---|---|---|---|---|---|---|---|---|---|---|---|---|\n| 1 | 750-67-8428 | A | Member | Female | Health and beauty      | 74.69 | 7 | 26.1415 | 1/5/2019  | 13:08 | Ewallet     | 522.83 | 4.761905 | 26.1415 | 9.1 | 548.9715 |\n| 2 | 226-31-3081 | C | Normal | Female | Electronic accessories | 15.28 | 5 |  3.8200 | 3/8/2019  | 10:29 | Cash        |  76.40 | 4.761905 |  3.8200 | 9.6 |  80.2200 |\n| 3 | 631-41-3108 | A | Normal | Male   | Home and lifestyle     | 46.33 | 7 | 16.2155 | 3/3/2019  | 13:23 | Credit card | 324.31 | 4.761905 | 16.2155 | 7.4 | 340.5255 |\n| 4 | 123-19-1176 | A | Member | Male   | Health and beauty      | 58.22 | 8 | 23.2880 | 1/27/2019 | 20:33 | Ewallet     | 465.76 | 4.761905 | 23.2880 | 8.4 | 489.0480 |\n| 5 | 373-73-7910 | A | Normal | Male   | Sports and travel      | 86.31 | 7 | 30.2085 | 2/8/2019  | 10:37 | Ewallet     | 604.17 | 4.761905 | 30.2085 | 5.3 | 634.3785 |\n| 6 | 699-14-3026 | C | Normal | Male   | Electronic accessories | 85.39 | 7 | 29.8865 | 3/25/2019 | 18:30 | Ewallet     | 597.73 | 4.761905 | 29.8865 | 4.1 | 627.6165 |\n\n",
            "text/html": [
              "<table class=\"dataframe\">\n",
              "<caption>A data.frame: 6 × 16</caption>\n",
              "<thead>\n",
              "\t<tr><th></th><th scope=col>Invoice.ID</th><th scope=col>Branch</th><th scope=col>Customer.type</th><th scope=col>Gender</th><th scope=col>Product.line</th><th scope=col>Unit.price</th><th scope=col>Quantity</th><th scope=col>Tax</th><th scope=col>Date</th><th scope=col>Time</th><th scope=col>Payment</th><th scope=col>cogs</th><th scope=col>gross.margin.percentage</th><th scope=col>gross.income</th><th scope=col>Rating</th><th scope=col>Total</th></tr>\n",
              "\t<tr><th></th><th scope=col>&lt;chr&gt;</th><th scope=col>&lt;chr&gt;</th><th scope=col>&lt;chr&gt;</th><th scope=col>&lt;chr&gt;</th><th scope=col>&lt;chr&gt;</th><th scope=col>&lt;dbl&gt;</th><th scope=col>&lt;int&gt;</th><th scope=col>&lt;dbl&gt;</th><th scope=col>&lt;chr&gt;</th><th scope=col>&lt;chr&gt;</th><th scope=col>&lt;chr&gt;</th><th scope=col>&lt;dbl&gt;</th><th scope=col>&lt;dbl&gt;</th><th scope=col>&lt;dbl&gt;</th><th scope=col>&lt;dbl&gt;</th><th scope=col>&lt;dbl&gt;</th></tr>\n",
              "</thead>\n",
              "<tbody>\n",
              "\t<tr><th scope=row>1</th><td>750-67-8428</td><td>A</td><td>Member</td><td>Female</td><td>Health and beauty     </td><td>74.69</td><td>7</td><td>26.1415</td><td>1/5/2019 </td><td>13:08</td><td>Ewallet    </td><td>522.83</td><td>4.761905</td><td>26.1415</td><td>9.1</td><td>548.9715</td></tr>\n",
              "\t<tr><th scope=row>2</th><td>226-31-3081</td><td>C</td><td>Normal</td><td>Female</td><td>Electronic accessories</td><td>15.28</td><td>5</td><td> 3.8200</td><td>3/8/2019 </td><td>10:29</td><td>Cash       </td><td> 76.40</td><td>4.761905</td><td> 3.8200</td><td>9.6</td><td> 80.2200</td></tr>\n",
              "\t<tr><th scope=row>3</th><td>631-41-3108</td><td>A</td><td>Normal</td><td>Male  </td><td>Home and lifestyle    </td><td>46.33</td><td>7</td><td>16.2155</td><td>3/3/2019 </td><td>13:23</td><td>Credit card</td><td>324.31</td><td>4.761905</td><td>16.2155</td><td>7.4</td><td>340.5255</td></tr>\n",
              "\t<tr><th scope=row>4</th><td>123-19-1176</td><td>A</td><td>Member</td><td>Male  </td><td>Health and beauty     </td><td>58.22</td><td>8</td><td>23.2880</td><td>1/27/2019</td><td>20:33</td><td>Ewallet    </td><td>465.76</td><td>4.761905</td><td>23.2880</td><td>8.4</td><td>489.0480</td></tr>\n",
              "\t<tr><th scope=row>5</th><td>373-73-7910</td><td>A</td><td>Normal</td><td>Male  </td><td>Sports and travel     </td><td>86.31</td><td>7</td><td>30.2085</td><td>2/8/2019 </td><td>10:37</td><td>Ewallet    </td><td>604.17</td><td>4.761905</td><td>30.2085</td><td>5.3</td><td>634.3785</td></tr>\n",
              "\t<tr><th scope=row>6</th><td>699-14-3026</td><td>C</td><td>Normal</td><td>Male  </td><td>Electronic accessories</td><td>85.39</td><td>7</td><td>29.8865</td><td>3/25/2019</td><td>18:30</td><td>Ewallet    </td><td>597.73</td><td>4.761905</td><td>29.8865</td><td>4.1</td><td>627.6165</td></tr>\n",
              "</tbody>\n",
              "</table>\n"
            ]
          },
          "metadata": {}
        }
      ]
    },
    {
      "cell_type": "code",
      "metadata": {
        "colab": {
          "base_uri": "https://localhost:8080/",
          "height": 34
        },
        "id": "a8FIXgH_9fOR",
        "outputId": "a2b55f13-71e5-4d20-b2b5-5107fd8ebf8c"
      },
      "source": [
        "# Checking the dimensions of the datset\n",
        "#\n",
        "dim(df1)"
      ],
      "execution_count": null,
      "outputs": [
        {
          "output_type": "display_data",
          "data": {
            "text/plain": [
              "[1] 1000   16"
            ],
            "text/latex": "\\begin{enumerate*}\n\\item 1000\n\\item 16\n\\end{enumerate*}\n",
            "text/markdown": "1. 1000\n2. 16\n\n\n",
            "text/html": [
              "<style>\n",
              ".list-inline {list-style: none; margin:0; padding: 0}\n",
              ".list-inline>li {display: inline-block}\n",
              ".list-inline>li:not(:last-child)::after {content: \"\\00b7\"; padding: 0 .5ex}\n",
              "</style>\n",
              "<ol class=list-inline><li>1000</li><li>16</li></ol>\n"
            ]
          },
          "metadata": {}
        }
      ]
    },
    {
      "cell_type": "code",
      "metadata": {
        "colab": {
          "base_uri": "https://localhost:8080/"
        },
        "id": "RijOaX7E9mjb",
        "outputId": "63e52ad6-973a-4970-a700-cf96cee0917d"
      },
      "source": [
        "# Checking the structure of the dataset\n",
        "#\n",
        "str(df1)"
      ],
      "execution_count": null,
      "outputs": [
        {
          "output_type": "stream",
          "name": "stdout",
          "text": [
            "'data.frame':\t1000 obs. of  16 variables:\n",
            " $ Invoice.ID             : chr  \"750-67-8428\" \"226-31-3081\" \"631-41-3108\" \"123-19-1176\" ...\n",
            " $ Branch                 : chr  \"A\" \"C\" \"A\" \"A\" ...\n",
            " $ Customer.type          : chr  \"Member\" \"Normal\" \"Normal\" \"Member\" ...\n",
            " $ Gender                 : chr  \"Female\" \"Female\" \"Male\" \"Male\" ...\n",
            " $ Product.line           : chr  \"Health and beauty\" \"Electronic accessories\" \"Home and lifestyle\" \"Health and beauty\" ...\n",
            " $ Unit.price             : num  74.7 15.3 46.3 58.2 86.3 ...\n",
            " $ Quantity               : int  7 5 7 8 7 7 6 10 2 3 ...\n",
            " $ Tax                    : num  26.14 3.82 16.22 23.29 30.21 ...\n",
            " $ Date                   : chr  \"1/5/2019\" \"3/8/2019\" \"3/3/2019\" \"1/27/2019\" ...\n",
            " $ Time                   : chr  \"13:08\" \"10:29\" \"13:23\" \"20:33\" ...\n",
            " $ Payment                : chr  \"Ewallet\" \"Cash\" \"Credit card\" \"Ewallet\" ...\n",
            " $ cogs                   : num  522.8 76.4 324.3 465.8 604.2 ...\n",
            " $ gross.margin.percentage: num  4.76 4.76 4.76 4.76 4.76 ...\n",
            " $ gross.income           : num  26.14 3.82 16.22 23.29 30.21 ...\n",
            " $ Rating                 : num  9.1 9.6 7.4 8.4 5.3 4.1 5.8 8 7.2 5.9 ...\n",
            " $ Total                  : num  549 80.2 340.5 489 634.4 ...\n"
          ]
        }
      ]
    },
    {
      "cell_type": "markdown",
      "metadata": {
        "id": "oBf8FgN0Jm8b"
      },
      "source": [
        "### Tidying the dataset."
      ]
    },
    {
      "cell_type": "code",
      "metadata": {
        "id": "Kz4ImmQmH8e2"
      },
      "source": [
        "# function for calling the numeric and non numeric columns\n",
        "#\n",
        "numeric_cols <- function(df) {\n",
        "  num_cols <- select_if(df, is.numeric)\n",
        "}\n",
        "\n",
        "\n",
        "non_numeric_cols <- function(df) {\n",
        "  no_num_cols <- select_if(df, negate(is.numeric))\n",
        "}\n",
        " "
      ],
      "execution_count": null,
      "outputs": []
    },
    {
      "cell_type": "code",
      "metadata": {
        "colab": {
          "base_uri": "https://localhost:8080/",
          "height": 410
        },
        "id": "Ptnp_xMaqhTL",
        "outputId": "763a0306-b5db-4bdf-ef9a-f95064aa881a"
      },
      "source": [
        "head(df1)"
      ],
      "execution_count": null,
      "outputs": [
        {
          "output_type": "display_data",
          "data": {
            "text/plain": [
              "  Invoice.ID  Branch Customer.type Gender Product.line           Unit.price\n",
              "1 750-67-8428 A      Member        Female Health and beauty      74.69     \n",
              "2 226-31-3081 C      Normal        Female Electronic accessories 15.28     \n",
              "3 631-41-3108 A      Normal        Male   Home and lifestyle     46.33     \n",
              "4 123-19-1176 A      Member        Male   Health and beauty      58.22     \n",
              "5 373-73-7910 A      Normal        Male   Sports and travel      86.31     \n",
              "6 699-14-3026 C      Normal        Male   Electronic accessories 85.39     \n",
              "  Quantity Tax     Date      Time  Payment     cogs   gross.margin.percentage\n",
              "1 7        26.1415 1/5/2019  13:08 Ewallet     522.83 4.761905               \n",
              "2 5         3.8200 3/8/2019  10:29 Cash         76.40 4.761905               \n",
              "3 7        16.2155 3/3/2019  13:23 Credit card 324.31 4.761905               \n",
              "4 8        23.2880 1/27/2019 20:33 Ewallet     465.76 4.761905               \n",
              "5 7        30.2085 2/8/2019  10:37 Ewallet     604.17 4.761905               \n",
              "6 7        29.8865 3/25/2019 18:30 Ewallet     597.73 4.761905               \n",
              "  gross.income Rating Total   \n",
              "1 26.1415      9.1    548.9715\n",
              "2  3.8200      9.6     80.2200\n",
              "3 16.2155      7.4    340.5255\n",
              "4 23.2880      8.4    489.0480\n",
              "5 30.2085      5.3    634.3785\n",
              "6 29.8865      4.1    627.6165"
            ],
            "text/latex": "A data.frame: 6 × 16\n\\begin{tabular}{r|llllllllllllllll}\n  & Invoice.ID & Branch & Customer.type & Gender & Product.line & Unit.price & Quantity & Tax & Date & Time & Payment & cogs & gross.margin.percentage & gross.income & Rating & Total\\\\\n  & <chr> & <chr> & <chr> & <chr> & <chr> & <dbl> & <int> & <dbl> & <chr> & <chr> & <chr> & <dbl> & <dbl> & <dbl> & <dbl> & <dbl>\\\\\n\\hline\n\t1 & 750-67-8428 & A & Member & Female & Health and beauty      & 74.69 & 7 & 26.1415 & 1/5/2019  & 13:08 & Ewallet     & 522.83 & 4.761905 & 26.1415 & 9.1 & 548.9715\\\\\n\t2 & 226-31-3081 & C & Normal & Female & Electronic accessories & 15.28 & 5 &  3.8200 & 3/8/2019  & 10:29 & Cash        &  76.40 & 4.761905 &  3.8200 & 9.6 &  80.2200\\\\\n\t3 & 631-41-3108 & A & Normal & Male   & Home and lifestyle     & 46.33 & 7 & 16.2155 & 3/3/2019  & 13:23 & Credit card & 324.31 & 4.761905 & 16.2155 & 7.4 & 340.5255\\\\\n\t4 & 123-19-1176 & A & Member & Male   & Health and beauty      & 58.22 & 8 & 23.2880 & 1/27/2019 & 20:33 & Ewallet     & 465.76 & 4.761905 & 23.2880 & 8.4 & 489.0480\\\\\n\t5 & 373-73-7910 & A & Normal & Male   & Sports and travel      & 86.31 & 7 & 30.2085 & 2/8/2019  & 10:37 & Ewallet     & 604.17 & 4.761905 & 30.2085 & 5.3 & 634.3785\\\\\n\t6 & 699-14-3026 & C & Normal & Male   & Electronic accessories & 85.39 & 7 & 29.8865 & 3/25/2019 & 18:30 & Ewallet     & 597.73 & 4.761905 & 29.8865 & 4.1 & 627.6165\\\\\n\\end{tabular}\n",
            "text/markdown": "\nA data.frame: 6 × 16\n\n| <!--/--> | Invoice.ID &lt;chr&gt; | Branch &lt;chr&gt; | Customer.type &lt;chr&gt; | Gender &lt;chr&gt; | Product.line &lt;chr&gt; | Unit.price &lt;dbl&gt; | Quantity &lt;int&gt; | Tax &lt;dbl&gt; | Date &lt;chr&gt; | Time &lt;chr&gt; | Payment &lt;chr&gt; | cogs &lt;dbl&gt; | gross.margin.percentage &lt;dbl&gt; | gross.income &lt;dbl&gt; | Rating &lt;dbl&gt; | Total &lt;dbl&gt; |\n|---|---|---|---|---|---|---|---|---|---|---|---|---|---|---|---|---|\n| 1 | 750-67-8428 | A | Member | Female | Health and beauty      | 74.69 | 7 | 26.1415 | 1/5/2019  | 13:08 | Ewallet     | 522.83 | 4.761905 | 26.1415 | 9.1 | 548.9715 |\n| 2 | 226-31-3081 | C | Normal | Female | Electronic accessories | 15.28 | 5 |  3.8200 | 3/8/2019  | 10:29 | Cash        |  76.40 | 4.761905 |  3.8200 | 9.6 |  80.2200 |\n| 3 | 631-41-3108 | A | Normal | Male   | Home and lifestyle     | 46.33 | 7 | 16.2155 | 3/3/2019  | 13:23 | Credit card | 324.31 | 4.761905 | 16.2155 | 7.4 | 340.5255 |\n| 4 | 123-19-1176 | A | Member | Male   | Health and beauty      | 58.22 | 8 | 23.2880 | 1/27/2019 | 20:33 | Ewallet     | 465.76 | 4.761905 | 23.2880 | 8.4 | 489.0480 |\n| 5 | 373-73-7910 | A | Normal | Male   | Sports and travel      | 86.31 | 7 | 30.2085 | 2/8/2019  | 10:37 | Ewallet     | 604.17 | 4.761905 | 30.2085 | 5.3 | 634.3785 |\n| 6 | 699-14-3026 | C | Normal | Male   | Electronic accessories | 85.39 | 7 | 29.8865 | 3/25/2019 | 18:30 | Ewallet     | 597.73 | 4.761905 | 29.8865 | 4.1 | 627.6165 |\n\n",
            "text/html": [
              "<table class=\"dataframe\">\n",
              "<caption>A data.frame: 6 × 16</caption>\n",
              "<thead>\n",
              "\t<tr><th></th><th scope=col>Invoice.ID</th><th scope=col>Branch</th><th scope=col>Customer.type</th><th scope=col>Gender</th><th scope=col>Product.line</th><th scope=col>Unit.price</th><th scope=col>Quantity</th><th scope=col>Tax</th><th scope=col>Date</th><th scope=col>Time</th><th scope=col>Payment</th><th scope=col>cogs</th><th scope=col>gross.margin.percentage</th><th scope=col>gross.income</th><th scope=col>Rating</th><th scope=col>Total</th></tr>\n",
              "\t<tr><th></th><th scope=col>&lt;chr&gt;</th><th scope=col>&lt;chr&gt;</th><th scope=col>&lt;chr&gt;</th><th scope=col>&lt;chr&gt;</th><th scope=col>&lt;chr&gt;</th><th scope=col>&lt;dbl&gt;</th><th scope=col>&lt;int&gt;</th><th scope=col>&lt;dbl&gt;</th><th scope=col>&lt;chr&gt;</th><th scope=col>&lt;chr&gt;</th><th scope=col>&lt;chr&gt;</th><th scope=col>&lt;dbl&gt;</th><th scope=col>&lt;dbl&gt;</th><th scope=col>&lt;dbl&gt;</th><th scope=col>&lt;dbl&gt;</th><th scope=col>&lt;dbl&gt;</th></tr>\n",
              "</thead>\n",
              "<tbody>\n",
              "\t<tr><th scope=row>1</th><td>750-67-8428</td><td>A</td><td>Member</td><td>Female</td><td>Health and beauty     </td><td>74.69</td><td>7</td><td>26.1415</td><td>1/5/2019 </td><td>13:08</td><td>Ewallet    </td><td>522.83</td><td>4.761905</td><td>26.1415</td><td>9.1</td><td>548.9715</td></tr>\n",
              "\t<tr><th scope=row>2</th><td>226-31-3081</td><td>C</td><td>Normal</td><td>Female</td><td>Electronic accessories</td><td>15.28</td><td>5</td><td> 3.8200</td><td>3/8/2019 </td><td>10:29</td><td>Cash       </td><td> 76.40</td><td>4.761905</td><td> 3.8200</td><td>9.6</td><td> 80.2200</td></tr>\n",
              "\t<tr><th scope=row>3</th><td>631-41-3108</td><td>A</td><td>Normal</td><td>Male  </td><td>Home and lifestyle    </td><td>46.33</td><td>7</td><td>16.2155</td><td>3/3/2019 </td><td>13:23</td><td>Credit card</td><td>324.31</td><td>4.761905</td><td>16.2155</td><td>7.4</td><td>340.5255</td></tr>\n",
              "\t<tr><th scope=row>4</th><td>123-19-1176</td><td>A</td><td>Member</td><td>Male  </td><td>Health and beauty     </td><td>58.22</td><td>8</td><td>23.2880</td><td>1/27/2019</td><td>20:33</td><td>Ewallet    </td><td>465.76</td><td>4.761905</td><td>23.2880</td><td>8.4</td><td>489.0480</td></tr>\n",
              "\t<tr><th scope=row>5</th><td>373-73-7910</td><td>A</td><td>Normal</td><td>Male  </td><td>Sports and travel     </td><td>86.31</td><td>7</td><td>30.2085</td><td>2/8/2019 </td><td>10:37</td><td>Ewallet    </td><td>604.17</td><td>4.761905</td><td>30.2085</td><td>5.3</td><td>634.3785</td></tr>\n",
              "\t<tr><th scope=row>6</th><td>699-14-3026</td><td>C</td><td>Normal</td><td>Male  </td><td>Electronic accessories</td><td>85.39</td><td>7</td><td>29.8865</td><td>3/25/2019</td><td>18:30</td><td>Ewallet    </td><td>597.73</td><td>4.761905</td><td>29.8865</td><td>4.1</td><td>627.6165</td></tr>\n",
              "</tbody>\n",
              "</table>\n"
            ]
          },
          "metadata": {}
        }
      ]
    },
    {
      "cell_type": "code",
      "metadata": {
        "colab": {
          "base_uri": "https://localhost:8080/",
          "height": 286
        },
        "id": "XhQEhXhJcgVM",
        "outputId": "ad019f78-075b-4ed0-a9c0-36f181274e16"
      },
      "source": [
        "head(non_numeric_cols(df1))\n"
      ],
      "execution_count": null,
      "outputs": [
        {
          "output_type": "display_data",
          "data": {
            "text/plain": [
              "  Invoice.ID  Branch Customer.type Gender Product.line           Date     \n",
              "1 750-67-8428 A      Member        Female Health and beauty      1/5/2019 \n",
              "2 226-31-3081 C      Normal        Female Electronic accessories 3/8/2019 \n",
              "3 631-41-3108 A      Normal        Male   Home and lifestyle     3/3/2019 \n",
              "4 123-19-1176 A      Member        Male   Health and beauty      1/27/2019\n",
              "5 373-73-7910 A      Normal        Male   Sports and travel      2/8/2019 \n",
              "6 699-14-3026 C      Normal        Male   Electronic accessories 3/25/2019\n",
              "  Time  Payment    \n",
              "1 13:08 Ewallet    \n",
              "2 10:29 Cash       \n",
              "3 13:23 Credit card\n",
              "4 20:33 Ewallet    \n",
              "5 10:37 Ewallet    \n",
              "6 18:30 Ewallet    "
            ],
            "text/latex": "A data.frame: 6 × 8\n\\begin{tabular}{r|llllllll}\n  & Invoice.ID & Branch & Customer.type & Gender & Product.line & Date & Time & Payment\\\\\n  & <chr> & <chr> & <chr> & <chr> & <chr> & <chr> & <chr> & <chr>\\\\\n\\hline\n\t1 & 750-67-8428 & A & Member & Female & Health and beauty      & 1/5/2019  & 13:08 & Ewallet    \\\\\n\t2 & 226-31-3081 & C & Normal & Female & Electronic accessories & 3/8/2019  & 10:29 & Cash       \\\\\n\t3 & 631-41-3108 & A & Normal & Male   & Home and lifestyle     & 3/3/2019  & 13:23 & Credit card\\\\\n\t4 & 123-19-1176 & A & Member & Male   & Health and beauty      & 1/27/2019 & 20:33 & Ewallet    \\\\\n\t5 & 373-73-7910 & A & Normal & Male   & Sports and travel      & 2/8/2019  & 10:37 & Ewallet    \\\\\n\t6 & 699-14-3026 & C & Normal & Male   & Electronic accessories & 3/25/2019 & 18:30 & Ewallet    \\\\\n\\end{tabular}\n",
            "text/markdown": "\nA data.frame: 6 × 8\n\n| <!--/--> | Invoice.ID &lt;chr&gt; | Branch &lt;chr&gt; | Customer.type &lt;chr&gt; | Gender &lt;chr&gt; | Product.line &lt;chr&gt; | Date &lt;chr&gt; | Time &lt;chr&gt; | Payment &lt;chr&gt; |\n|---|---|---|---|---|---|---|---|---|\n| 1 | 750-67-8428 | A | Member | Female | Health and beauty      | 1/5/2019  | 13:08 | Ewallet     |\n| 2 | 226-31-3081 | C | Normal | Female | Electronic accessories | 3/8/2019  | 10:29 | Cash        |\n| 3 | 631-41-3108 | A | Normal | Male   | Home and lifestyle     | 3/3/2019  | 13:23 | Credit card |\n| 4 | 123-19-1176 | A | Member | Male   | Health and beauty      | 1/27/2019 | 20:33 | Ewallet     |\n| 5 | 373-73-7910 | A | Normal | Male   | Sports and travel      | 2/8/2019  | 10:37 | Ewallet     |\n| 6 | 699-14-3026 | C | Normal | Male   | Electronic accessories | 3/25/2019 | 18:30 | Ewallet     |\n\n",
            "text/html": [
              "<table class=\"dataframe\">\n",
              "<caption>A data.frame: 6 × 8</caption>\n",
              "<thead>\n",
              "\t<tr><th></th><th scope=col>Invoice.ID</th><th scope=col>Branch</th><th scope=col>Customer.type</th><th scope=col>Gender</th><th scope=col>Product.line</th><th scope=col>Date</th><th scope=col>Time</th><th scope=col>Payment</th></tr>\n",
              "\t<tr><th></th><th scope=col>&lt;chr&gt;</th><th scope=col>&lt;chr&gt;</th><th scope=col>&lt;chr&gt;</th><th scope=col>&lt;chr&gt;</th><th scope=col>&lt;chr&gt;</th><th scope=col>&lt;chr&gt;</th><th scope=col>&lt;chr&gt;</th><th scope=col>&lt;chr&gt;</th></tr>\n",
              "</thead>\n",
              "<tbody>\n",
              "\t<tr><th scope=row>1</th><td>750-67-8428</td><td>A</td><td>Member</td><td>Female</td><td>Health and beauty     </td><td>1/5/2019 </td><td>13:08</td><td>Ewallet    </td></tr>\n",
              "\t<tr><th scope=row>2</th><td>226-31-3081</td><td>C</td><td>Normal</td><td>Female</td><td>Electronic accessories</td><td>3/8/2019 </td><td>10:29</td><td>Cash       </td></tr>\n",
              "\t<tr><th scope=row>3</th><td>631-41-3108</td><td>A</td><td>Normal</td><td>Male  </td><td>Home and lifestyle    </td><td>3/3/2019 </td><td>13:23</td><td>Credit card</td></tr>\n",
              "\t<tr><th scope=row>4</th><td>123-19-1176</td><td>A</td><td>Member</td><td>Male  </td><td>Health and beauty     </td><td>1/27/2019</td><td>20:33</td><td>Ewallet    </td></tr>\n",
              "\t<tr><th scope=row>5</th><td>373-73-7910</td><td>A</td><td>Normal</td><td>Male  </td><td>Sports and travel     </td><td>2/8/2019 </td><td>10:37</td><td>Ewallet    </td></tr>\n",
              "\t<tr><th scope=row>6</th><td>699-14-3026</td><td>C</td><td>Normal</td><td>Male  </td><td>Electronic accessories</td><td>3/25/2019</td><td>18:30</td><td>Ewallet    </td></tr>\n",
              "</tbody>\n",
              "</table>\n"
            ]
          },
          "metadata": {}
        }
      ]
    },
    {
      "cell_type": "code",
      "metadata": {
        "colab": {
          "base_uri": "https://localhost:8080/",
          "height": 52
        },
        "id": "U9-x7Sk8HnTl",
        "outputId": "91290bff-f1a9-4013-c342-2afbb053b85b"
      },
      "source": [
        "# Checking for missing data\n",
        "#\n",
        "colSums(is.na(df1))"
      ],
      "execution_count": null,
      "outputs": [
        {
          "output_type": "display_data",
          "data": {
            "text/plain": [
              "             Invoice.ID                  Branch           Customer.type \n",
              "                      0                       0                       0 \n",
              "                 Gender            Product.line              Unit.price \n",
              "                      0                       0                       0 \n",
              "               Quantity                     Tax                    Date \n",
              "                      0                       0                       0 \n",
              "                   Time                 Payment                    cogs \n",
              "                      0                       0                       0 \n",
              "gross.margin.percentage            gross.income                  Rating \n",
              "                      0                       0                       0 \n",
              "                  Total \n",
              "                      0 "
            ],
            "text/latex": "\\begin{description*}\n\\item[Invoice.ID] 0\n\\item[Branch] 0\n\\item[Customer.type] 0\n\\item[Gender] 0\n\\item[Product.line] 0\n\\item[Unit.price] 0\n\\item[Quantity] 0\n\\item[Tax] 0\n\\item[Date] 0\n\\item[Time] 0\n\\item[Payment] 0\n\\item[cogs] 0\n\\item[gross.margin.percentage] 0\n\\item[gross.income] 0\n\\item[Rating] 0\n\\item[Total] 0\n\\end{description*}\n",
            "text/markdown": "Invoice.ID\n:   0Branch\n:   0Customer.type\n:   0Gender\n:   0Product.line\n:   0Unit.price\n:   0Quantity\n:   0Tax\n:   0Date\n:   0Time\n:   0Payment\n:   0cogs\n:   0gross.margin.percentage\n:   0gross.income\n:   0Rating\n:   0Total\n:   0\n\n",
            "text/html": [
              "<style>\n",
              ".dl-inline {width: auto; margin:0; padding: 0}\n",
              ".dl-inline>dt, .dl-inline>dd {float: none; width: auto; display: inline-block}\n",
              ".dl-inline>dt::after {content: \":\\0020\"; padding-right: .5ex}\n",
              ".dl-inline>dt:not(:first-of-type) {padding-left: .5ex}\n",
              "</style><dl class=dl-inline><dt>Invoice.ID</dt><dd>0</dd><dt>Branch</dt><dd>0</dd><dt>Customer.type</dt><dd>0</dd><dt>Gender</dt><dd>0</dd><dt>Product.line</dt><dd>0</dd><dt>Unit.price</dt><dd>0</dd><dt>Quantity</dt><dd>0</dd><dt>Tax</dt><dd>0</dd><dt>Date</dt><dd>0</dd><dt>Time</dt><dd>0</dd><dt>Payment</dt><dd>0</dd><dt>cogs</dt><dd>0</dd><dt>gross.margin.percentage</dt><dd>0</dd><dt>gross.income</dt><dd>0</dd><dt>Rating</dt><dd>0</dd><dt>Total</dt><dd>0</dd></dl>\n"
            ]
          },
          "metadata": {}
        }
      ]
    },
    {
      "cell_type": "markdown",
      "metadata": {
        "id": "PzeX6aEiINk5"
      },
      "source": [
        "There is no missing data"
      ]
    },
    {
      "cell_type": "code",
      "metadata": {
        "id": "LE76gk2PsNej"
      },
      "source": [
        "# combining the two columns: \"Date\" and \"Time\" and getting a time stamp\n",
        "#\n",
        "\n",
        "# df1$Timestamp <- as.POSIXct(paste(df1$Date, df1$Time), format = \"%Y-%m-%d %H:%M\") \n",
        "# #head(df1)\n",
        "# str(df1)"
      ],
      "execution_count": null,
      "outputs": []
    },
    {
      "cell_type": "code",
      "metadata": {
        "colab": {
          "base_uri": "https://localhost:8080/",
          "height": 410
        },
        "id": "hQJtWNNpsMyL",
        "outputId": "56365610-cc6a-4440-e84a-673810fd7f14"
      },
      "source": [
        "# Changing the column Timestamp into a timestamp\n",
        "#\n",
        "\n",
        "#df1$Timestamp <- as.(df1$Timestamp , format = \"%Y-%m-%d %H:%M:%S\" )\n",
        "# df1$Timestamp <- as.POSIXct(df1$Timestamp, format = \"%Y-%m-%d %H:%M:%S\")\n",
        "head(df1)"
      ],
      "execution_count": null,
      "outputs": [
        {
          "output_type": "display_data",
          "data": {
            "text/plain": [
              "  Invoice.ID  Branch Customer.type Gender Product.line           Unit.price\n",
              "1 750-67-8428 A      Member        Female Health and beauty      74.69     \n",
              "2 226-31-3081 C      Normal        Female Electronic accessories 15.28     \n",
              "3 631-41-3108 A      Normal        Male   Home and lifestyle     46.33     \n",
              "4 123-19-1176 A      Member        Male   Health and beauty      58.22     \n",
              "5 373-73-7910 A      Normal        Male   Sports and travel      86.31     \n",
              "6 699-14-3026 C      Normal        Male   Electronic accessories 85.39     \n",
              "  Quantity Tax     Date      Time  Payment     cogs   gross.margin.percentage\n",
              "1 7        26.1415 1/5/2019  13:08 Ewallet     522.83 4.761905               \n",
              "2 5         3.8200 3/8/2019  10:29 Cash         76.40 4.761905               \n",
              "3 7        16.2155 3/3/2019  13:23 Credit card 324.31 4.761905               \n",
              "4 8        23.2880 1/27/2019 20:33 Ewallet     465.76 4.761905               \n",
              "5 7        30.2085 2/8/2019  10:37 Ewallet     604.17 4.761905               \n",
              "6 7        29.8865 3/25/2019 18:30 Ewallet     597.73 4.761905               \n",
              "  gross.income Rating Total   \n",
              "1 26.1415      9.1    548.9715\n",
              "2  3.8200      9.6     80.2200\n",
              "3 16.2155      7.4    340.5255\n",
              "4 23.2880      8.4    489.0480\n",
              "5 30.2085      5.3    634.3785\n",
              "6 29.8865      4.1    627.6165"
            ],
            "text/latex": "A data.frame: 6 × 16\n\\begin{tabular}{r|llllllllllllllll}\n  & Invoice.ID & Branch & Customer.type & Gender & Product.line & Unit.price & Quantity & Tax & Date & Time & Payment & cogs & gross.margin.percentage & gross.income & Rating & Total\\\\\n  & <chr> & <chr> & <chr> & <chr> & <chr> & <dbl> & <int> & <dbl> & <chr> & <chr> & <chr> & <dbl> & <dbl> & <dbl> & <dbl> & <dbl>\\\\\n\\hline\n\t1 & 750-67-8428 & A & Member & Female & Health and beauty      & 74.69 & 7 & 26.1415 & 1/5/2019  & 13:08 & Ewallet     & 522.83 & 4.761905 & 26.1415 & 9.1 & 548.9715\\\\\n\t2 & 226-31-3081 & C & Normal & Female & Electronic accessories & 15.28 & 5 &  3.8200 & 3/8/2019  & 10:29 & Cash        &  76.40 & 4.761905 &  3.8200 & 9.6 &  80.2200\\\\\n\t3 & 631-41-3108 & A & Normal & Male   & Home and lifestyle     & 46.33 & 7 & 16.2155 & 3/3/2019  & 13:23 & Credit card & 324.31 & 4.761905 & 16.2155 & 7.4 & 340.5255\\\\\n\t4 & 123-19-1176 & A & Member & Male   & Health and beauty      & 58.22 & 8 & 23.2880 & 1/27/2019 & 20:33 & Ewallet     & 465.76 & 4.761905 & 23.2880 & 8.4 & 489.0480\\\\\n\t5 & 373-73-7910 & A & Normal & Male   & Sports and travel      & 86.31 & 7 & 30.2085 & 2/8/2019  & 10:37 & Ewallet     & 604.17 & 4.761905 & 30.2085 & 5.3 & 634.3785\\\\\n\t6 & 699-14-3026 & C & Normal & Male   & Electronic accessories & 85.39 & 7 & 29.8865 & 3/25/2019 & 18:30 & Ewallet     & 597.73 & 4.761905 & 29.8865 & 4.1 & 627.6165\\\\\n\\end{tabular}\n",
            "text/markdown": "\nA data.frame: 6 × 16\n\n| <!--/--> | Invoice.ID &lt;chr&gt; | Branch &lt;chr&gt; | Customer.type &lt;chr&gt; | Gender &lt;chr&gt; | Product.line &lt;chr&gt; | Unit.price &lt;dbl&gt; | Quantity &lt;int&gt; | Tax &lt;dbl&gt; | Date &lt;chr&gt; | Time &lt;chr&gt; | Payment &lt;chr&gt; | cogs &lt;dbl&gt; | gross.margin.percentage &lt;dbl&gt; | gross.income &lt;dbl&gt; | Rating &lt;dbl&gt; | Total &lt;dbl&gt; |\n|---|---|---|---|---|---|---|---|---|---|---|---|---|---|---|---|---|\n| 1 | 750-67-8428 | A | Member | Female | Health and beauty      | 74.69 | 7 | 26.1415 | 1/5/2019  | 13:08 | Ewallet     | 522.83 | 4.761905 | 26.1415 | 9.1 | 548.9715 |\n| 2 | 226-31-3081 | C | Normal | Female | Electronic accessories | 15.28 | 5 |  3.8200 | 3/8/2019  | 10:29 | Cash        |  76.40 | 4.761905 |  3.8200 | 9.6 |  80.2200 |\n| 3 | 631-41-3108 | A | Normal | Male   | Home and lifestyle     | 46.33 | 7 | 16.2155 | 3/3/2019  | 13:23 | Credit card | 324.31 | 4.761905 | 16.2155 | 7.4 | 340.5255 |\n| 4 | 123-19-1176 | A | Member | Male   | Health and beauty      | 58.22 | 8 | 23.2880 | 1/27/2019 | 20:33 | Ewallet     | 465.76 | 4.761905 | 23.2880 | 8.4 | 489.0480 |\n| 5 | 373-73-7910 | A | Normal | Male   | Sports and travel      | 86.31 | 7 | 30.2085 | 2/8/2019  | 10:37 | Ewallet     | 604.17 | 4.761905 | 30.2085 | 5.3 | 634.3785 |\n| 6 | 699-14-3026 | C | Normal | Male   | Electronic accessories | 85.39 | 7 | 29.8865 | 3/25/2019 | 18:30 | Ewallet     | 597.73 | 4.761905 | 29.8865 | 4.1 | 627.6165 |\n\n",
            "text/html": [
              "<table class=\"dataframe\">\n",
              "<caption>A data.frame: 6 × 16</caption>\n",
              "<thead>\n",
              "\t<tr><th></th><th scope=col>Invoice.ID</th><th scope=col>Branch</th><th scope=col>Customer.type</th><th scope=col>Gender</th><th scope=col>Product.line</th><th scope=col>Unit.price</th><th scope=col>Quantity</th><th scope=col>Tax</th><th scope=col>Date</th><th scope=col>Time</th><th scope=col>Payment</th><th scope=col>cogs</th><th scope=col>gross.margin.percentage</th><th scope=col>gross.income</th><th scope=col>Rating</th><th scope=col>Total</th></tr>\n",
              "\t<tr><th></th><th scope=col>&lt;chr&gt;</th><th scope=col>&lt;chr&gt;</th><th scope=col>&lt;chr&gt;</th><th scope=col>&lt;chr&gt;</th><th scope=col>&lt;chr&gt;</th><th scope=col>&lt;dbl&gt;</th><th scope=col>&lt;int&gt;</th><th scope=col>&lt;dbl&gt;</th><th scope=col>&lt;chr&gt;</th><th scope=col>&lt;chr&gt;</th><th scope=col>&lt;chr&gt;</th><th scope=col>&lt;dbl&gt;</th><th scope=col>&lt;dbl&gt;</th><th scope=col>&lt;dbl&gt;</th><th scope=col>&lt;dbl&gt;</th><th scope=col>&lt;dbl&gt;</th></tr>\n",
              "</thead>\n",
              "<tbody>\n",
              "\t<tr><th scope=row>1</th><td>750-67-8428</td><td>A</td><td>Member</td><td>Female</td><td>Health and beauty     </td><td>74.69</td><td>7</td><td>26.1415</td><td>1/5/2019 </td><td>13:08</td><td>Ewallet    </td><td>522.83</td><td>4.761905</td><td>26.1415</td><td>9.1</td><td>548.9715</td></tr>\n",
              "\t<tr><th scope=row>2</th><td>226-31-3081</td><td>C</td><td>Normal</td><td>Female</td><td>Electronic accessories</td><td>15.28</td><td>5</td><td> 3.8200</td><td>3/8/2019 </td><td>10:29</td><td>Cash       </td><td> 76.40</td><td>4.761905</td><td> 3.8200</td><td>9.6</td><td> 80.2200</td></tr>\n",
              "\t<tr><th scope=row>3</th><td>631-41-3108</td><td>A</td><td>Normal</td><td>Male  </td><td>Home and lifestyle    </td><td>46.33</td><td>7</td><td>16.2155</td><td>3/3/2019 </td><td>13:23</td><td>Credit card</td><td>324.31</td><td>4.761905</td><td>16.2155</td><td>7.4</td><td>340.5255</td></tr>\n",
              "\t<tr><th scope=row>4</th><td>123-19-1176</td><td>A</td><td>Member</td><td>Male  </td><td>Health and beauty     </td><td>58.22</td><td>8</td><td>23.2880</td><td>1/27/2019</td><td>20:33</td><td>Ewallet    </td><td>465.76</td><td>4.761905</td><td>23.2880</td><td>8.4</td><td>489.0480</td></tr>\n",
              "\t<tr><th scope=row>5</th><td>373-73-7910</td><td>A</td><td>Normal</td><td>Male  </td><td>Sports and travel     </td><td>86.31</td><td>7</td><td>30.2085</td><td>2/8/2019 </td><td>10:37</td><td>Ewallet    </td><td>604.17</td><td>4.761905</td><td>30.2085</td><td>5.3</td><td>634.3785</td></tr>\n",
              "\t<tr><th scope=row>6</th><td>699-14-3026</td><td>C</td><td>Normal</td><td>Male  </td><td>Electronic accessories</td><td>85.39</td><td>7</td><td>29.8865</td><td>3/25/2019</td><td>18:30</td><td>Ewallet    </td><td>597.73</td><td>4.761905</td><td>29.8865</td><td>4.1</td><td>627.6165</td></tr>\n",
              "</tbody>\n",
              "</table>\n"
            ]
          },
          "metadata": {}
        }
      ]
    },
    {
      "cell_type": "code",
      "metadata": {
        "id": "a4Jo03BV2lJX",
        "colab": {
          "base_uri": "https://localhost:8080/",
          "height": 118
        },
        "outputId": "2fb31cf2-a9a3-45a6-d07c-fe2f9d10a600"
      },
      "source": [
        "# Checking for duplicates\n",
        "#\n",
        "\n",
        "duplicates <- df1[duplicated(df1), ]\n",
        "duplicates"
      ],
      "execution_count": null,
      "outputs": [
        {
          "output_type": "display_data",
          "data": {
            "text/plain": [
              "     Invoice.ID Branch Customer.type Gender Product.line Unit.price Quantity\n",
              "     Tax Date Time Payment cogs gross.margin.percentage gross.income Rating\n",
              "     Total"
            ],
            "text/latex": "A data.frame: 0 × 16\n\\begin{tabular}{llllllllllllllll}\n Invoice.ID & Branch & Customer.type & Gender & Product.line & Unit.price & Quantity & Tax & Date & Time & Payment & cogs & gross.margin.percentage & gross.income & Rating & Total\\\\\n <chr> & <chr> & <chr> & <chr> & <chr> & <dbl> & <int> & <dbl> & <chr> & <chr> & <chr> & <dbl> & <dbl> & <dbl> & <dbl> & <dbl>\\\\\n\\hline\n\\end{tabular}\n",
            "text/markdown": "\nA data.frame: 0 × 16\n\n| Invoice.ID &lt;chr&gt; | Branch &lt;chr&gt; | Customer.type &lt;chr&gt; | Gender &lt;chr&gt; | Product.line &lt;chr&gt; | Unit.price &lt;dbl&gt; | Quantity &lt;int&gt; | Tax &lt;dbl&gt; | Date &lt;chr&gt; | Time &lt;chr&gt; | Payment &lt;chr&gt; | cogs &lt;dbl&gt; | gross.margin.percentage &lt;dbl&gt; | gross.income &lt;dbl&gt; | Rating &lt;dbl&gt; | Total &lt;dbl&gt; |\n|---|---|---|---|---|---|---|---|---|---|---|---|---|---|---|---|\n\n",
            "text/html": [
              "<table class=\"dataframe\">\n",
              "<caption>A data.frame: 0 × 16</caption>\n",
              "<thead>\n",
              "\t<tr><th scope=col>Invoice.ID</th><th scope=col>Branch</th><th scope=col>Customer.type</th><th scope=col>Gender</th><th scope=col>Product.line</th><th scope=col>Unit.price</th><th scope=col>Quantity</th><th scope=col>Tax</th><th scope=col>Date</th><th scope=col>Time</th><th scope=col>Payment</th><th scope=col>cogs</th><th scope=col>gross.margin.percentage</th><th scope=col>gross.income</th><th scope=col>Rating</th><th scope=col>Total</th></tr>\n",
              "\t<tr><th scope=col>&lt;chr&gt;</th><th scope=col>&lt;chr&gt;</th><th scope=col>&lt;chr&gt;</th><th scope=col>&lt;chr&gt;</th><th scope=col>&lt;chr&gt;</th><th scope=col>&lt;dbl&gt;</th><th scope=col>&lt;int&gt;</th><th scope=col>&lt;dbl&gt;</th><th scope=col>&lt;chr&gt;</th><th scope=col>&lt;chr&gt;</th><th scope=col>&lt;chr&gt;</th><th scope=col>&lt;dbl&gt;</th><th scope=col>&lt;dbl&gt;</th><th scope=col>&lt;dbl&gt;</th><th scope=col>&lt;dbl&gt;</th><th scope=col>&lt;dbl&gt;</th></tr>\n",
              "</thead>\n",
              "<tbody>\n",
              "</tbody>\n",
              "</table>\n"
            ]
          },
          "metadata": {}
        }
      ]
    },
    {
      "cell_type": "markdown",
      "metadata": {
        "id": "i7aB1QLhVysg"
      },
      "source": [
        "There are no duplicates in the data."
      ]
    },
    {
      "cell_type": "code",
      "metadata": {
        "id": "4cG1yvl2V389"
      },
      "source": [
        "# Checking for outliers\n",
        "#\n"
      ],
      "execution_count": null,
      "outputs": []
    },
    {
      "cell_type": "markdown",
      "metadata": {
        "id": "28ZfXLwMWnTL"
      },
      "source": [
        "### Feature Engineering"
      ]
    },
    {
      "cell_type": "code",
      "metadata": {
        "colab": {
          "base_uri": "https://localhost:8080/",
          "height": 410
        },
        "id": "cDPKOH-OW7Qw",
        "outputId": "146ca348-ca62-4d90-f40d-3f03f0f7e858"
      },
      "source": [
        "# previewing the dataset\n",
        "#\n",
        "head(df1)"
      ],
      "execution_count": null,
      "outputs": [
        {
          "output_type": "display_data",
          "data": {
            "text/plain": [
              "  Invoice.ID  Branch Customer.type Gender Product.line           Unit.price\n",
              "1 750-67-8428 A      Member        Female Health and beauty      74.69     \n",
              "2 226-31-3081 C      Normal        Female Electronic accessories 15.28     \n",
              "3 631-41-3108 A      Normal        Male   Home and lifestyle     46.33     \n",
              "4 123-19-1176 A      Member        Male   Health and beauty      58.22     \n",
              "5 373-73-7910 A      Normal        Male   Sports and travel      86.31     \n",
              "6 699-14-3026 C      Normal        Male   Electronic accessories 85.39     \n",
              "  Quantity Tax     Date      Time  Payment     cogs   gross.margin.percentage\n",
              "1 7        26.1415 1/5/2019  13:08 Ewallet     522.83 4.761905               \n",
              "2 5         3.8200 3/8/2019  10:29 Cash         76.40 4.761905               \n",
              "3 7        16.2155 3/3/2019  13:23 Credit card 324.31 4.761905               \n",
              "4 8        23.2880 1/27/2019 20:33 Ewallet     465.76 4.761905               \n",
              "5 7        30.2085 2/8/2019  10:37 Ewallet     604.17 4.761905               \n",
              "6 7        29.8865 3/25/2019 18:30 Ewallet     597.73 4.761905               \n",
              "  gross.income Rating Total   \n",
              "1 26.1415      9.1    548.9715\n",
              "2  3.8200      9.6     80.2200\n",
              "3 16.2155      7.4    340.5255\n",
              "4 23.2880      8.4    489.0480\n",
              "5 30.2085      5.3    634.3785\n",
              "6 29.8865      4.1    627.6165"
            ],
            "text/latex": "A data.frame: 6 × 16\n\\begin{tabular}{r|llllllllllllllll}\n  & Invoice.ID & Branch & Customer.type & Gender & Product.line & Unit.price & Quantity & Tax & Date & Time & Payment & cogs & gross.margin.percentage & gross.income & Rating & Total\\\\\n  & <chr> & <chr> & <chr> & <chr> & <chr> & <dbl> & <int> & <dbl> & <chr> & <chr> & <chr> & <dbl> & <dbl> & <dbl> & <dbl> & <dbl>\\\\\n\\hline\n\t1 & 750-67-8428 & A & Member & Female & Health and beauty      & 74.69 & 7 & 26.1415 & 1/5/2019  & 13:08 & Ewallet     & 522.83 & 4.761905 & 26.1415 & 9.1 & 548.9715\\\\\n\t2 & 226-31-3081 & C & Normal & Female & Electronic accessories & 15.28 & 5 &  3.8200 & 3/8/2019  & 10:29 & Cash        &  76.40 & 4.761905 &  3.8200 & 9.6 &  80.2200\\\\\n\t3 & 631-41-3108 & A & Normal & Male   & Home and lifestyle     & 46.33 & 7 & 16.2155 & 3/3/2019  & 13:23 & Credit card & 324.31 & 4.761905 & 16.2155 & 7.4 & 340.5255\\\\\n\t4 & 123-19-1176 & A & Member & Male   & Health and beauty      & 58.22 & 8 & 23.2880 & 1/27/2019 & 20:33 & Ewallet     & 465.76 & 4.761905 & 23.2880 & 8.4 & 489.0480\\\\\n\t5 & 373-73-7910 & A & Normal & Male   & Sports and travel      & 86.31 & 7 & 30.2085 & 2/8/2019  & 10:37 & Ewallet     & 604.17 & 4.761905 & 30.2085 & 5.3 & 634.3785\\\\\n\t6 & 699-14-3026 & C & Normal & Male   & Electronic accessories & 85.39 & 7 & 29.8865 & 3/25/2019 & 18:30 & Ewallet     & 597.73 & 4.761905 & 29.8865 & 4.1 & 627.6165\\\\\n\\end{tabular}\n",
            "text/markdown": "\nA data.frame: 6 × 16\n\n| <!--/--> | Invoice.ID &lt;chr&gt; | Branch &lt;chr&gt; | Customer.type &lt;chr&gt; | Gender &lt;chr&gt; | Product.line &lt;chr&gt; | Unit.price &lt;dbl&gt; | Quantity &lt;int&gt; | Tax &lt;dbl&gt; | Date &lt;chr&gt; | Time &lt;chr&gt; | Payment &lt;chr&gt; | cogs &lt;dbl&gt; | gross.margin.percentage &lt;dbl&gt; | gross.income &lt;dbl&gt; | Rating &lt;dbl&gt; | Total &lt;dbl&gt; |\n|---|---|---|---|---|---|---|---|---|---|---|---|---|---|---|---|---|\n| 1 | 750-67-8428 | A | Member | Female | Health and beauty      | 74.69 | 7 | 26.1415 | 1/5/2019  | 13:08 | Ewallet     | 522.83 | 4.761905 | 26.1415 | 9.1 | 548.9715 |\n| 2 | 226-31-3081 | C | Normal | Female | Electronic accessories | 15.28 | 5 |  3.8200 | 3/8/2019  | 10:29 | Cash        |  76.40 | 4.761905 |  3.8200 | 9.6 |  80.2200 |\n| 3 | 631-41-3108 | A | Normal | Male   | Home and lifestyle     | 46.33 | 7 | 16.2155 | 3/3/2019  | 13:23 | Credit card | 324.31 | 4.761905 | 16.2155 | 7.4 | 340.5255 |\n| 4 | 123-19-1176 | A | Member | Male   | Health and beauty      | 58.22 | 8 | 23.2880 | 1/27/2019 | 20:33 | Ewallet     | 465.76 | 4.761905 | 23.2880 | 8.4 | 489.0480 |\n| 5 | 373-73-7910 | A | Normal | Male   | Sports and travel      | 86.31 | 7 | 30.2085 | 2/8/2019  | 10:37 | Ewallet     | 604.17 | 4.761905 | 30.2085 | 5.3 | 634.3785 |\n| 6 | 699-14-3026 | C | Normal | Male   | Electronic accessories | 85.39 | 7 | 29.8865 | 3/25/2019 | 18:30 | Ewallet     | 597.73 | 4.761905 | 29.8865 | 4.1 | 627.6165 |\n\n",
            "text/html": [
              "<table class=\"dataframe\">\n",
              "<caption>A data.frame: 6 × 16</caption>\n",
              "<thead>\n",
              "\t<tr><th></th><th scope=col>Invoice.ID</th><th scope=col>Branch</th><th scope=col>Customer.type</th><th scope=col>Gender</th><th scope=col>Product.line</th><th scope=col>Unit.price</th><th scope=col>Quantity</th><th scope=col>Tax</th><th scope=col>Date</th><th scope=col>Time</th><th scope=col>Payment</th><th scope=col>cogs</th><th scope=col>gross.margin.percentage</th><th scope=col>gross.income</th><th scope=col>Rating</th><th scope=col>Total</th></tr>\n",
              "\t<tr><th></th><th scope=col>&lt;chr&gt;</th><th scope=col>&lt;chr&gt;</th><th scope=col>&lt;chr&gt;</th><th scope=col>&lt;chr&gt;</th><th scope=col>&lt;chr&gt;</th><th scope=col>&lt;dbl&gt;</th><th scope=col>&lt;int&gt;</th><th scope=col>&lt;dbl&gt;</th><th scope=col>&lt;chr&gt;</th><th scope=col>&lt;chr&gt;</th><th scope=col>&lt;chr&gt;</th><th scope=col>&lt;dbl&gt;</th><th scope=col>&lt;dbl&gt;</th><th scope=col>&lt;dbl&gt;</th><th scope=col>&lt;dbl&gt;</th><th scope=col>&lt;dbl&gt;</th></tr>\n",
              "</thead>\n",
              "<tbody>\n",
              "\t<tr><th scope=row>1</th><td>750-67-8428</td><td>A</td><td>Member</td><td>Female</td><td>Health and beauty     </td><td>74.69</td><td>7</td><td>26.1415</td><td>1/5/2019 </td><td>13:08</td><td>Ewallet    </td><td>522.83</td><td>4.761905</td><td>26.1415</td><td>9.1</td><td>548.9715</td></tr>\n",
              "\t<tr><th scope=row>2</th><td>226-31-3081</td><td>C</td><td>Normal</td><td>Female</td><td>Electronic accessories</td><td>15.28</td><td>5</td><td> 3.8200</td><td>3/8/2019 </td><td>10:29</td><td>Cash       </td><td> 76.40</td><td>4.761905</td><td> 3.8200</td><td>9.6</td><td> 80.2200</td></tr>\n",
              "\t<tr><th scope=row>3</th><td>631-41-3108</td><td>A</td><td>Normal</td><td>Male  </td><td>Home and lifestyle    </td><td>46.33</td><td>7</td><td>16.2155</td><td>3/3/2019 </td><td>13:23</td><td>Credit card</td><td>324.31</td><td>4.761905</td><td>16.2155</td><td>7.4</td><td>340.5255</td></tr>\n",
              "\t<tr><th scope=row>4</th><td>123-19-1176</td><td>A</td><td>Member</td><td>Male  </td><td>Health and beauty     </td><td>58.22</td><td>8</td><td>23.2880</td><td>1/27/2019</td><td>20:33</td><td>Ewallet    </td><td>465.76</td><td>4.761905</td><td>23.2880</td><td>8.4</td><td>489.0480</td></tr>\n",
              "\t<tr><th scope=row>5</th><td>373-73-7910</td><td>A</td><td>Normal</td><td>Male  </td><td>Sports and travel     </td><td>86.31</td><td>7</td><td>30.2085</td><td>2/8/2019 </td><td>10:37</td><td>Ewallet    </td><td>604.17</td><td>4.761905</td><td>30.2085</td><td>5.3</td><td>634.3785</td></tr>\n",
              "\t<tr><th scope=row>6</th><td>699-14-3026</td><td>C</td><td>Normal</td><td>Male  </td><td>Electronic accessories</td><td>85.39</td><td>7</td><td>29.8865</td><td>3/25/2019</td><td>18:30</td><td>Ewallet    </td><td>597.73</td><td>4.761905</td><td>29.8865</td><td>4.1</td><td>627.6165</td></tr>\n",
              "</tbody>\n",
              "</table>\n"
            ]
          },
          "metadata": {}
        }
      ]
    },
    {
      "cell_type": "code",
      "metadata": {
        "id": "Hi7g_uckWmjq"
      },
      "source": [
        "# Label encoding\n",
        "#\n",
        "# for column \"Branch\"\n",
        "#\n",
        "df1$Branch <- ifelse(df1$Branch == \"A\", 0, ifelse(df1$Branch == \"C\",1,2))\n",
        "\n",
        "# for column \"Customer.type\"\n",
        "#\n",
        "df1$Customer.type <- ifelse(df1$Customer.type == \"Member\",0,1)\n",
        "\n",
        "# for column \"Gender\"\n",
        "#\n",
        "df1$Gender <- ifelse(df1$Gender == \"Female\",0,1)\n",
        "\n",
        "# for column \"Payment\"\n",
        "#\n",
        "df1$Payment <- ifelse(df1$Payment == \"Ewallet\",0, ifelse(df1$Payment == \"Cash\" ,1,2))\n",
        "\n",
        "# for column \"Product.line\"\n",
        "#\n",
        "df1$Product.line <- ifelse(df1$Product.line == \"Health and beauty\",0, ifelse(df1$Product.line == \"Electronic accessories\",1, ifelse(df1$Product.line == \"Sports and travel\",2, ifelse(df1$Product.line == \"Food and beverages\",3,4))))"
      ],
      "execution_count": 90,
      "outputs": []
    },
    {
      "cell_type": "code",
      "metadata": {
        "id": "e6BID2NX9jbY",
        "colab": {
          "base_uri": "https://localhost:8080/",
          "height": 34
        },
        "outputId": "fd9bdb46-723c-4ed9-c56c-9f5fafaa1785"
      },
      "source": [
        "dim(df1)\n",
        "\n",
        "# label <- LabelEncoder$new()\n",
        "# df1$Product.line <- label$fit_transform(df1$Product.line)\n"
      ],
      "execution_count": 92,
      "outputs": [
        {
          "output_type": "display_data",
          "data": {
            "text/plain": [
              "[1] 1000   16"
            ],
            "text/latex": "\\begin{enumerate*}\n\\item 1000\n\\item 16\n\\end{enumerate*}\n",
            "text/markdown": "1. 1000\n2. 16\n\n\n",
            "text/html": [
              "<style>\n",
              ".list-inline {list-style: none; margin:0; padding: 0}\n",
              ".list-inline>li {display: inline-block}\n",
              ".list-inline>li:not(:last-child)::after {content: \"\\00b7\"; padding: 0 .5ex}\n",
              "</style>\n",
              "<ol class=list-inline><li>1000</li><li>16</li></ol>\n"
            ]
          },
          "metadata": {}
        }
      ]
    },
    {
      "cell_type": "code",
      "metadata": {
        "id": "adNjaa1VebT2",
        "colab": {
          "base_uri": "https://localhost:8080/",
          "height": 190
        },
        "outputId": "1a9bd787-2fac-4f6b-8e62-7b1d04bbe4b9"
      },
      "source": [
        "unique(as.factor(df1$Branch))\n",
        "unique(as.factor(df1$Gender))\n",
        "unique(as.factor(df1$Customer.type))\n",
        "unique(as.factor(df1$Payment))\n",
        "unique(as.factor(df1$Product.line))"
      ],
      "execution_count": 91,
      "outputs": [
        {
          "output_type": "display_data",
          "data": {
            "text/plain": [
              "[1] 2\n",
              "Levels: 2"
            ],
            "text/latex": "2\n\\emph{Levels}: '2'",
            "text/markdown": "2\n**Levels**: '2'",
            "text/html": [
              "2\n",
              "<details>\n",
              "\t<summary style=display:list-item;cursor:pointer>\n",
              "\t\t<strong>Levels</strong>:\n",
              "\t</summary>\n",
              "\t'2'\n",
              "</details>"
            ]
          },
          "metadata": {}
        },
        {
          "output_type": "display_data",
          "data": {
            "text/plain": [
              "[1] 1\n",
              "Levels: 1"
            ],
            "text/latex": "1\n\\emph{Levels}: '1'",
            "text/markdown": "1\n**Levels**: '1'",
            "text/html": [
              "1\n",
              "<details>\n",
              "\t<summary style=display:list-item;cursor:pointer>\n",
              "\t\t<strong>Levels</strong>:\n",
              "\t</summary>\n",
              "\t'1'\n",
              "</details>"
            ]
          },
          "metadata": {}
        },
        {
          "output_type": "display_data",
          "data": {
            "text/plain": [
              "[1] 1\n",
              "Levels: 1"
            ],
            "text/latex": "1\n\\emph{Levels}: '1'",
            "text/markdown": "1\n**Levels**: '1'",
            "text/html": [
              "1\n",
              "<details>\n",
              "\t<summary style=display:list-item;cursor:pointer>\n",
              "\t\t<strong>Levels</strong>:\n",
              "\t</summary>\n",
              "\t'1'\n",
              "</details>"
            ]
          },
          "metadata": {}
        },
        {
          "output_type": "display_data",
          "data": {
            "text/plain": [
              "[1] 2\n",
              "Levels: 2"
            ],
            "text/latex": "2\n\\emph{Levels}: '2'",
            "text/markdown": "2\n**Levels**: '2'",
            "text/html": [
              "2\n",
              "<details>\n",
              "\t<summary style=display:list-item;cursor:pointer>\n",
              "\t\t<strong>Levels</strong>:\n",
              "\t</summary>\n",
              "\t'2'\n",
              "</details>"
            ]
          },
          "metadata": {}
        },
        {
          "output_type": "display_data",
          "data": {
            "text/plain": [
              "[1] 0 1 4 2 3\n",
              "Levels: 0 1 2 3 4"
            ],
            "text/latex": "\\begin{enumerate*}\n\\item 0\n\\item 1\n\\item 4\n\\item 2\n\\item 3\n\\end{enumerate*}\n\n\\emph{Levels}: \\begin{enumerate*}\n\\item '0'\n\\item '1'\n\\item '2'\n\\item '3'\n\\item '4'\n\\end{enumerate*}\n",
            "text/markdown": "1. 0\n2. 1\n3. 4\n4. 2\n5. 3\n\n\n\n**Levels**: 1. '0'\n2. '1'\n3. '2'\n4. '3'\n5. '4'\n\n\n",
            "text/html": [
              "<style>\n",
              ".list-inline {list-style: none; margin:0; padding: 0}\n",
              ".list-inline>li {display: inline-block}\n",
              ".list-inline>li:not(:last-child)::after {content: \"\\00b7\"; padding: 0 .5ex}\n",
              "</style>\n",
              "<ol class=list-inline><li>0</li><li>1</li><li>4</li><li>2</li><li>3</li></ol>\n",
              "\n",
              "<details>\n",
              "\t<summary style=display:list-item;cursor:pointer>\n",
              "\t\t<strong>Levels</strong>:\n",
              "\t</summary>\n",
              "\t<style>\n",
              "\t.list-inline {list-style: none; margin:0; padding: 0}\n",
              "\t.list-inline>li {display: inline-block}\n",
              "\t.list-inline>li:not(:last-child)::after {content: \"\\00b7\"; padding: 0 .5ex}\n",
              "\t</style>\n",
              "\t<ol class=list-inline><li>'0'</li><li>'1'</li><li>'2'</li><li>'3'</li><li>'4'</li></ol>\n",
              "</details>"
            ]
          },
          "metadata": {}
        }
      ]
    },
    {
      "cell_type": "markdown",
      "metadata": {
        "id": "3Xnxy1dKRfDl"
      },
      "source": [
        "### Implementing the task."
      ]
    },
    {
      "cell_type": "code",
      "metadata": {
        "colab": {
          "base_uri": "https://localhost:8080/",
          "height": 165
        },
        "id": "NIjNbD9fQZk9",
        "outputId": "db9f693c-21e5-4fb6-a5b4-1d3465cb4341"
      },
      "source": [
        "df1.pca <- prcomp(df1[,c(2:8,11:16)], center = TRUE, scale. = TRUE)\n",
        "summary(df1.pca)"
      ],
      "execution_count": 95,
      "outputs": [
        {
          "output_type": "error",
          "ename": "ERROR",
          "evalue": "ignored",
          "traceback": [
            "Error in prcomp.default(df1[, c(2:8, 11:16)], center = TRUE, scale. = TRUE): cannot rescale a constant/zero column to unit variance\nTraceback:\n",
            "1. prcomp(df1[, c(2:8, 11:16)], center = TRUE, scale. = TRUE)",
            "2. prcomp.default(df1[, c(2:8, 11:16)], center = TRUE, scale. = TRUE)",
            "3. stop(\"cannot rescale a constant/zero column to unit variance\")"
          ]
        }
      ]
    },
    {
      "cell_type": "code",
      "metadata": {
        "id": "UW2-rZE2Sy-3"
      },
      "source": [
        ""
      ],
      "execution_count": null,
      "outputs": []
    },
    {
      "cell_type": "markdown",
      "metadata": {
        "id": "Sv2hqEYcS2M7"
      },
      "source": [
        "## Part 2: Feature Selection"
      ]
    },
    {
      "cell_type": "code",
      "metadata": {
        "id": "upG4HfUxTNaw"
      },
      "source": [
        ""
      ],
      "execution_count": null,
      "outputs": []
    }
  ]
}